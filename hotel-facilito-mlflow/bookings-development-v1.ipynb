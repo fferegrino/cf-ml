{
 "cells": [
  {
   "cell_type": "markdown",
   "id": "68000e2a-e351-4946-b982-25dc17c76106",
   "metadata": {},
   "source": [
    "# Hotel Facilito – Desarrollo"
   ]
  },
  {
   "cell_type": "markdown",
   "id": "e3528de5-5762-4ca6-98ec-2033175fb500",
   "metadata": {},
   "source": [
    "![](./images/header.png)\n",
    "\n",
    "Estábamos creando un modelo para predecir (y calcular las probabilidades) de que un cliente cancelara su reserva de hotel. El resultado es el código que tenemos a continuación.\n",
    "\n",
    " > Este notebook es la primera versión, con código \"sucio\" como lo dejamos en la sesión anterior"
   ]
  },
  {
   "cell_type": "code",
   "execution_count": null,
   "id": "61187393-4677-4f03-a3dd-43be2ef77740",
   "metadata": {},
   "outputs": [],
   "source": [
    "import pandas as pd"
   ]
  },
  {
   "cell_type": "code",
   "execution_count": null,
   "id": "8f2de993-05a7-4b33-b711-df09ced1c691",
   "metadata": {},
   "outputs": [],
   "source": [
    "hotel_bookings = pd.read_csv(\"data/hotel_bookings_training.csv\")"
   ]
  },
  {
   "cell_type": "markdown",
   "id": "d78980f6-b4c6-4b2d-8bb1-261bd091ae97",
   "metadata": {},
   "source": [
    "## Elimina columnas innecesarias / peligrosas"
   ]
  },
  {
   "cell_type": "code",
   "execution_count": null,
   "id": "1ea8642a-b7c2-4656-8c55-326401d8d512",
   "metadata": {},
   "outputs": [],
   "source": [
    "# Remove personal information of customers\n",
    "hotel_bookings = hotel_bookings.drop(['name', 'email', 'phone-number', 'credit_card'], axis=1)\n",
    "\n",
    "# Avoid data leakage\n",
    "hotel_bookings = hotel_bookings.drop(['reservation_status', 'reservation_status_date'], axis=1)"
   ]
  },
  {
   "cell_type": "code",
   "execution_count": null,
   "id": "8e18980f-1804-45c0-ac4e-c5cd5a0534fd",
   "metadata": {},
   "outputs": [],
   "source": [
    "# Convert objects to strings\n",
    "object_columns = hotel_bookings.select_dtypes('object').columns\n",
    "hotel_bookings[object_columns] = hotel_bookings[object_columns].astype(str)"
   ]
  },
  {
   "cell_type": "markdown",
   "id": "2a338899-2d62-4a4a-87d3-9c84f76d7810",
   "metadata": {},
   "source": [
    "## Separa columnas y divide el dataset"
   ]
  },
  {
   "cell_type": "code",
   "execution_count": null,
   "id": "a28e2691-c4e3-4063-848b-413400d9d7b5",
   "metadata": {},
   "outputs": [],
   "source": [
    "is_canceled = hotel_bookings['is_canceled'].copy()\n",
    "hotel_data = hotel_bookings.drop(['is_canceled'], axis=1)"
   ]
  },
  {
   "cell_type": "code",
   "execution_count": null,
   "id": "06845de7-f72a-471d-99cc-3efcef5b218a",
   "metadata": {},
   "outputs": [],
   "source": [
    "from sklearn.model_selection import train_test_split\n",
    "\n",
    "train_proportion = 0.60\n",
    "test_proportion = 0.5\n",
    "\n",
    "original_count = len(hotel_bookings)\n",
    "training_size = int(original_count * train_proportion)\n",
    "test_size = int((1 - train_proportion) * test_proportion * training_size)\n",
    "\n",
    "train_x, rest_x, train_y, rest_y = train_test_split(hotel_data, is_canceled, train_size=training_size)\n",
    "test_x, validate_x, test_y, validate_y = train_test_split(rest_x, rest_y, train_size=test_size)"
   ]
  },
  {
   "cell_type": "markdown",
   "id": "e1de1c87-3b69-48c4-9f5e-09e3c314757c",
   "metadata": {},
   "source": [
    "## Creación del pipeline de featurización y entrenamiento"
   ]
  },
  {
   "cell_type": "code",
   "execution_count": null,
   "id": "ba45bc83-aa51-421e-b4b9-1fbf78f13633",
   "metadata": {},
   "outputs": [],
   "source": [
    "from sklearn.preprocessing import OneHotEncoder, Binarizer, RobustScaler\n",
    "from sklearn.compose import ColumnTransformer\n",
    "from sklearn.pipeline import FeatureUnion, Pipeline"
   ]
  },
  {
   "cell_type": "code",
   "execution_count": null,
   "id": "d5c0bd91-a02a-4598-94d8-ed651521e550",
   "metadata": {},
   "outputs": [],
   "source": [
    "# One-hot encoder\n",
    "\n",
    "internal_one_hot_encoding = OneHotEncoder(sparse_output=False, handle_unknown=\"ignore\")\n",
    "columns_to_encode = [\n",
    "    \"hotel\",\n",
    "    \"meal\", \n",
    "    \"distribution_channel\", \n",
    "    \"reserved_room_type\", \n",
    "    \"assigned_room_type\", \n",
    "    \"customer_type\"\n",
    "]\n",
    "\n",
    "one_hot_encoding = ColumnTransformer([\n",
    "    (\n",
    "        'one_hot_encode',\n",
    "        internal_one_hot_encoding,\n",
    "        columns_to_encode\n",
    "    )\n",
    "])"
   ]
  },
  {
   "cell_type": "code",
   "execution_count": null,
   "id": "a066875a-8b7a-4c29-b49a-e2b58005d6f6",
   "metadata": {},
   "outputs": [],
   "source": [
    "# Binarizer\n",
    "\n",
    "internal_binarizer = Binarizer()\n",
    "columns_to_binarize = [\n",
    "    \"total_of_special_requests\", \n",
    "    \"required_car_parking_spaces\", \n",
    "    \"booking_changes\", \n",
    "    \"previous_bookings_not_canceled\", \n",
    "    \"previous_cancellations\",\n",
    "]\n",
    "internal_encoder_binarizer = OneHotEncoder(sparse_output=False, handle_unknown=\"ignore\")\n",
    "\n",
    "binarizer = ColumnTransformer([\n",
    "    (\n",
    "        'binarizer',\n",
    "        internal_binarizer,\n",
    "        columns_to_binarize\n",
    "    )\n",
    "])\n",
    "\n",
    "one_hot_binarized = Pipeline([\n",
    "    (\"binarizer\", binarizer),\n",
    "    (\"one_hot_encoder\", internal_encoder_binarizer),\n",
    "])"
   ]
  },
  {
   "cell_type": "code",
   "execution_count": null,
   "id": "0d69a035-915a-440f-9bb6-6aa1c3037426",
   "metadata": {},
   "outputs": [],
   "source": [
    "# Scaler\n",
    "internal_scaler = RobustScaler()\n",
    "columns_to_scale = [\"adr\"]\n",
    "\n",
    "scaler = ColumnTransformer([\n",
    "    (\"scaler\", internal_scaler, columns_to_scale)\n",
    "])"
   ]
  },
  {
   "cell_type": "code",
   "execution_count": null,
   "id": "dc7c7f4c-c075-4bf4-a678-6329b30799c8",
   "metadata": {},
   "outputs": [],
   "source": [
    "# Passthrough columns\n",
    "\n",
    "pass_columns = [\n",
    "    \"stays_in_week_nights\",\n",
    "    \"stays_in_weekend_nights\",\n",
    "]\n",
    "\n",
    "passthrough = ColumnTransformer([\n",
    "    (\n",
    "        \"pass_columns\",\n",
    "        \"passthrough\",\n",
    "        pass_columns\n",
    "    )\n",
    "])"
   ]
  },
  {
   "cell_type": "code",
   "execution_count": null,
   "id": "bead21e0-cb02-411f-a1c0-cb724d5f75f4",
   "metadata": {},
   "outputs": [],
   "source": [
    "feature_engineering_pipeline  = Pipeline([\n",
    "    (\n",
    "        \"features\",\n",
    "        FeatureUnion([\n",
    "            ('categories', one_hot_encoding),\n",
    "            ('binaries', one_hot_binarized),\n",
    "            ('scaled', scaler),\n",
    "            ('passthrough', passthrough)\n",
    "        ])\n",
    "    )\n",
    "])"
   ]
  },
  {
   "cell_type": "code",
   "execution_count": null,
   "id": "31d5c0f3-5e97-43df-9384-91b790849be3",
   "metadata": {},
   "outputs": [],
   "source": [
    "# Machine learning model\n",
    "\n",
    "from sklearn.ensemble import RandomForestClassifier\n",
    "\n",
    "model = RandomForestClassifier(n_estimators=100)"
   ]
  },
  {
   "cell_type": "code",
   "execution_count": null,
   "id": "a2413d8c-b9ad-4de2-ab27-85d798fad017",
   "metadata": {},
   "outputs": [],
   "source": [
    "# Full pipeline"
   ]
  },
  {
   "cell_type": "code",
   "execution_count": null,
   "id": "53db5263-f2ce-43db-9ad5-ef28f7166fac",
   "metadata": {},
   "outputs": [],
   "source": [
    "final_pipeline = Pipeline([\n",
    "    (\"feature_engineering\", feature_engineering_pipeline),\n",
    "    (\"model\", model)\n",
    "])"
   ]
  },
  {
   "cell_type": "markdown",
   "id": "be82c440-dd89-47d5-b7d5-8a2630844fb7",
   "metadata": {},
   "source": [
    "## Model training"
   ]
  },
  {
   "cell_type": "code",
   "execution_count": null,
   "id": "c95411f0-3b48-41f2-bc2f-505ac50cf293",
   "metadata": {},
   "outputs": [],
   "source": [
    "final_pipeline.fit(train_x, train_y)"
   ]
  },
  {
   "cell_type": "markdown",
   "id": "c6f8e769-65dd-483a-b59c-f4098c4a284e",
   "metadata": {},
   "source": [
    "## Model validation"
   ]
  },
  {
   "cell_type": "code",
   "execution_count": null,
   "id": "923b7f4e-b9af-4737-bdfc-db5b39281ac5",
   "metadata": {},
   "outputs": [],
   "source": [
    "from sklearn.metrics import accuracy_score, recall_score"
   ]
  },
  {
   "cell_type": "code",
   "execution_count": null,
   "id": "8043a186-9370-4cd4-88bb-0721fe02715c",
   "metadata": {},
   "outputs": [],
   "source": [
    "train_pred_y = final_pipeline.predict(train_x)\n",
    "validate_pred_y = final_pipeline.predict(validate_x)"
   ]
  },
  {
   "cell_type": "code",
   "execution_count": null,
   "id": "c92c7eb5-32df-46f3-933a-f2ce4dd3b90e",
   "metadata": {},
   "outputs": [],
   "source": [
    "train_accuracy = accuracy_score(train_pred_y, train_y)\n",
    "train_recall = recall_score(train_pred_y, train_y)\n",
    "\n",
    "validate_accuracy = accuracy_score(validate_pred_y, validate_y)\n",
    "validate_recall = recall_score(validate_pred_y, validate_y)"
   ]
  },
  {
   "cell_type": "code",
   "execution_count": null,
   "id": "6e6a7c73-328d-4e52-9411-501f3dce8f73",
   "metadata": {},
   "outputs": [],
   "source": [
    "print('Train accuracy', train_accuracy)\n",
    "print('Train recall', train_recall)\n",
    "\n",
    "print('Validate accuracy', validate_accuracy)\n",
    "print('Validate recall', validate_recall)"
   ]
  }
 ],
 "metadata": {
  "kernelspec": {
   "display_name": "Python 3 (ipykernel)",
   "language": "python",
   "name": "python3"
  },
  "language_info": {
   "codemirror_mode": {
    "name": "ipython",
    "version": 3
   },
   "file_extension": ".py",
   "mimetype": "text/x-python",
   "name": "python",
   "nbconvert_exporter": "python",
   "pygments_lexer": "ipython3",
   "version": "3.8.11"
  }
 },
 "nbformat": 4,
 "nbformat_minor": 5
}
