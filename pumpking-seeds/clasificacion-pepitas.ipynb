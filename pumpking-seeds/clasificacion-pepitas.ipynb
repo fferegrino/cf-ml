{
 "cells": [
  {
   "cell_type": "markdown",
   "id": "a3a7a16e-5a77-4779-b26d-6ee212072717",
   "metadata": {},
   "source": [
    "# Clasificación de pepitas (semillas de calabaza)"
   ]
  },
  {
   "cell_type": "markdown",
   "id": "65e57a03-c409-4ff3-b366-f46a3fe651da",
   "metadata": {},
   "source": [
    "## El problema\n",
    "\n",
    "Imagina que trabajas para una empresa que vende botanas, desde papas fritas hasta semillas de calabaza. Tu empresa se especializa en dos tipos de semillas, puesto que los clientes prefieren esos dos tipos: **ürgüp sivrisi** y **çerçevelik**. Sin embargo, estas dos semillas no son producidas por igual, y una es más común y barata para producir (*sivrisi*) que la otra (*cherchevelik*), y en un estudio de mercado se llegó a la conclusión de que tus clientes son capaces de conocer la diferencia entre ambas semillas, o cuando menos notan que las semillas que están consumiendo no son las que pagaron.\n",
    "\n",
    "Con el mundial a la vuelta de la esquina, y con el fin de tener el inventario suficiente para poder surtir todos los pedidos, tu empresa ha contactado con diversos proveedores para comprarles sus semillas de calabaza.\n",
    "\n",
    "Sabiendo que tu empresa se precia de altos estándares de calidad, y con la intención de mantener estos estándares aún con semillas adquiridas externamente, **tu tarea es encontrar una forma de verificar que las semillas recibidas son las que tu empresa está pagando y más importante, vendiendo a tus clientes**."
   ]
  },
  {
   "cell_type": "markdown",
   "id": "0e5dcbec-c527-416a-a4d7-b349fb531d06",
   "metadata": {},
   "source": [
    "## La solución\n",
    "\n",
    "El equipo de control de calidad externo te entrega un archivo CSV en donde cada fila representa una semilla individual y las columnas representan las diversas propiedades de cada una de ellas:\n",
    "\n",
    " - area\n",
    " - perimeter\n",
    " - major_axis_length\n",
    " - minor_axis_length\n",
    " - convex_area\n",
    " - equiv_diameter\n",
    " - eccentricity\n",
    " - solidity\n",
    " - extent\n",
    " - roundness\n",
    " - aspect_ration\n",
    " - compactness\n",
    " - class\n",
    "\n",
    "Tu tarea es entonces crear un modelo capaz de clasificar semillas usando la variable objetivo o dependiente **class** y las variables descriptivas o independientes restantes.\n",
    "\n",
    " > ❓ ¿Qué otros métodos podríamos usar?\n",
    " \n",
    " > ❓ ¿Qué métricas de evaluación podríamos usar?"
   ]
  },
  {
   "cell_type": "markdown",
   "id": "158d41e6-7900-4fab-81b6-5e980474ebf9",
   "metadata": {},
   "source": [
    "### Dataset\n",
    "\n",
    "Este dataset es una versión modificada de el artículo académico *\"The use of machine learning methods in classification of pumpkin seeds (Cucurbita pepo L.)\"*:\n",
    "\n",
    "KOKLU, M., SARIGIL, S., & OZBEK, O. (2021). The use of machine learning methods in classification of pumpkin seeds (Cucurbita pepo L.). Genetic Resources and Crop Evolution, 68(7), 2713-2726. Doi: https://doi.org/10.1007/s10722-021-01226-0\n",
    "\n"
   ]
  },
  {
   "cell_type": "markdown",
   "id": "5dea8435-0cb8-4aa7-a004-4a474725d3c3",
   "metadata": {},
   "source": [
    "## Modelado"
   ]
  },
  {
   "cell_type": "code",
   "execution_count": null,
   "id": "2bbf613d-1da9-44e8-83c6-91a2078c8080",
   "metadata": {},
   "outputs": [],
   "source": [
    "import pandas as pd\n",
    "\n",
    "seeds_dataset = pd.read_csv(\"seeds.csv\")"
   ]
  },
  {
   "cell_type": "code",
   "execution_count": null,
   "id": "bffa32b6-d417-4856-bd24-c0f57dd9495a",
   "metadata": {},
   "outputs": [],
   "source": [
    "seeds_dataset.head()"
   ]
  },
  {
   "cell_type": "markdown",
   "id": "a48b9c66-ed63-4c0e-ad8c-86d46c6d16a6",
   "metadata": {},
   "source": [
    "### Análisis Exploratorio de Datos (EDA)\n",
    "\n",
    "Un paso crucial para encontrar las variables más prometedoras a la hora de realizar el modelado."
   ]
  },
  {
   "cell_type": "code",
   "execution_count": null,
   "id": "caf638c8-8949-4cc4-9501-0c4bf4f72031",
   "metadata": {},
   "outputs": [],
   "source": [
    "from pandas_profiling import ProfileReport"
   ]
  },
  {
   "cell_type": "code",
   "execution_count": null,
   "id": "672a946b-bc19-4fe1-b941-765fcae254f9",
   "metadata": {},
   "outputs": [],
   "source": [
    "profile = ProfileReport(seeds_dataset, title=\"Seed dataset analysis\", explorative=True)\n",
    "profile.to_file(\"seeds-report.html\")"
   ]
  },
  {
   "cell_type": "markdown",
   "id": "a4ec49b8-6aad-46dc-97dc-cb0ea0b77aff",
   "metadata": {},
   "source": [
    "## PCA"
   ]
  },
  {
   "cell_type": "code",
   "execution_count": null,
   "id": "fd3a0ffa-96ef-485d-8abb-a3e901276ab9",
   "metadata": {},
   "outputs": [],
   "source": [
    "%matplotlib inline\n",
    "from sklearn.decomposition import PCA\n",
    "import seaborn as sns\n",
    "\n",
    "seed_types = seeds_dataset[['class']]\n",
    "seed_data = seeds_dataset.drop(labels=['area', 'perimeter', 'class'], axis='columns')\n",
    "pca = PCA(n_components=2)\n",
    "\n",
    "pca.fit(seed_data)\n",
    "data = pca.transform(seed_data)\n",
    "\n",
    "reduced_data = pd.DataFrame(data, columns=['x', 'y'])\n",
    "reduced_data['class'] = seed_types\n",
    "reduced_data\n",
    "\n",
    "sns.scatterplot(x='x', y='y', hue='class', data=reduced_data, alpha=0.5)"
   ]
  },
  {
   "cell_type": "markdown",
   "id": "092f525b-b76d-4f27-9a1f-a2959bb34547",
   "metadata": {},
   "source": [
    "## Feature engineering"
   ]
  },
  {
   "cell_type": "markdown",
   "id": "778b96e9-8a8a-43f9-aec9-dfe9a51b71af",
   "metadata": {},
   "source": [
    "### Deshazte de las características co-relacionadas"
   ]
  },
  {
   "cell_type": "code",
   "execution_count": null,
   "id": "f12490b2-0454-4ab6-8204-219454cc7df6",
   "metadata": {},
   "outputs": [],
   "source": [
    "seeds_dataset_clean = seeds_dataset.drop(labels=['area', 'perimeter'], axis='columns')\n",
    "seeds_dataset_clean.head()"
   ]
  },
  {
   "cell_type": "markdown",
   "id": "a4d1dd09-b178-4fad-9c51-31125c93d9eb",
   "metadata": {},
   "source": [
    "## Split dataset"
   ]
  },
  {
   "cell_type": "code",
   "execution_count": null,
   "id": "b12a86fd-a791-45db-8013-3ed7d16e5ea0",
   "metadata": {},
   "outputs": [],
   "source": [
    "from sklearn.model_selection import train_test_split\n",
    "\n",
    "rest, test = train_test_split(seeds_dataset_clean, test_size=0.2, shuffle=True) # 20% of 100 = 20\n",
    "train, val = train_test_split(rest, test_size=0.25, shuffle=True) # 25% of 80 = 20\n",
    "\n",
    "distributions = [len(train), len(val), len(test)]\n",
    "\n",
    "print(distributions)\n",
    "print([dist/len(reduced_data) for dist in distributions])"
   ]
  },
  {
   "cell_type": "markdown",
   "id": "59d4306b-1938-4f9c-9578-4ec42ca46b1b",
   "metadata": {},
   "source": [
    "### Divide features"
   ]
  },
  {
   "cell_type": "code",
   "execution_count": null,
   "id": "410f5541-07fe-471c-9c49-c1dde9de183e",
   "metadata": {},
   "outputs": [],
   "source": [
    "train_x = train.drop(labels=['class'], axis='columns')\n",
    "val_x = val.drop(labels=['class'], axis='columns')\n",
    "test_x = test.drop(labels=['class'], axis='columns')\n",
    "\n",
    "train_y = train[['class']].copy()\n",
    "val_y = val[['class']].copy()\n",
    "test_y = test[['class']].copy()\n",
    "\n",
    "print(train_x)\n",
    "print(train_y)"
   ]
  },
  {
   "cell_type": "markdown",
   "id": "84ed8dba-c5c1-40b8-ac53-af4acd225965",
   "metadata": {},
   "source": [
    "### Escalado de características (*feature scaling*)"
   ]
  },
  {
   "cell_type": "code",
   "execution_count": null,
   "id": "cf58e0e0-d337-48a1-b631-26dcafe8b8aa",
   "metadata": {},
   "outputs": [],
   "source": [
    "from sklearn.preprocessing import RobustScaler, StandardScaler, MinMaxScaler, MaxAbsScaler\n",
    "major_axis_length_scaler = MaxAbsScaler()"
   ]
  },
  {
   "cell_type": "code",
   "execution_count": null,
   "id": "2263a46a-5df6-4e94-a3eb-1bd43b895e18",
   "metadata": {},
   "outputs": [],
   "source": [
    "major_axis_length_scaler.fit(train_x[['major_axis_length']])"
   ]
  },
  {
   "cell_type": "code",
   "execution_count": null,
   "id": "e54fc610-d905-44af-b610-d4e29646d94c",
   "metadata": {},
   "outputs": [],
   "source": [
    "major_axis_length_frame = train[['major_axis_length']].copy()\n",
    "major_axis_length_frame['scaled'] = major_axis_length_scaler.transform(train_x[['major_axis_length']])"
   ]
  },
  {
   "cell_type": "code",
   "execution_count": null,
   "id": "a031b9a0-1f54-4217-8671-133eaebcf76d",
   "metadata": {},
   "outputs": [],
   "source": [
    "major_axis_length_frame"
   ]
  },
  {
   "cell_type": "markdown",
   "id": "f07ac71f-24fb-4ca7-a57c-4743f66e0b4f",
   "metadata": {},
   "source": [
    "### Aplicando escalado a múltiples features"
   ]
  },
  {
   "cell_type": "code",
   "execution_count": null,
   "id": "80872be0-51d7-4ff9-a55d-f0c1aecb27b5",
   "metadata": {},
   "outputs": [],
   "source": [
    "scaler = MaxAbsScaler()"
   ]
  },
  {
   "cell_type": "code",
   "execution_count": null,
   "id": "ad959856-8993-449b-b14d-79e65d8f69ae",
   "metadata": {},
   "outputs": [],
   "source": [
    "scaler.fit(train_x)"
   ]
  },
  {
   "cell_type": "code",
   "execution_count": null,
   "id": "e19195fb-3597-4433-bb57-645a1ae290b6",
   "metadata": {},
   "outputs": [],
   "source": [
    "train_x_scaled = scaler.transform(train_x)\n",
    "val_x_scaled = scaler.transform(val_x)\n",
    "test_x_scaled = scaler.transform(test_x)\n",
    "\n",
    "train_x_scaled"
   ]
  },
  {
   "cell_type": "markdown",
   "id": "51c7058b-0a12-423b-b1ab-bb66d1293ba2",
   "metadata": {},
   "source": [
    "## Logistic regression"
   ]
  },
  {
   "cell_type": "code",
   "execution_count": null,
   "id": "fe176fa4-c95e-4365-8580-77fa9fec8c80",
   "metadata": {},
   "outputs": [],
   "source": [
    "from sklearn.linear_model import LogisticRegression"
   ]
  },
  {
   "cell_type": "code",
   "execution_count": null,
   "id": "e8b5a0dd-928a-46a5-8d5a-360d339ac7b6",
   "metadata": {},
   "outputs": [],
   "source": [
    "lr = LogisticRegression(max_iter=1000, class_weight=\"balanced\")\n",
    "\n",
    "lr.fit(train_x_scaled, train_y)"
   ]
  },
  {
   "cell_type": "markdown",
   "id": "8a6af8f4-40b1-440c-9dfc-2921b1271419",
   "metadata": {},
   "source": [
    "## Assess performance"
   ]
  },
  {
   "cell_type": "code",
   "execution_count": null,
   "id": "958ecc06-2a65-4859-a956-a09256246c15",
   "metadata": {},
   "outputs": [],
   "source": [
    "train_pred = lr.predict(train_x_scaled)  # Para diagnosticar overfitting\n",
    "val_pred = lr.predict(val_x_scaled)  # Para decidir cambios sobre el modelo"
   ]
  },
  {
   "cell_type": "code",
   "execution_count": null,
   "id": "d1ecd243-3686-4309-9ef3-3277a02bddae",
   "metadata": {},
   "outputs": [],
   "source": [
    "train_pred"
   ]
  },
  {
   "cell_type": "code",
   "execution_count": null,
   "id": "3a841aff-ed3e-45e7-b0d5-5df9e90b2769",
   "metadata": {},
   "outputs": [],
   "source": [
    "from sklearn.metrics import accuracy_score"
   ]
  },
  {
   "cell_type": "code",
   "execution_count": null,
   "id": "8ca06afd-ad0b-45c5-9983-29422de1b55e",
   "metadata": {},
   "outputs": [],
   "source": [
    "training_accuracy = accuracy_score(train_y, train_pred)\n",
    "validation_accuracy = accuracy_score(val_y, val_pred)\n",
    "\n",
    "print(f\"Training accuracy:   {training_accuracy:0.2%}\")\n",
    "print(f\"Validation accuracy: {validation_accuracy:0.2%}\")"
   ]
  },
  {
   "cell_type": "markdown",
   "id": "cf4a09c4-fc4e-49af-bd35-c571bfe09a4c",
   "metadata": {},
   "source": [
    "## Test performance"
   ]
  },
  {
   "cell_type": "code",
   "execution_count": null,
   "id": "0a6854df-b68f-4983-875d-ecf2fcd6c0bb",
   "metadata": {},
   "outputs": [],
   "source": [
    "test_pred = lr.predict(test_x_scaled)\n",
    "test_accuracy = accuracy_score(test_y, test_pred)\n",
    "\n",
    "print(f\"Test accuracy:   {test_accuracy:0.2%}\")"
   ]
  },
  {
   "cell_type": "markdown",
   "id": "c321ac58-241c-451e-8b7d-06d3afb69571",
   "metadata": {},
   "source": [
    "## Save the artefacts to disk"
   ]
  },
  {
   "cell_type": "code",
   "execution_count": null,
   "id": "ae96c092-86d8-42b3-923a-bfb391dca3ad",
   "metadata": {},
   "outputs": [],
   "source": [
    "import pickle"
   ]
  },
  {
   "cell_type": "code",
   "execution_count": null,
   "id": "73faf560-e203-46b4-9c01-c8430451025c",
   "metadata": {},
   "outputs": [],
   "source": [
    "with open(\"scaler.pickle\", \"wb\") as wb:\n",
    "    pickle.dump(scaler, wb)"
   ]
  },
  {
   "cell_type": "code",
   "execution_count": null,
   "id": "a6c2c4f5-ea21-41c7-8d04-f0214d44c38b",
   "metadata": {},
   "outputs": [],
   "source": [
    "with open(\"model.pickle\", \"wb\") as wb:\n",
    "    pickle.dump(lr, wb)"
   ]
  },
  {
   "cell_type": "markdown",
   "id": "1e56da95-1118-49b1-9f12-21c4cfb82682",
   "metadata": {},
   "source": [
    "## Reload artifacts from disk"
   ]
  },
  {
   "cell_type": "code",
   "execution_count": null,
   "id": "f4a53198-98d8-4cf1-b580-ec1b994f6ee9",
   "metadata": {},
   "outputs": [],
   "source": [
    "with open(\"scaler.pickle\", \"rb\") as rb:\n",
    "    scaler = pickle.load(rb)"
   ]
  },
  {
   "cell_type": "code",
   "execution_count": null,
   "id": "7368fdde-8fed-4ef4-a3bb-1a1c5d3483b0",
   "metadata": {},
   "outputs": [],
   "source": [
    "with open(\"model.pickle\", \"rb\") as rb:\n",
    "    model = pickle.load(rb)"
   ]
  },
  {
   "cell_type": "markdown",
   "id": "9b04922b-2afa-4ebf-994a-b4e07e92c73b",
   "metadata": {},
   "source": [
    "## Prueba con tu instancia"
   ]
  },
  {
   "cell_type": "code",
   "execution_count": null,
   "id": "ce5bf69a-18d2-4659-acda-e06ef85a59a8",
   "metadata": {},
   "outputs": [],
   "source": [
    "nueva_pepita = [{\n",
    "    'major_axis_length': 326.1485,\n",
    " 'minor_axis_length': 220.2388,\n",
    " 'convex_area': 56831,\n",
    " 'equiv_diameter': 267.6805,\n",
    " 'eccentricity': 0.7376,\n",
    " 'solidity': 0.9902,\n",
    " 'extent': 0.7453,\n",
    " 'roundness': 0.8963,\n",
    " 'aspect_ration': 1.4809,\n",
    " 'compactness': 0.8207,\n",
    "}]\n",
    "\n",
    "nueva_pepita = pd.DataFrame.from_dict(nueva_pepita)\n",
    "nueva_pepita"
   ]
  },
  {
   "cell_type": "code",
   "execution_count": null,
   "id": "1155110a-a02d-4931-b7d0-017ff0d157a6",
   "metadata": {},
   "outputs": [],
   "source": [
    "instance_x = scaler.transform(nueva_pepita)"
   ]
  },
  {
   "cell_type": "code",
   "execution_count": null,
   "id": "821e25ad-a45a-43c3-9f64-e0bb470c35e3",
   "metadata": {},
   "outputs": [],
   "source": [
    "variant = model.predict(instance_x)\n",
    "variant_proba = model.predict_proba(instance_x)"
   ]
  },
  {
   "cell_type": "code",
   "execution_count": null,
   "id": "e8dd31b8-2006-4bb5-bdc2-976102d733f1",
   "metadata": {},
   "outputs": [],
   "source": [
    "variant[0]"
   ]
  },
  {
   "cell_type": "code",
   "execution_count": null,
   "id": "e2cf5bdc-ee4e-4c40-8c89-25a4e921c0e0",
   "metadata": {},
   "outputs": [],
   "source": []
  }
 ],
 "metadata": {
  "kernelspec": {
   "display_name": "Python 3 (ipykernel)",
   "language": "python",
   "name": "python3"
  },
  "language_info": {
   "codemirror_mode": {
    "name": "ipython",
    "version": 3
   },
   "file_extension": ".py",
   "mimetype": "text/x-python",
   "name": "python",
   "nbconvert_exporter": "python",
   "pygments_lexer": "ipython3",
   "version": "3.8.11"
  }
 },
 "nbformat": 4,
 "nbformat_minor": 5
}
