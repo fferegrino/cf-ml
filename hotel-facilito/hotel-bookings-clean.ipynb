{
 "cells": [
  {
   "cell_type": "markdown",
   "id": "e46f413f-d456-4e02-8968-5fd4093e904e",
   "metadata": {},
   "source": [
    "# Hotel Facilito\n",
    "\n",
    "## ¿Quién va a cancelar?\n",
    "\n",
    "*Hotel Facilito* se está preparando para las vacaciones de verano, sin embargo, les preocupa que muchos de sus clientes cancelan de ultima hora, dejándoles con habitaciones vacías – sucede que algunos clientes simplemente no se presentan y, a pesar de que a veces se cobra una cuota de reservación, la gran mayoría de las ganancias se obtiene cuando los huéspedes pagan el resto al ocupar la habitación. \n",
    "\n",
    "Usando sus datos, les gustaría que les ayudaras a identificar a aquellos clientes que tienen más posibilidad de cancelar ya que les gustaría darles seguimiento para que si en caso de que requieran cancelar, se haga con la mayor antelación posible.\n",
    "\n",
    "![](./header.png)"
   ]
  },
  {
   "cell_type": "markdown",
   "id": "9490fd5c-8a08-4b38-9427-b1c7dfe37556",
   "metadata": {},
   "source": [
    "## Datos\n",
    "\n",
    "*Hoteles Facilito* tiene dos sucursales, uno ubicado en la capital del estado, \"City Hotel\" y otro en una comunidad cercana a la costa, \"Resort Hotel\".\n",
    "\n",
    "Los datos que te ha enviado están en formato CSV, en donde cada línea representa una reservación con los siguientes atributos:\n",
    "\n",
    "  - `hotel`: Hotel en el que se hizo la reserva.\n",
    "  - `is_canceled`: Indica si la reserva fue cancelada o no.\n",
    "  - `lead_time`: Número de días que transcurrieron entre la fecha de ingreso de la reserva en el PMS y la fecha de llegada.\n",
    "  - `arrival_date_year`: Año de la fecha de llegada.\n",
    "  - `arrival_date_month`: Mes de la fecha de llegada con 12 categorías: \"Enero\" a \"Diciembre\".\n",
    "  - `arrival_date_week_number`: Número de semana de la fecha de llegada.\n",
    "  - `arrival_date_day_of_month`: Día del mes de la fecha de llegada.\n",
    "  - `stays_in_weekend_nights`: Número de noches de fin de semana (sábado o domingo) que el huésped se quedó o reservó para quedarse en el hotel.\n",
    "  - `stays_in_week_nights`: Número de noches de semana (lunes a viernes) que el huésped se quedó o reservó para quedarse en el hotel.\n",
    "  - `adults`: Número de adultos.\n",
    "  - `children`: Número de niños.\n",
    "  - `babies`: Número de bebés.\n",
    "  - `meal`: Tipo de comida reservada. Valor categórico.\n",
    "  - `country`: País de origen. Las categorías se representan según ISO 3155–3:2013.\n",
    "  - `market_segment`: Designación del segmento de mercado.\n",
    "  - `distribution_channel`: Canal de distribución de la reserva.\n",
    "  - `is_repeated_guest`: Valor que indica si el nombre de la reserva era de un huésped recurrente (1) o no (0).\n",
    "  - `previous_cancellations`: Número de reservas anteriores que fueron canceladas por el cliente antes de la reserva actual.\n",
    "  - `previous_bookings_not_canceled`: Número de reservas anteriores que no fueron canceladas por el cliente antes de la reserva actual.\n",
    "  - `reserved_room_type`: Código del tipo de habitación reservada. El código se presenta en lugar de la designación por razones de anonimato.\n",
    "  - `assigned_room_type`: Código del tipo de habitación asignada a la reserva. A veces, el tipo de habitación asignada difiere del tipo de habitación reservada debido a razones operativas del hotel (por ejemplo, sobreventa) o por solicitud del cliente. El código se presenta en lugar de la designación por razones de anonimato.\n",
    "  - `booking_changes`: Número de cambios/modificaciones realizados a la reserva desde el momento en que se ingresó en el PMS hasta el momento del check-in o la cancelación.\n",
    "  - `deposit_type`: Indicación de si el cliente hizo un depósito para garantizar la reserva.\n",
    "  - `agent`: ID de la agencia de viajes que realizó la reserva.\n",
    "  - `company`: ID de la empresa/entidad que realizó la reserva o es responsable de pagar la reserva.\n",
    "  - `days_in_waiting_list`: Número de días que la reserva estuvo en lista de espera antes de ser confirmada al cliente.\n",
    "  - `customer_type`: Tipo de reserva.\n",
    "  - `adr`: Tarifa diaria promedio.\n",
    "  - `required_car_parking_spaces`: Número de espacios de estacionamiento requeridos por el cliente.\n",
    "  - `total_of_special_requests`: Número de solicitudes especiales realizadas por el cliente (por ejemplo, cama doble o piso alto).\n",
    "  - `reservation_status`: Último estado de la reserva.\n",
    "  - `reservation_status_date`: Fecha en que se estableció el último estado.\n",
    "  - `name`: Nombre del cliente.\n",
    "  - `email`: Correo electrónico del cliente.\n",
    "  - `phone`: Teléfono del cliente.\n",
    "  - `credit_card`: Últimos cuatro dígitos de la tarjeta de crédito del cliente.\n",
    "\n",
    "Los datos que te ha enviado la compañía están en el archivo `hotel_bookings_training.csv`."
   ]
  },
  {
   "cell_type": "markdown",
   "id": "45ee9c95-a3a9-41f9-a7ef-2084630160a1",
   "metadata": {},
   "source": [
    "> En realidad los datos provienen de [este dataset de Kaggle](https://www.kaggle.com/datasets/mojtaba142/hotel-booking), y puedes consultar más sobre el origen de los datos [en esta publicación](https://www.sciencedirect.com/science/article/pii/S2352340918315191)"
   ]
  },
  {
   "cell_type": "markdown",
   "id": "bb0790dd-67e7-4766-ae03-6f8ce87e28f8",
   "metadata": {},
   "source": [
    "## ¿Qué métricas podemos medir? \n",
    "\n",
    "¿Accuracy? pero, y ¿si nos interesa otra cosa?\n",
    "\n",
    "Nos interesa hallar a TODAS las personas que potencialmente pueden cancelar, y la verdad es que a nuestros clientes no les molesta mucho si les llamamos para confirmar su reserva."
   ]
  },
  {
   "cell_type": "markdown",
   "id": "2ae43734-15d6-46ac-8b05-33738bd6ed0d",
   "metadata": {},
   "source": [
    "## Ejercicio"
   ]
  },
  {
   "cell_type": "code",
   "execution_count": null,
   "id": "1d6255b2-05ce-414b-b11a-fb9a7b32f0e3",
   "metadata": {},
   "outputs": [],
   "source": []
  }
 ],
 "metadata": {
  "kernelspec": {
   "display_name": "Python 3 (ipykernel)",
   "language": "python",
   "name": "python3"
  },
  "language_info": {
   "codemirror_mode": {
    "name": "ipython",
    "version": 3
   },
   "file_extension": ".py",
   "mimetype": "text/x-python",
   "name": "python",
   "nbconvert_exporter": "python",
   "pygments_lexer": "ipython3",
   "version": "3.8.11"
  }
 },
 "nbformat": 4,
 "nbformat_minor": 5
}
