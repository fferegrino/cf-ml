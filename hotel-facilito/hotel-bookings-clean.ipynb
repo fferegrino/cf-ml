{
 "cells": [
  {
   "cell_type": "markdown",
   "id": "e46f413f-d456-4e02-8968-5fd4093e904e",
   "metadata": {},
   "source": [
    "# Hotel Facilito\n",
    "\n",
    "## ¿Quién va a cancelar?\n",
    "\n",
    "*Hotel Facilito* se está preparando para las vacaciones de verano, sin embargo, les preocupa que muchos de sus clientes cancelan de ultima hora, dejándoles con habitaciones vacías – sucede que algunos clientes simplemente no se presentan y, a pesar de que a veces se cobra una cuota de reservación, la gran mayoría de las ganancias se obtiene cuando los huéspedes pagan el resto al ocupar la habitación. \n",
    "\n",
    "Usando sus datos, les gustaría que les ayudaras a identificar a aquellos clientes que tienen más posibilidad de cancelar ya que les gustaría darles seguimiento para que si en caso de que requieran cancelar, se haga con la mayor antelación posible.\n",
    "\n",
    "![](./header.png)"
   ]
  },
  {
   "cell_type": "markdown",
   "id": "9490fd5c-8a08-4b38-9427-b1c7dfe37556",
   "metadata": {},
   "source": [
    "## Datos\n",
    "\n",
    "*Hoteles Facilito* tiene dos sucursales, uno ubicado en la capital del estado, \"City Hotel\" y otro en una comunidad cercana a la costa, \"Resort Hotel\".\n",
    "\n",
    "Los datos que te ha enviado están en formato CSV, en donde cada línea representa una reservación con los siguientes atributos:\n",
    "\n",
    "  - `hotel`: Reservation hotel.\n",
    "  - `is_canceled`: Indicates whether the reservation was canceled or not\n",
    "  - `lead_time`: Number of days that elapsed between the entering date of the booking into the PMS and the arrival date.\n",
    "  - `arrival_date_year`: Year of arrival date.\n",
    "  - `arrival_date_month`: Month of arrival date with 12 categories: “January” to “December”.\n",
    "  - `arrival_date_week_number`: Week number of the arrival date.\n",
    "  - `arrival_date_day_of_month`: Day of the month of the arrival date.\n",
    "  - `stays_in_weekend_nights`: Number of weekend nights (Saturday or Sunday) the guest stayed or booked to stay at the hotel.\n",
    "  - `stays_in_week_nights`: Number of week nights (Monday to Friday) the guest stayed or booked to stay at the hotel.\n",
    "  - `adults`: Number of adults.\n",
    "  - `children`: Number of children.\n",
    "  - `babies`: Number of babies.\n",
    "  - `meal`: Type of meal booked. Categorical value.\n",
    "  - `country`: Country of origin. Categories are represented in ISO 3155–3:2013.\n",
    "  - `market_segment`: Market segment designation.\n",
    "  - `distribution_channel`: Booking distribution channel.\n",
    "  - `is_repeated_guest`: Value indicating if the booking name was from a repeated guest (1) or not (0)\n",
    "  - `previous_cancellations`: Number of previous bookings that were cancelled by the customer prior to the current booking.\n",
    "  - `previous_bookings_not_canceled`: Number of previous bookings not cancelled by the customer prior to the current booking.\n",
    "  - `reserved_room_type`: Code of room type reserved. Code is presented instead of designation for anonymity reasons.\n",
    "  - `assigned_room_type`: Code for the type of room assigned to the booking. Sometimes the assigned room type differs from the reserved room type due to hotel operation reasons (e.g. overbooking) or by customer request. Code is presented instead of designation for anonymity reasons\n",
    "  - `booking_changes`: Number of changes/amendments made to the booking from the moment the booking was entered on the PMS until the moment of check-in or cancellation.\n",
    "  - `deposit_type`: Indication on if the customer made a deposit to guarantee the booking. \n",
    "  - `agent`: ID of the travel agency that made the booking.\n",
    "  - `company`: ID of the company/entity that made the booking or responsible for paying the booking.\n",
    "  - `days_in_waiting_list`: Number of days the booking was in the waiting list before it was confirmed to the customer.\n",
    "  - `customer_type`: Type of booking.\n",
    "  - `adr`: Average Daily Rate.\n",
    "  - `required_car_parking_spaces`: Number of car parking spaces required by the customer.\n",
    "  - `total_of_special_requests`: Number of special requests made by the customer (e.g. twin bed or high floor).\n",
    "  - `reservation_status`: Reservation last status.\n",
    "  - `reservation_status_date`: Date at which the last status was set.\n",
    "  - `name`: Customer name.\n",
    "  - `email`: Customer email.\n",
    "  - `phone`: Customer phone.\n",
    "  - `credit_card`: Last four digits of the customer credit card.\n",
    "\n",
    "Los datos que te ha enviado la compañía están en el archivo `hotel_bookings.csv`."
   ]
  },
  {
   "cell_type": "markdown",
   "id": "45ee9c95-a3a9-41f9-a7ef-2084630160a1",
   "metadata": {},
   "source": [
    "> En realidad los datos provienen de [este dataset de Kaggle](https://www.kaggle.com/datasets/mojtaba142/hotel-booking), y puedes consultar más sobre el origen de los datos [en esta publicación](https://www.sciencedirect.com/science/article/pii/S2352340918315191)"
   ]
  },
  {
   "cell_type": "markdown",
   "id": "bb0790dd-67e7-4766-ae03-6f8ce87e28f8",
   "metadata": {},
   "source": [
    "## ¿Qué métricas podemos medir? \n",
    "\n",
    "¿Accuracy? pero, y ¿si nos interesa otra cosa?\n",
    "\n",
    "Nos interesa hallar a TODAS las personas que potencialmente pueden cancelar, y la verdad es que a nuestros clientes no les molesta mucho si les llamamos para confirmar su reserva."
   ]
  },
  {
   "cell_type": "markdown",
   "id": "2ae43734-15d6-46ac-8b05-33738bd6ed0d",
   "metadata": {},
   "source": [
    "## Ejercicio"
   ]
  },
  {
   "cell_type": "code",
   "execution_count": null,
   "id": "1d6255b2-05ce-414b-b11a-fb9a7b32f0e3",
   "metadata": {},
   "outputs": [],
   "source": []
  }
 ],
 "metadata": {
  "kernelspec": {
   "display_name": "Python 3 (ipykernel)",
   "language": "python",
   "name": "python3"
  },
  "language_info": {
   "codemirror_mode": {
    "name": "ipython",
    "version": 3
   },
   "file_extension": ".py",
   "mimetype": "text/x-python",
   "name": "python",
   "nbconvert_exporter": "python",
   "pygments_lexer": "ipython3",
   "version": "3.8.11"
  }
 },
 "nbformat": 4,
 "nbformat_minor": 5
}
