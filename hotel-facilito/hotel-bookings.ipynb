{
 "cells": [
  {
   "cell_type": "markdown",
   "id": "e46f413f-d456-4e02-8968-5fd4093e904e",
   "metadata": {},
   "source": [
    "# Hotel Facilito\n",
    "\n",
    "## ¿Quién va a cancelar?\n",
    "\n",
    "*Hotel Facilito* se está preparando para las vacaciones de verano, sin embargo, les preocupa que muchos de sus clientes cancelan de ultima hora, dejándoles con habitaciones vacías – sucede que algunos clientes simplemente no se presentan y, a pesar de que a veces se cobra una cuota de reservación, la gran mayoría de las ganancias se obtiene cuando los huéspedes pagan el resto al ocupar la habitación. \n",
    "\n",
    "Usando sus datos, les gustaría que les ayudaras a identificar a aquellos clientes que tienen más posibilidad de cancelar ya que les gustaría darles seguimiento para que si en caso de que requieran cancelar, se haga con la mayor antelación posible.\n",
    "\n",
    "![](./header.png)"
   ]
  },
  {
   "cell_type": "markdown",
   "id": "9490fd5c-8a08-4b38-9427-b1c7dfe37556",
   "metadata": {},
   "source": [
    "## Datos\n",
    "\n",
    "*Hoteles Facilito* tiene dos sucursales, uno ubicado en la capital del estado, \"City Hotel\" y otro en una comunidad cercana a la costa, \"Resort Hotel\".\n",
    "\n",
    "Los datos que te ha enviado están en formato CSV, en donde cada línea representa una reservación con los siguientes atributos:\n",
    "\n",
    "  - `hotel`: Reservation hotel.\n",
    "  - `is_canceled`: Indicates whether the reservation was canceled or not\n",
    "  - `lead_time`: Number of days that elapsed between the entering date of the booking into the PMS and the arrival date.\n",
    "  - `arrival_date_year`: Year of arrival date.\n",
    "  - `arrival_date_month`: Month of arrival date with 12 categories: “January” to “December”.\n",
    "  - `arrival_date_week_number`: Week number of the arrival date.\n",
    "  - `arrival_date_day_of_month`: Day of the month of the arrival date.\n",
    "  - `stays_in_weekend_nights`: Number of weekend nights (Saturday or Sunday) the guest stayed or booked to stay at the hotel.\n",
    "  - `stays_in_week_nights`: Number of week nights (Monday to Friday) the guest stayed or booked to stay at the hotel.\n",
    "  - `adults`: Number of adults.\n",
    "  - `children`: Number of children.\n",
    "  - `babies`: Number of babies.\n",
    "  - `meal`: Type of meal booked. Categorical value.\n",
    "  - `country`: Country of origin. Categories are represented in ISO 3155–3:2013.\n",
    "  - `market_segment`: Market segment designation.\n",
    "  - `distribution_channel`: Booking distribution channel.\n",
    "  - `is_repeated_guest`: Value indicating if the booking name was from a repeated guest (1) or not (0)\n",
    "  - `previous_cancellations`: Number of previous bookings that were cancelled by the customer prior to the current booking.\n",
    "  - `previous_bookings_not_canceled`: Number of previous bookings not cancelled by the customer prior to the current booking.\n",
    "  - `reserved_room_type`: Code of room type reserved. Code is presented instead of designation for anonymity reasons.\n",
    "  - `assigned_room_type`: Code for the type of room assigned to the booking. Sometimes the assigned room type differs from the reserved room type due to hotel operation reasons (e.g. overbooking) or by customer request. Code is presented instead of designation for anonymity reasons\n",
    "  - `booking_changes`: Number of changes/amendments made to the booking from the moment the booking was entered on the PMS until the moment of check-in or cancellation.\n",
    "  - `deposit_type`: Indication on if the customer made a deposit to guarantee the booking. \n",
    "  - `agent`: ID of the travel agency that made the booking.\n",
    "  - `company`: ID of the company/entity that made the booking or responsible for paying the booking.\n",
    "  - `days_in_waiting_list`: Number of days the booking was in the waiting list before it was confirmed to the customer.\n",
    "  - `customer_type`: Type of booking.\n",
    "  - `adr`: Average Daily Rate.\n",
    "  - `required_car_parking_spaces`: Number of car parking spaces required by the customer.\n",
    "  - `total_of_special_requests`: Number of special requests made by the customer (e.g. twin bed or high floor).\n",
    "  - `reservation_status`: Reservation last status.\n",
    "  - `reservation_status_date`: Date at which the last status was set.\n",
    "  - `name`: Customer name.\n",
    "  - `email`: Customer email.\n",
    "  - `phone`: Customer phone.\n",
    "  - `credit_card`: Last four digits of the customer credit card.\n",
    "\n",
    "Los datos que te ha enviado la compañía están en el archivo `hotel_bookings.csv`."
   ]
  },
  {
   "cell_type": "markdown",
   "id": "45ee9c95-a3a9-41f9-a7ef-2084630160a1",
   "metadata": {},
   "source": [
    "> En realidad los datos provienen de [este dataset de Kaggle](https://www.kaggle.com/datasets/mojtaba142/hotel-booking), y puedes consultar más sobre el origen de los datos [en esta publicación](https://www.sciencedirect.com/science/article/pii/S2352340918315191)"
   ]
  },
  {
   "cell_type": "markdown",
   "id": "bb0790dd-67e7-4766-ae03-6f8ce87e28f8",
   "metadata": {},
   "source": [
    "## ¿Qué métricas podemos medir? \n",
    "\n",
    "¿Accuracy? pero, y ¿si nos interesa otra cosa?\n",
    "\n",
    "Nos interesa hallar a TODAS las personas que potencialmente pueden cancelar, y la verdad es que a nuestros clientes no les molesta mucho si les llamamos para confirmar su reserva."
   ]
  },
  {
   "cell_type": "markdown",
   "id": "2ae43734-15d6-46ac-8b05-33738bd6ed0d",
   "metadata": {},
   "source": [
    "## Ejercicio"
   ]
  },
  {
   "cell_type": "code",
   "execution_count": 1,
   "id": "775a79d5-98d7-488f-8bc5-d305056bec61",
   "metadata": {
    "tags": []
   },
   "outputs": [],
   "source": [
    "import pandas as pd"
   ]
  },
  {
   "cell_type": "code",
   "execution_count": 2,
   "id": "2f487aee-60f9-41ea-a88f-04a6858913c9",
   "metadata": {
    "tags": []
   },
   "outputs": [],
   "source": [
    "hotel_bookings = pd.read_csv(\"hotel_bookings_training.csv\")"
   ]
  },
  {
   "cell_type": "code",
   "execution_count": 3,
   "id": "83307110-0e84-4589-bfa5-afd6121ef5ab",
   "metadata": {
    "tags": []
   },
   "outputs": [],
   "source": [
    "from sklearn.model_selection import train_test_split"
   ]
  },
  {
   "cell_type": "code",
   "execution_count": 4,
   "id": "1aeb405e-1dab-41fb-b735-39a6f0c15d39",
   "metadata": {
    "tags": []
   },
   "outputs": [
    {
     "name": "stdout",
     "output_type": "stream",
     "text": [
      "<class 'pandas.core.frame.DataFrame'>\n",
      "RangeIndex: 119190 entries, 0 to 119189\n",
      "Data columns (total 36 columns):\n",
      " #   Column                          Non-Null Count   Dtype  \n",
      "---  ------                          --------------   -----  \n",
      " 0   hotel                           119190 non-null  object \n",
      " 1   is_canceled                     119190 non-null  int64  \n",
      " 2   lead_time                       119190 non-null  int64  \n",
      " 3   arrival_date_year               119190 non-null  int64  \n",
      " 4   arrival_date_month              119190 non-null  object \n",
      " 5   arrival_date_week_number        119190 non-null  int64  \n",
      " 6   arrival_date_day_of_month       119190 non-null  int64  \n",
      " 7   stays_in_weekend_nights         119190 non-null  int64  \n",
      " 8   stays_in_week_nights            119190 non-null  int64  \n",
      " 9   adults                          119190 non-null  int64  \n",
      " 10  children                        119186 non-null  float64\n",
      " 11  babies                          119190 non-null  int64  \n",
      " 12  meal                            119190 non-null  object \n",
      " 13  country                         118703 non-null  object \n",
      " 14  market_segment                  119190 non-null  object \n",
      " 15  distribution_channel            119190 non-null  object \n",
      " 16  is_repeated_guest               119190 non-null  int64  \n",
      " 17  previous_cancellations          119190 non-null  int64  \n",
      " 18  previous_bookings_not_canceled  119190 non-null  int64  \n",
      " 19  reserved_room_type              119190 non-null  object \n",
      " 20  assigned_room_type              119190 non-null  object \n",
      " 21  booking_changes                 119190 non-null  int64  \n",
      " 22  deposit_type                    119190 non-null  object \n",
      " 23  agent                           102875 non-null  float64\n",
      " 24  company                         6788 non-null    float64\n",
      " 25  days_in_waiting_list            119190 non-null  int64  \n",
      " 26  customer_type                   119190 non-null  object \n",
      " 27  adr                             119190 non-null  float64\n",
      " 28  required_car_parking_spaces     119190 non-null  int64  \n",
      " 29  total_of_special_requests       119190 non-null  int64  \n",
      " 30  reservation_status              119190 non-null  object \n",
      " 31  reservation_status_date         119190 non-null  object \n",
      " 32  name                            119190 non-null  object \n",
      " 33  email                           119190 non-null  object \n",
      " 34  phone-number                    119190 non-null  object \n",
      " 35  credit_card                     119190 non-null  object \n",
      "dtypes: float64(4), int64(16), object(16)\n",
      "memory usage: 32.7+ MB\n"
     ]
    }
   ],
   "source": [
    "hotel_bookings.info()"
   ]
  },
  {
   "cell_type": "markdown",
   "id": "1e35df7b-f4ee-406e-8d97-a1841abfe1f6",
   "metadata": {},
   "source": [
    "### Sobre los datos personales...\n",
    "\n",
    "Nos deshacemos de los datos personales – que además carecen de utilidad por ser únicos:"
   ]
  },
  {
   "cell_type": "code",
   "execution_count": 5,
   "id": "13a89452-0256-40d8-b217-ddba1d625794",
   "metadata": {},
   "outputs": [],
   "source": [
    "# Remove personal information of customers\n",
    "hotel_bookings = hotel_bookings.drop(['name', 'email', 'phone-number', 'credit_card'], axis=1)"
   ]
  },
  {
   "cell_type": "code",
   "execution_count": 6,
   "id": "c2608f86-3495-4998-a9e2-f92897049450",
   "metadata": {
    "tags": []
   },
   "outputs": [
    {
     "data": {
      "text/html": [
       "<div>\n",
       "<style scoped>\n",
       "    .dataframe tbody tr th:only-of-type {\n",
       "        vertical-align: middle;\n",
       "    }\n",
       "\n",
       "    .dataframe tbody tr th {\n",
       "        vertical-align: top;\n",
       "    }\n",
       "\n",
       "    .dataframe thead th {\n",
       "        text-align: right;\n",
       "    }\n",
       "</style>\n",
       "<table border=\"1\" class=\"dataframe\">\n",
       "  <thead>\n",
       "    <tr style=\"text-align: right;\">\n",
       "      <th></th>\n",
       "      <th>hotel</th>\n",
       "      <th>is_canceled</th>\n",
       "      <th>lead_time</th>\n",
       "      <th>arrival_date_year</th>\n",
       "      <th>arrival_date_month</th>\n",
       "      <th>arrival_date_week_number</th>\n",
       "      <th>arrival_date_day_of_month</th>\n",
       "      <th>stays_in_weekend_nights</th>\n",
       "      <th>stays_in_week_nights</th>\n",
       "      <th>adults</th>\n",
       "      <th>...</th>\n",
       "      <th>deposit_type</th>\n",
       "      <th>agent</th>\n",
       "      <th>company</th>\n",
       "      <th>days_in_waiting_list</th>\n",
       "      <th>customer_type</th>\n",
       "      <th>adr</th>\n",
       "      <th>required_car_parking_spaces</th>\n",
       "      <th>total_of_special_requests</th>\n",
       "      <th>reservation_status</th>\n",
       "      <th>reservation_status_date</th>\n",
       "    </tr>\n",
       "  </thead>\n",
       "  <tbody>\n",
       "    <tr>\n",
       "      <th>35260</th>\n",
       "      <td>Resort Hotel</td>\n",
       "      <td>1</td>\n",
       "      <td>277</td>\n",
       "      <td>2015</td>\n",
       "      <td>October</td>\n",
       "      <td>41</td>\n",
       "      <td>5</td>\n",
       "      <td>4</td>\n",
       "      <td>10</td>\n",
       "      <td>2</td>\n",
       "      <td>...</td>\n",
       "      <td>Non Refund</td>\n",
       "      <td>273.0</td>\n",
       "      <td>NaN</td>\n",
       "      <td>0</td>\n",
       "      <td>Transient</td>\n",
       "      <td>78.50</td>\n",
       "      <td>0</td>\n",
       "      <td>0</td>\n",
       "      <td>Canceled</td>\n",
       "      <td>2015-10-02</td>\n",
       "    </tr>\n",
       "    <tr>\n",
       "      <th>20740</th>\n",
       "      <td>Resort Hotel</td>\n",
       "      <td>0</td>\n",
       "      <td>22</td>\n",
       "      <td>2016</td>\n",
       "      <td>September</td>\n",
       "      <td>40</td>\n",
       "      <td>30</td>\n",
       "      <td>0</td>\n",
       "      <td>2</td>\n",
       "      <td>2</td>\n",
       "      <td>...</td>\n",
       "      <td>No Deposit</td>\n",
       "      <td>240.0</td>\n",
       "      <td>NaN</td>\n",
       "      <td>0</td>\n",
       "      <td>Transient</td>\n",
       "      <td>110.00</td>\n",
       "      <td>1</td>\n",
       "      <td>2</td>\n",
       "      <td>Check-Out</td>\n",
       "      <td>2016-10-02</td>\n",
       "    </tr>\n",
       "    <tr>\n",
       "      <th>103459</th>\n",
       "      <td>City Hotel</td>\n",
       "      <td>0</td>\n",
       "      <td>47</td>\n",
       "      <td>2016</td>\n",
       "      <td>April</td>\n",
       "      <td>17</td>\n",
       "      <td>19</td>\n",
       "      <td>0</td>\n",
       "      <td>2</td>\n",
       "      <td>2</td>\n",
       "      <td>...</td>\n",
       "      <td>No Deposit</td>\n",
       "      <td>9.0</td>\n",
       "      <td>NaN</td>\n",
       "      <td>0</td>\n",
       "      <td>Transient</td>\n",
       "      <td>105.30</td>\n",
       "      <td>0</td>\n",
       "      <td>1</td>\n",
       "      <td>Check-Out</td>\n",
       "      <td>2016-04-21</td>\n",
       "    </tr>\n",
       "    <tr>\n",
       "      <th>29841</th>\n",
       "      <td>City Hotel</td>\n",
       "      <td>0</td>\n",
       "      <td>48</td>\n",
       "      <td>2016</td>\n",
       "      <td>February</td>\n",
       "      <td>9</td>\n",
       "      <td>23</td>\n",
       "      <td>0</td>\n",
       "      <td>2</td>\n",
       "      <td>2</td>\n",
       "      <td>...</td>\n",
       "      <td>No Deposit</td>\n",
       "      <td>9.0</td>\n",
       "      <td>NaN</td>\n",
       "      <td>0</td>\n",
       "      <td>Transient</td>\n",
       "      <td>89.30</td>\n",
       "      <td>1</td>\n",
       "      <td>1</td>\n",
       "      <td>Check-Out</td>\n",
       "      <td>2016-02-25</td>\n",
       "    </tr>\n",
       "    <tr>\n",
       "      <th>50704</th>\n",
       "      <td>Resort Hotel</td>\n",
       "      <td>0</td>\n",
       "      <td>185</td>\n",
       "      <td>2015</td>\n",
       "      <td>September</td>\n",
       "      <td>39</td>\n",
       "      <td>21</td>\n",
       "      <td>1</td>\n",
       "      <td>1</td>\n",
       "      <td>2</td>\n",
       "      <td>...</td>\n",
       "      <td>No Deposit</td>\n",
       "      <td>208.0</td>\n",
       "      <td>NaN</td>\n",
       "      <td>0</td>\n",
       "      <td>Transient-Party</td>\n",
       "      <td>90.00</td>\n",
       "      <td>0</td>\n",
       "      <td>0</td>\n",
       "      <td>Check-Out</td>\n",
       "      <td>2015-09-23</td>\n",
       "    </tr>\n",
       "    <tr>\n",
       "      <th>46328</th>\n",
       "      <td>Resort Hotel</td>\n",
       "      <td>0</td>\n",
       "      <td>132</td>\n",
       "      <td>2016</td>\n",
       "      <td>May</td>\n",
       "      <td>23</td>\n",
       "      <td>29</td>\n",
       "      <td>2</td>\n",
       "      <td>5</td>\n",
       "      <td>2</td>\n",
       "      <td>...</td>\n",
       "      <td>No Deposit</td>\n",
       "      <td>243.0</td>\n",
       "      <td>NaN</td>\n",
       "      <td>0</td>\n",
       "      <td>Contract</td>\n",
       "      <td>62.90</td>\n",
       "      <td>0</td>\n",
       "      <td>1</td>\n",
       "      <td>Check-Out</td>\n",
       "      <td>2016-06-05</td>\n",
       "    </tr>\n",
       "    <tr>\n",
       "      <th>7461</th>\n",
       "      <td>City Hotel</td>\n",
       "      <td>0</td>\n",
       "      <td>18</td>\n",
       "      <td>2017</td>\n",
       "      <td>August</td>\n",
       "      <td>31</td>\n",
       "      <td>5</td>\n",
       "      <td>0</td>\n",
       "      <td>1</td>\n",
       "      <td>3</td>\n",
       "      <td>...</td>\n",
       "      <td>No Deposit</td>\n",
       "      <td>7.0</td>\n",
       "      <td>NaN</td>\n",
       "      <td>0</td>\n",
       "      <td>Transient</td>\n",
       "      <td>241.48</td>\n",
       "      <td>0</td>\n",
       "      <td>2</td>\n",
       "      <td>Check-Out</td>\n",
       "      <td>2017-08-06</td>\n",
       "    </tr>\n",
       "    <tr>\n",
       "      <th>77628</th>\n",
       "      <td>City Hotel</td>\n",
       "      <td>1</td>\n",
       "      <td>31</td>\n",
       "      <td>2017</td>\n",
       "      <td>July</td>\n",
       "      <td>30</td>\n",
       "      <td>28</td>\n",
       "      <td>0</td>\n",
       "      <td>1</td>\n",
       "      <td>2</td>\n",
       "      <td>...</td>\n",
       "      <td>No Deposit</td>\n",
       "      <td>7.0</td>\n",
       "      <td>NaN</td>\n",
       "      <td>0</td>\n",
       "      <td>Transient</td>\n",
       "      <td>112.00</td>\n",
       "      <td>0</td>\n",
       "      <td>1</td>\n",
       "      <td>Canceled</td>\n",
       "      <td>2017-06-28</td>\n",
       "    </tr>\n",
       "    <tr>\n",
       "      <th>11569</th>\n",
       "      <td>Resort Hotel</td>\n",
       "      <td>0</td>\n",
       "      <td>15</td>\n",
       "      <td>2016</td>\n",
       "      <td>August</td>\n",
       "      <td>32</td>\n",
       "      <td>4</td>\n",
       "      <td>0</td>\n",
       "      <td>3</td>\n",
       "      <td>3</td>\n",
       "      <td>...</td>\n",
       "      <td>No Deposit</td>\n",
       "      <td>241.0</td>\n",
       "      <td>NaN</td>\n",
       "      <td>0</td>\n",
       "      <td>Transient</td>\n",
       "      <td>195.58</td>\n",
       "      <td>0</td>\n",
       "      <td>1</td>\n",
       "      <td>Check-Out</td>\n",
       "      <td>2016-08-07</td>\n",
       "    </tr>\n",
       "    <tr>\n",
       "      <th>7227</th>\n",
       "      <td>City Hotel</td>\n",
       "      <td>1</td>\n",
       "      <td>35</td>\n",
       "      <td>2016</td>\n",
       "      <td>February</td>\n",
       "      <td>7</td>\n",
       "      <td>13</td>\n",
       "      <td>1</td>\n",
       "      <td>1</td>\n",
       "      <td>1</td>\n",
       "      <td>...</td>\n",
       "      <td>No Deposit</td>\n",
       "      <td>9.0</td>\n",
       "      <td>NaN</td>\n",
       "      <td>0</td>\n",
       "      <td>Transient</td>\n",
       "      <td>72.90</td>\n",
       "      <td>0</td>\n",
       "      <td>1</td>\n",
       "      <td>Canceled</td>\n",
       "      <td>2016-01-23</td>\n",
       "    </tr>\n",
       "  </tbody>\n",
       "</table>\n",
       "<p>10 rows × 32 columns</p>\n",
       "</div>"
      ],
      "text/plain": [
       "               hotel  is_canceled  lead_time  arrival_date_year  \\\n",
       "35260   Resort Hotel            1        277               2015   \n",
       "20740   Resort Hotel            0         22               2016   \n",
       "103459    City Hotel            0         47               2016   \n",
       "29841     City Hotel            0         48               2016   \n",
       "50704   Resort Hotel            0        185               2015   \n",
       "46328   Resort Hotel            0        132               2016   \n",
       "7461      City Hotel            0         18               2017   \n",
       "77628     City Hotel            1         31               2017   \n",
       "11569   Resort Hotel            0         15               2016   \n",
       "7227      City Hotel            1         35               2016   \n",
       "\n",
       "       arrival_date_month  arrival_date_week_number  \\\n",
       "35260             October                        41   \n",
       "20740           September                        40   \n",
       "103459              April                        17   \n",
       "29841            February                         9   \n",
       "50704           September                        39   \n",
       "46328                 May                        23   \n",
       "7461               August                        31   \n",
       "77628                July                        30   \n",
       "11569              August                        32   \n",
       "7227             February                         7   \n",
       "\n",
       "        arrival_date_day_of_month  stays_in_weekend_nights  \\\n",
       "35260                           5                        4   \n",
       "20740                          30                        0   \n",
       "103459                         19                        0   \n",
       "29841                          23                        0   \n",
       "50704                          21                        1   \n",
       "46328                          29                        2   \n",
       "7461                            5                        0   \n",
       "77628                          28                        0   \n",
       "11569                           4                        0   \n",
       "7227                           13                        1   \n",
       "\n",
       "        stays_in_week_nights  adults  ...  deposit_type  agent company  \\\n",
       "35260                     10       2  ...    Non Refund  273.0     NaN   \n",
       "20740                      2       2  ...    No Deposit  240.0     NaN   \n",
       "103459                     2       2  ...    No Deposit    9.0     NaN   \n",
       "29841                      2       2  ...    No Deposit    9.0     NaN   \n",
       "50704                      1       2  ...    No Deposit  208.0     NaN   \n",
       "46328                      5       2  ...    No Deposit  243.0     NaN   \n",
       "7461                       1       3  ...    No Deposit    7.0     NaN   \n",
       "77628                      1       2  ...    No Deposit    7.0     NaN   \n",
       "11569                      3       3  ...    No Deposit  241.0     NaN   \n",
       "7227                       1       1  ...    No Deposit    9.0     NaN   \n",
       "\n",
       "       days_in_waiting_list    customer_type     adr  \\\n",
       "35260                     0        Transient   78.50   \n",
       "20740                     0        Transient  110.00   \n",
       "103459                    0        Transient  105.30   \n",
       "29841                     0        Transient   89.30   \n",
       "50704                     0  Transient-Party   90.00   \n",
       "46328                     0         Contract   62.90   \n",
       "7461                      0        Transient  241.48   \n",
       "77628                     0        Transient  112.00   \n",
       "11569                     0        Transient  195.58   \n",
       "7227                      0        Transient   72.90   \n",
       "\n",
       "        required_car_parking_spaces  total_of_special_requests  \\\n",
       "35260                             0                          0   \n",
       "20740                             1                          2   \n",
       "103459                            0                          1   \n",
       "29841                             1                          1   \n",
       "50704                             0                          0   \n",
       "46328                             0                          1   \n",
       "7461                              0                          2   \n",
       "77628                             0                          1   \n",
       "11569                             0                          1   \n",
       "7227                              0                          1   \n",
       "\n",
       "        reservation_status reservation_status_date  \n",
       "35260             Canceled              2015-10-02  \n",
       "20740            Check-Out              2016-10-02  \n",
       "103459           Check-Out              2016-04-21  \n",
       "29841            Check-Out              2016-02-25  \n",
       "50704            Check-Out              2015-09-23  \n",
       "46328            Check-Out              2016-06-05  \n",
       "7461             Check-Out              2017-08-06  \n",
       "77628             Canceled              2017-06-28  \n",
       "11569            Check-Out              2016-08-07  \n",
       "7227              Canceled              2016-01-23  \n",
       "\n",
       "[10 rows x 32 columns]"
      ]
     },
     "execution_count": 6,
     "metadata": {},
     "output_type": "execute_result"
    }
   ],
   "source": [
    "hotel_bookings.sample(10)"
   ]
  },
  {
   "cell_type": "markdown",
   "id": "dcae2df6-61e2-45bb-abd8-2222afecfbd1",
   "metadata": {},
   "source": [
    "## EDA"
   ]
  },
  {
   "cell_type": "code",
   "execution_count": 7,
   "id": "e696679c-e27a-4585-80e7-3bacd96292df",
   "metadata": {
    "tags": []
   },
   "outputs": [],
   "source": [
    "from ydata_profiling import ProfileReport"
   ]
  },
  {
   "cell_type": "code",
   "execution_count": 8,
   "id": "edc1a418-e2af-4b62-ae90-91b38d169d0c",
   "metadata": {
    "tags": []
   },
   "outputs": [],
   "source": [
    "profile = ProfileReport(hotel_bookings, title=\"Pandas Profiling Report\")"
   ]
  },
  {
   "cell_type": "code",
   "execution_count": 9,
   "id": "3da2e9e7-1460-422b-82a8-46f6d7a4d870",
   "metadata": {
    "tags": []
   },
   "outputs": [],
   "source": [
    "# profile.to_file(\"bookings_profile.html\")\n",
    "## file:///Users/antonio.feregrino/hub/cf-ml/hotel-facilito/bookings_profile.html"
   ]
  },
  {
   "cell_type": "markdown",
   "id": "96160a18-7eb1-4e47-90ca-9b4f8392b828",
   "metadata": {},
   "source": [
    "### Custom plots ..."
   ]
  },
  {
   "cell_type": "markdown",
   "id": "5d7cc55d-a88b-41f9-9fce-bfc122c6eecc",
   "metadata": {},
   "source": [
    "## Data leakage\n",
    "\n",
    "La variable `reservation_status` indica el estado de la reservación, esta es en realidad un reflejo de `is_canceled`, si la dejamos dentro de las variables de entrada estamos filtrando información al modelo. Este nos dará un resultado excelente, pero en realidad no nos servirá de nada en la vida real. Debemos sacarla del dataset junto con otras varaibles asociadas:"
   ]
  },
  {
   "cell_type": "code",
   "execution_count": 10,
   "id": "0770c308-1611-46fb-8dc6-881d43cdfd8a",
   "metadata": {
    "tags": []
   },
   "outputs": [],
   "source": [
    "# Avoid data leakage\n",
    "hotel_bookings = hotel_bookings.drop(['reservation_status', 'reservation_status_date'], axis=1)"
   ]
  },
  {
   "cell_type": "markdown",
   "id": "7cd3a99b-9245-4ab8-a7e0-c15b706efb4b",
   "metadata": {},
   "source": [
    "## Separa la variable a predecir\n"
   ]
  },
  {
   "cell_type": "code",
   "execution_count": 11,
   "id": "c2d6286e-dd8e-4bff-a462-92f8637f7975",
   "metadata": {
    "tags": []
   },
   "outputs": [],
   "source": [
    "is_canceled = hotel_bookings['is_canceled'].copy()\n",
    "hotel_data = hotel_bookings.drop(['is_canceled'], axis=1)"
   ]
  },
  {
   "cell_type": "markdown",
   "id": "9ae86c4c-fe80-4d55-8949-faae8821a827",
   "metadata": {
    "tags": []
   },
   "source": [
    "## Split dataset"
   ]
  },
  {
   "cell_type": "code",
   "execution_count": 12,
   "id": "af5fc337-98eb-45b4-9379-79786cb65e6e",
   "metadata": {
    "tags": []
   },
   "outputs": [
    {
     "name": "stdout",
     "output_type": "stream",
     "text": [
      "71514 23838 23838 119190\n"
     ]
    }
   ],
   "source": [
    "# Calculate test and validation set size:\n",
    "original_count = len(hotel_bookings)\n",
    "training_size = 0.60 # 60% of records\n",
    "test_size = (1 - training_size) / 2\n",
    "\n",
    "\n",
    "training_count = int(original_count * training_size)\n",
    "test_count = int(original_count * test_size)\n",
    "validation_count = original_count - training_count - test_count\n",
    "\n",
    "print(training_count, test_count, validation_count, original_count)"
   ]
  },
  {
   "cell_type": "code",
   "execution_count": 13,
   "id": "538bd1d9-9e1d-47c2-9e9b-faca9f052236",
   "metadata": {
    "tags": []
   },
   "outputs": [
    {
     "name": "stdout",
     "output_type": "stream",
     "text": [
      "71514 23838 23838\n"
     ]
    }
   ],
   "source": [
    "from sklearn.model_selection import train_test_split\n",
    "\n",
    "train_x, rest_x, train_y, rest_y = train_test_split(hotel_data, is_canceled, train_size=training_count)\n",
    "test_x, validate_x, test_y, validate_y = train_test_split(rest_x, rest_y, train_size=test_count)\n",
    "\n",
    "print(len(train_x), len(test_x), len(validate_x))"
   ]
  },
  {
   "cell_type": "markdown",
   "id": "5ff2f029-a21b-4a3f-a437-3d8fe0fac25b",
   "metadata": {},
   "source": [
    "## Variables a codificar - One-hot encoding\n",
    "\n",
    " - hotel, meal, distribution_channel, reserved_room_type, assigned_room_type, customer_type, deposit_type"
   ]
  },
  {
   "cell_type": "code",
   "execution_count": 14,
   "id": "ef04f3c3-9080-48c5-b05c-5aca282752b6",
   "metadata": {
    "tags": []
   },
   "outputs": [],
   "source": [
    "from sklearn.preprocessing import OneHotEncoder"
   ]
  },
  {
   "cell_type": "code",
   "execution_count": 15,
   "id": "77510440-3021-44c9-acd8-ec05e997deb1",
   "metadata": {
    "tags": []
   },
   "outputs": [],
   "source": [
    "one_hot_encoder = OneHotEncoder(sparse_output=False, handle_unknown=\"ignore\")"
   ]
  },
  {
   "cell_type": "code",
   "execution_count": 16,
   "id": "5dec1da7-a64c-4e95-bc4b-d238a3c085d2",
   "metadata": {
    "tags": []
   },
   "outputs": [
    {
     "data": {
      "text/plain": [
       "array([[1., 0.],\n",
       "       [1., 0.],\n",
       "       [1., 0.],\n",
       "       ...,\n",
       "       [1., 0.],\n",
       "       [1., 0.],\n",
       "       [1., 0.]])"
      ]
     },
     "execution_count": 16,
     "metadata": {},
     "output_type": "execute_result"
    }
   ],
   "source": [
    "one_hot_encoder.fit(train_x[['hotel']])\n",
    "one_hot_encoder.transform(train_x[['hotel']])"
   ]
  },
  {
   "cell_type": "markdown",
   "id": "169245ed-2e8f-469a-909e-5af84b52ffdc",
   "metadata": {},
   "source": [
    "## Variables a binarizar\n",
    "\n",
    " - total_of_special_requests, required_car_parking_spaces, booking_changes, previous_bookings_not_canceled, previous_cancellations"
   ]
  },
  {
   "cell_type": "code",
   "execution_count": 17,
   "id": "710b64e3-bb63-4f22-b36e-524da17a5b45",
   "metadata": {
    "tags": []
   },
   "outputs": [],
   "source": [
    "from sklearn.preprocessing import Binarizer"
   ]
  },
  {
   "cell_type": "code",
   "execution_count": 18,
   "id": "c4f9d5bc-4843-4b01-bb5d-751f536b8f8e",
   "metadata": {
    "tags": []
   },
   "outputs": [],
   "source": [
    "binarizer = Binarizer()"
   ]
  },
  {
   "cell_type": "code",
   "execution_count": 19,
   "id": "e212dd38-ed53-4d82-ab24-e9c4ab2123ab",
   "metadata": {
    "tags": []
   },
   "outputs": [
    {
     "data": {
      "text/html": [
       "<div>\n",
       "<style scoped>\n",
       "    .dataframe tbody tr th:only-of-type {\n",
       "        vertical-align: middle;\n",
       "    }\n",
       "\n",
       "    .dataframe tbody tr th {\n",
       "        vertical-align: top;\n",
       "    }\n",
       "\n",
       "    .dataframe thead th {\n",
       "        text-align: right;\n",
       "    }\n",
       "</style>\n",
       "<table border=\"1\" class=\"dataframe\">\n",
       "  <thead>\n",
       "    <tr style=\"text-align: right;\">\n",
       "      <th></th>\n",
       "      <th>total_of_special_requests</th>\n",
       "      <th>has_made_special_requests</th>\n",
       "    </tr>\n",
       "  </thead>\n",
       "  <tbody>\n",
       "    <tr>\n",
       "      <th>110362</th>\n",
       "      <td>4</td>\n",
       "      <td>1</td>\n",
       "    </tr>\n",
       "    <tr>\n",
       "      <th>116663</th>\n",
       "      <td>1</td>\n",
       "      <td>1</td>\n",
       "    </tr>\n",
       "    <tr>\n",
       "      <th>1458</th>\n",
       "      <td>0</td>\n",
       "      <td>0</td>\n",
       "    </tr>\n",
       "    <tr>\n",
       "      <th>50904</th>\n",
       "      <td>1</td>\n",
       "      <td>1</td>\n",
       "    </tr>\n",
       "    <tr>\n",
       "      <th>34560</th>\n",
       "      <td>0</td>\n",
       "      <td>0</td>\n",
       "    </tr>\n",
       "    <tr>\n",
       "      <th>65570</th>\n",
       "      <td>0</td>\n",
       "      <td>0</td>\n",
       "    </tr>\n",
       "    <tr>\n",
       "      <th>11599</th>\n",
       "      <td>1</td>\n",
       "      <td>1</td>\n",
       "    </tr>\n",
       "    <tr>\n",
       "      <th>37363</th>\n",
       "      <td>0</td>\n",
       "      <td>0</td>\n",
       "    </tr>\n",
       "    <tr>\n",
       "      <th>52496</th>\n",
       "      <td>1</td>\n",
       "      <td>1</td>\n",
       "    </tr>\n",
       "    <tr>\n",
       "      <th>21766</th>\n",
       "      <td>0</td>\n",
       "      <td>0</td>\n",
       "    </tr>\n",
       "  </tbody>\n",
       "</table>\n",
       "</div>"
      ],
      "text/plain": [
       "        total_of_special_requests  has_made_special_requests\n",
       "110362                          4                          1\n",
       "116663                          1                          1\n",
       "1458                            0                          0\n",
       "50904                           1                          1\n",
       "34560                           0                          0\n",
       "65570                           0                          0\n",
       "11599                           1                          1\n",
       "37363                           0                          0\n",
       "52496                           1                          1\n",
       "21766                           0                          0"
      ]
     },
     "execution_count": 19,
     "metadata": {},
     "output_type": "execute_result"
    }
   ],
   "source": [
    "_ = train_x.copy()\n",
    "binarizer.fit(_[['total_of_special_requests']])\n",
    "_['has_made_special_requests'] = binarizer.transform(train_x[['total_of_special_requests']])\n",
    "\n",
    "_[['total_of_special_requests', 'has_made_special_requests']].sample(10)"
   ]
  },
  {
   "cell_type": "markdown",
   "id": "3f8b7727-b7a6-4d0f-9307-5e6ea55b566b",
   "metadata": {},
   "source": [
    "## Variables a escalar\n",
    "\n",
    " - adr"
   ]
  },
  {
   "cell_type": "code",
   "execution_count": 20,
   "id": "fd82605f-e8c1-45fe-9580-9d3d81cc7f72",
   "metadata": {
    "tags": []
   },
   "outputs": [],
   "source": [
    "from sklearn.preprocessing import RobustScaler"
   ]
  },
  {
   "cell_type": "code",
   "execution_count": 21,
   "id": "a8062d36-aae6-4fd4-96ca-c2248e3c01ba",
   "metadata": {
    "tags": []
   },
   "outputs": [],
   "source": [
    "scaler = RobustScaler()"
   ]
  },
  {
   "cell_type": "code",
   "execution_count": 22,
   "id": "bae1bae3-1d25-4be3-842f-1adc12716699",
   "metadata": {
    "tags": []
   },
   "outputs": [
    {
     "data": {
      "text/html": [
       "<div>\n",
       "<style scoped>\n",
       "    .dataframe tbody tr th:only-of-type {\n",
       "        vertical-align: middle;\n",
       "    }\n",
       "\n",
       "    .dataframe tbody tr th {\n",
       "        vertical-align: top;\n",
       "    }\n",
       "\n",
       "    .dataframe thead th {\n",
       "        text-align: right;\n",
       "    }\n",
       "</style>\n",
       "<table border=\"1\" class=\"dataframe\">\n",
       "  <thead>\n",
       "    <tr style=\"text-align: right;\">\n",
       "      <th></th>\n",
       "      <th>adr</th>\n",
       "      <th>adr_scaled</th>\n",
       "    </tr>\n",
       "  </thead>\n",
       "  <tbody>\n",
       "    <tr>\n",
       "      <th>12594</th>\n",
       "      <td>192.67</td>\n",
       "      <td>1.722271</td>\n",
       "    </tr>\n",
       "    <tr>\n",
       "      <th>86422</th>\n",
       "      <td>62.00</td>\n",
       "      <td>-0.581908</td>\n",
       "    </tr>\n",
       "    <tr>\n",
       "      <th>60207</th>\n",
       "      <td>68.00</td>\n",
       "      <td>-0.476107</td>\n",
       "    </tr>\n",
       "    <tr>\n",
       "      <th>91153</th>\n",
       "      <td>62.00</td>\n",
       "      <td>-0.581908</td>\n",
       "    </tr>\n",
       "    <tr>\n",
       "      <th>88804</th>\n",
       "      <td>84.00</td>\n",
       "      <td>-0.193969</td>\n",
       "    </tr>\n",
       "    <tr>\n",
       "      <th>33536</th>\n",
       "      <td>229.00</td>\n",
       "      <td>2.362899</td>\n",
       "    </tr>\n",
       "    <tr>\n",
       "      <th>84466</th>\n",
       "      <td>244.00</td>\n",
       "      <td>2.627403</td>\n",
       "    </tr>\n",
       "    <tr>\n",
       "      <th>85041</th>\n",
       "      <td>90.00</td>\n",
       "      <td>-0.088168</td>\n",
       "    </tr>\n",
       "    <tr>\n",
       "      <th>71935</th>\n",
       "      <td>102.70</td>\n",
       "      <td>0.135779</td>\n",
       "    </tr>\n",
       "    <tr>\n",
       "      <th>95734</th>\n",
       "      <td>85.00</td>\n",
       "      <td>-0.176336</td>\n",
       "    </tr>\n",
       "  </tbody>\n",
       "</table>\n",
       "</div>"
      ],
      "text/plain": [
       "          adr  adr_scaled\n",
       "12594  192.67    1.722271\n",
       "86422   62.00   -0.581908\n",
       "60207   68.00   -0.476107\n",
       "91153   62.00   -0.581908\n",
       "88804   84.00   -0.193969\n",
       "33536  229.00    2.362899\n",
       "84466  244.00    2.627403\n",
       "85041   90.00   -0.088168\n",
       "71935  102.70    0.135779\n",
       "95734   85.00   -0.176336"
      ]
     },
     "execution_count": 22,
     "metadata": {},
     "output_type": "execute_result"
    }
   ],
   "source": [
    "_ = train_x.copy()\n",
    "scaler.fit(_[['adr']])\n",
    "_['adr_scaled'] = scaler.transform(train_x[['adr']])\n",
    "\n",
    "_[['adr', 'adr_scaled']].sample(10)"
   ]
  },
  {
   "cell_type": "markdown",
   "id": "715aa02d-799e-4d75-a789-f69b7db7c3ba",
   "metadata": {},
   "source": [
    "## Variables a dejar como tal\n",
    "\n",
    " - stays_in_weekend_nights, stays_in_week_nights\n",
    " \n",
    " \n",
    " > El tratamiento de estas depende del modelo a usar"
   ]
  },
  {
   "cell_type": "markdown",
   "id": "23973d66-5eee-4077-80a7-a1be42114d17",
   "metadata": {},
   "source": [
    "## Armando un pipeline de transformación"
   ]
  },
  {
   "cell_type": "code",
   "execution_count": 23,
   "id": "a97ca091-ae68-4e11-9f8f-2466427764ce",
   "metadata": {
    "tags": []
   },
   "outputs": [],
   "source": [
    "from sklearn.compose import ColumnTransformer\n",
    "from sklearn.pipeline import FeatureUnion, Pipeline"
   ]
  },
  {
   "cell_type": "code",
   "execution_count": 24,
   "id": "37ec4bcc-fd3e-415f-9e62-660507317bef",
   "metadata": {
    "tags": []
   },
   "outputs": [],
   "source": [
    "one_hot_encoding = ColumnTransformer([\n",
    "    (\n",
    "        'one_hot_encode',\n",
    "        OneHotEncoder(sparse_output=False, handle_unknown=\"ignore\"),\n",
    "        [\n",
    "            \"hotel\",\n",
    "            \"meal\", \n",
    "            \"distribution_channel\", \n",
    "            \"reserved_room_type\", \n",
    "            \"assigned_room_type\", \n",
    "            \"customer_type\"\n",
    "        ]\n",
    "    )\n",
    "])"
   ]
  },
  {
   "cell_type": "code",
   "execution_count": 25,
   "id": "d1993793-a031-4bf2-92bc-a595f6d8df8c",
   "metadata": {
    "tags": []
   },
   "outputs": [],
   "source": [
    "binarizer = ColumnTransformer([\n",
    "    (\n",
    "        'binarizer',\n",
    "        Binarizer(),\n",
    "        [\n",
    "            \"total_of_special_requests\", \n",
    "            \"required_car_parking_spaces\", \n",
    "            \"booking_changes\", \n",
    "            \"previous_bookings_not_canceled\", \n",
    "            \"previous_cancellations\",\n",
    "        ]\n",
    "    )\n",
    "])\n",
    "    \n",
    "one_hot_binarized = Pipeline([\n",
    "    (\"binarizer\", binarizer),\n",
    "    (\"one_hot_encoder\", OneHotEncoder(sparse_output=False, handle_unknown=\"ignore\")),\n",
    "])"
   ]
  },
  {
   "cell_type": "code",
   "execution_count": 26,
   "id": "5ad2d2d6-36bf-4bc9-ba8f-0cfecc46a0b7",
   "metadata": {
    "tags": []
   },
   "outputs": [],
   "source": [
    "scaler = ColumnTransformer([\n",
    "    (\"scaler\", RobustScaler(), [\"adr\"])\n",
    "])"
   ]
  },
  {
   "cell_type": "code",
   "execution_count": 27,
   "id": "4064ab04-77a0-4283-a8b1-77d766f44a6f",
   "metadata": {
    "tags": []
   },
   "outputs": [],
   "source": [
    "passthrough = ColumnTransformer([\n",
    "    (\n",
    "        \"passthrough\",\n",
    "        \"passthrough\",\n",
    "        [\n",
    "            \"stays_in_week_nights\",\n",
    "            \"stays_in_weekend_nights\",\n",
    "        ]\n",
    "    )\n",
    "])"
   ]
  },
  {
   "cell_type": "code",
   "execution_count": 28,
   "id": "c4a17765-a40f-4029-ba7b-76decb8a986a",
   "metadata": {
    "tags": []
   },
   "outputs": [],
   "source": [
    "feature_engineering_pipeline = pipe = Pipeline(\n",
    "    [\n",
    "        (\n",
    "            \"features\",\n",
    "            FeatureUnion(\n",
    "                [\n",
    "                    (\"categorical\", one_hot_encoding),\n",
    "                    (\"categorical_binarized\", one_hot_binarized),\n",
    "                    (\"scaled\", scaler),\n",
    "                    (\"pass\", passthrough),\n",
    "                ]\n",
    "            ),\n",
    "        )\n",
    "    ]\n",
    ")"
   ]
  },
  {
   "cell_type": "code",
   "execution_count": 29,
   "id": "f472ec43-9f1a-4f9e-8454-d45e9d30447f",
   "metadata": {
    "tags": []
   },
   "outputs": [
    {
     "data": {
      "text/plain": [
       "(71514, 51)"
      ]
     },
     "execution_count": 29,
     "metadata": {},
     "output_type": "execute_result"
    }
   ],
   "source": [
    "transformed = feature_engineering_pipeline.fit_transform(train_x)\n",
    "transformed.shape"
   ]
  },
  {
   "cell_type": "code",
   "execution_count": 30,
   "id": "05b87f6f-3410-4ef9-a35f-1c8020e0e032",
   "metadata": {
    "tags": []
   },
   "outputs": [
    {
     "data": {
      "text/plain": [
       "array([[ 1.        ,  0.        ,  0.        , ..., -1.36483865,\n",
       "         3.        ,  1.        ],\n",
       "       [ 1.        ,  0.        ,  1.        , ..., -0.32622113,\n",
       "         2.        ,  1.        ],\n",
       "       [ 1.        ,  0.        ,  1.        , ..., -0.25921354,\n",
       "         1.        ,  2.        ],\n",
       "       ...,\n",
       "       [ 1.        ,  0.        ,  1.        , ...,  0.26450361,\n",
       "         5.        ,  1.        ],\n",
       "       [ 1.        ,  0.        ,  1.        , ..., -0.7582437 ,\n",
       "         2.        ,  0.        ],\n",
       "       [ 1.        ,  0.        ,  0.        , ...,  0.35267149,\n",
       "         2.        ,  0.        ]])"
      ]
     },
     "execution_count": 30,
     "metadata": {},
     "output_type": "execute_result"
    }
   ],
   "source": [
    "transformed"
   ]
  },
  {
   "cell_type": "markdown",
   "id": "a3042008-c1b8-4ff2-95f9-b2e59801024a",
   "metadata": {},
   "source": [
    "## Model training"
   ]
  },
  {
   "cell_type": "code",
   "execution_count": 31,
   "id": "f1b52b98-96ba-4c4b-89c8-28cb0231fff8",
   "metadata": {
    "tags": []
   },
   "outputs": [],
   "source": [
    "# Get a fresh copy of the pipeline\n",
    "from sklearn.base import clone\n",
    "\n",
    "feature_transformer = clone(feature_engineering_pipeline)\n",
    "\n",
    "features_train_x = feature_transformer.fit_transform(train_x)\n",
    "features_validate_x = feature_transformer.transform(validate_x)"
   ]
  },
  {
   "cell_type": "code",
   "execution_count": 32,
   "id": "63a44b2e-4e78-4eed-94f3-c549d5738eb6",
   "metadata": {
    "tags": []
   },
   "outputs": [
    {
     "data": {
      "text/html": [
       "<style>#sk-container-id-1 {color: black;background-color: white;}#sk-container-id-1 pre{padding: 0;}#sk-container-id-1 div.sk-toggleable {background-color: white;}#sk-container-id-1 label.sk-toggleable__label {cursor: pointer;display: block;width: 100%;margin-bottom: 0;padding: 0.3em;box-sizing: border-box;text-align: center;}#sk-container-id-1 label.sk-toggleable__label-arrow:before {content: \"▸\";float: left;margin-right: 0.25em;color: #696969;}#sk-container-id-1 label.sk-toggleable__label-arrow:hover:before {color: black;}#sk-container-id-1 div.sk-estimator:hover label.sk-toggleable__label-arrow:before {color: black;}#sk-container-id-1 div.sk-toggleable__content {max-height: 0;max-width: 0;overflow: hidden;text-align: left;background-color: #f0f8ff;}#sk-container-id-1 div.sk-toggleable__content pre {margin: 0.2em;color: black;border-radius: 0.25em;background-color: #f0f8ff;}#sk-container-id-1 input.sk-toggleable__control:checked~div.sk-toggleable__content {max-height: 200px;max-width: 100%;overflow: auto;}#sk-container-id-1 input.sk-toggleable__control:checked~label.sk-toggleable__label-arrow:before {content: \"▾\";}#sk-container-id-1 div.sk-estimator input.sk-toggleable__control:checked~label.sk-toggleable__label {background-color: #d4ebff;}#sk-container-id-1 div.sk-label input.sk-toggleable__control:checked~label.sk-toggleable__label {background-color: #d4ebff;}#sk-container-id-1 input.sk-hidden--visually {border: 0;clip: rect(1px 1px 1px 1px);clip: rect(1px, 1px, 1px, 1px);height: 1px;margin: -1px;overflow: hidden;padding: 0;position: absolute;width: 1px;}#sk-container-id-1 div.sk-estimator {font-family: monospace;background-color: #f0f8ff;border: 1px dotted black;border-radius: 0.25em;box-sizing: border-box;margin-bottom: 0.5em;}#sk-container-id-1 div.sk-estimator:hover {background-color: #d4ebff;}#sk-container-id-1 div.sk-parallel-item::after {content: \"\";width: 100%;border-bottom: 1px solid gray;flex-grow: 1;}#sk-container-id-1 div.sk-label:hover label.sk-toggleable__label {background-color: #d4ebff;}#sk-container-id-1 div.sk-serial::before {content: \"\";position: absolute;border-left: 1px solid gray;box-sizing: border-box;top: 0;bottom: 0;left: 50%;z-index: 0;}#sk-container-id-1 div.sk-serial {display: flex;flex-direction: column;align-items: center;background-color: white;padding-right: 0.2em;padding-left: 0.2em;position: relative;}#sk-container-id-1 div.sk-item {position: relative;z-index: 1;}#sk-container-id-1 div.sk-parallel {display: flex;align-items: stretch;justify-content: center;background-color: white;position: relative;}#sk-container-id-1 div.sk-item::before, #sk-container-id-1 div.sk-parallel-item::before {content: \"\";position: absolute;border-left: 1px solid gray;box-sizing: border-box;top: 0;bottom: 0;left: 50%;z-index: -1;}#sk-container-id-1 div.sk-parallel-item {display: flex;flex-direction: column;z-index: 1;position: relative;background-color: white;}#sk-container-id-1 div.sk-parallel-item:first-child::after {align-self: flex-end;width: 50%;}#sk-container-id-1 div.sk-parallel-item:last-child::after {align-self: flex-start;width: 50%;}#sk-container-id-1 div.sk-parallel-item:only-child::after {width: 0;}#sk-container-id-1 div.sk-dashed-wrapped {border: 1px dashed gray;margin: 0 0.4em 0.5em 0.4em;box-sizing: border-box;padding-bottom: 0.4em;background-color: white;}#sk-container-id-1 div.sk-label label {font-family: monospace;font-weight: bold;display: inline-block;line-height: 1.2em;}#sk-container-id-1 div.sk-label-container {text-align: center;}#sk-container-id-1 div.sk-container {/* jupyter's `normalize.less` sets `[hidden] { display: none; }` but bootstrap.min.css set `[hidden] { display: none !important; }` so we also need the `!important` here to be able to override the default hidden behavior on the sphinx rendered scikit-learn.org. See: https://github.com/scikit-learn/scikit-learn/issues/21755 */display: inline-block !important;position: relative;}#sk-container-id-1 div.sk-text-repr-fallback {display: none;}</style><div id=\"sk-container-id-1\" class=\"sk-top-container\"><div class=\"sk-text-repr-fallback\"><pre>RandomForestClassifier()</pre><b>In a Jupyter environment, please rerun this cell to show the HTML representation or trust the notebook. <br />On GitHub, the HTML representation is unable to render, please try loading this page with nbviewer.org.</b></div><div class=\"sk-container\" hidden><div class=\"sk-item\"><div class=\"sk-estimator sk-toggleable\"><input class=\"sk-toggleable__control sk-hidden--visually\" id=\"sk-estimator-id-1\" type=\"checkbox\" checked><label for=\"sk-estimator-id-1\" class=\"sk-toggleable__label sk-toggleable__label-arrow\">RandomForestClassifier</label><div class=\"sk-toggleable__content\"><pre>RandomForestClassifier()</pre></div></div></div></div></div>"
      ],
      "text/plain": [
       "RandomForestClassifier()"
      ]
     },
     "execution_count": 32,
     "metadata": {},
     "output_type": "execute_result"
    }
   ],
   "source": [
    "from sklearn.ensemble import RandomForestClassifier\n",
    "from sklearn.svm import LinearSVC\n",
    "\n",
    "model = RandomForestClassifier(n_estimators=100)\n",
    "\n",
    "model.fit(features_train_x, train_y)"
   ]
  },
  {
   "cell_type": "markdown",
   "id": "41a5b2ec-9a8d-4421-be0a-7a50ede5f1d5",
   "metadata": {
    "tags": []
   },
   "source": [
    "## Model validation"
   ]
  },
  {
   "cell_type": "code",
   "execution_count": 33,
   "id": "37d12e50-c19d-45ba-a273-8857fc57cec5",
   "metadata": {
    "tags": []
   },
   "outputs": [
    {
     "name": "stdout",
     "output_type": "stream",
     "text": [
      "0.8077439382498531\n",
      "0.7130906624463034\n"
     ]
    }
   ],
   "source": [
    "from sklearn.metrics import accuracy_score, recall_score\n",
    "\n",
    "pred_y = model.predict(features_validate_x)\n",
    "\n",
    "print(accuracy_score(validate_y, pred_y))\n",
    "print(recall_score(validate_y, pred_y))"
   ]
  },
  {
   "cell_type": "markdown",
   "id": "7aa7e093-9075-4183-b7a0-46e03fa1e2ed",
   "metadata": {},
   "source": [
    "## Construcción del pipeline final"
   ]
  },
  {
   "cell_type": "code",
   "execution_count": 34,
   "id": "7e06f9f2-5f5e-46ea-96a9-1409ddd88e4c",
   "metadata": {
    "tags": []
   },
   "outputs": [],
   "source": [
    "final_inference_pipeline = Pipeline([\n",
    "    (\"feature_engineering\", clone(feature_engineering_pipeline)),\n",
    "    (\"model\", RandomForestClassifier(n_estimators=100))\n",
    "])"
   ]
  },
  {
   "cell_type": "code",
   "execution_count": 35,
   "id": "8237715b-2cee-4cc1-bccf-965b9ea4f2f5",
   "metadata": {
    "tags": []
   },
   "outputs": [],
   "source": [
    "final_training_dataset = pd.concat([train_x, validate_x])\n",
    "final_training_response = pd.concat([train_y, validate_y])"
   ]
  },
  {
   "cell_type": "code",
   "execution_count": 36,
   "id": "56931081-a95a-4721-967e-e52e5dba515b",
   "metadata": {
    "tags": []
   },
   "outputs": [
    {
     "data": {
      "text/html": [
       "<style>#sk-container-id-2 {color: black;background-color: white;}#sk-container-id-2 pre{padding: 0;}#sk-container-id-2 div.sk-toggleable {background-color: white;}#sk-container-id-2 label.sk-toggleable__label {cursor: pointer;display: block;width: 100%;margin-bottom: 0;padding: 0.3em;box-sizing: border-box;text-align: center;}#sk-container-id-2 label.sk-toggleable__label-arrow:before {content: \"▸\";float: left;margin-right: 0.25em;color: #696969;}#sk-container-id-2 label.sk-toggleable__label-arrow:hover:before {color: black;}#sk-container-id-2 div.sk-estimator:hover label.sk-toggleable__label-arrow:before {color: black;}#sk-container-id-2 div.sk-toggleable__content {max-height: 0;max-width: 0;overflow: hidden;text-align: left;background-color: #f0f8ff;}#sk-container-id-2 div.sk-toggleable__content pre {margin: 0.2em;color: black;border-radius: 0.25em;background-color: #f0f8ff;}#sk-container-id-2 input.sk-toggleable__control:checked~div.sk-toggleable__content {max-height: 200px;max-width: 100%;overflow: auto;}#sk-container-id-2 input.sk-toggleable__control:checked~label.sk-toggleable__label-arrow:before {content: \"▾\";}#sk-container-id-2 div.sk-estimator input.sk-toggleable__control:checked~label.sk-toggleable__label {background-color: #d4ebff;}#sk-container-id-2 div.sk-label input.sk-toggleable__control:checked~label.sk-toggleable__label {background-color: #d4ebff;}#sk-container-id-2 input.sk-hidden--visually {border: 0;clip: rect(1px 1px 1px 1px);clip: rect(1px, 1px, 1px, 1px);height: 1px;margin: -1px;overflow: hidden;padding: 0;position: absolute;width: 1px;}#sk-container-id-2 div.sk-estimator {font-family: monospace;background-color: #f0f8ff;border: 1px dotted black;border-radius: 0.25em;box-sizing: border-box;margin-bottom: 0.5em;}#sk-container-id-2 div.sk-estimator:hover {background-color: #d4ebff;}#sk-container-id-2 div.sk-parallel-item::after {content: \"\";width: 100%;border-bottom: 1px solid gray;flex-grow: 1;}#sk-container-id-2 div.sk-label:hover label.sk-toggleable__label {background-color: #d4ebff;}#sk-container-id-2 div.sk-serial::before {content: \"\";position: absolute;border-left: 1px solid gray;box-sizing: border-box;top: 0;bottom: 0;left: 50%;z-index: 0;}#sk-container-id-2 div.sk-serial {display: flex;flex-direction: column;align-items: center;background-color: white;padding-right: 0.2em;padding-left: 0.2em;position: relative;}#sk-container-id-2 div.sk-item {position: relative;z-index: 1;}#sk-container-id-2 div.sk-parallel {display: flex;align-items: stretch;justify-content: center;background-color: white;position: relative;}#sk-container-id-2 div.sk-item::before, #sk-container-id-2 div.sk-parallel-item::before {content: \"\";position: absolute;border-left: 1px solid gray;box-sizing: border-box;top: 0;bottom: 0;left: 50%;z-index: -1;}#sk-container-id-2 div.sk-parallel-item {display: flex;flex-direction: column;z-index: 1;position: relative;background-color: white;}#sk-container-id-2 div.sk-parallel-item:first-child::after {align-self: flex-end;width: 50%;}#sk-container-id-2 div.sk-parallel-item:last-child::after {align-self: flex-start;width: 50%;}#sk-container-id-2 div.sk-parallel-item:only-child::after {width: 0;}#sk-container-id-2 div.sk-dashed-wrapped {border: 1px dashed gray;margin: 0 0.4em 0.5em 0.4em;box-sizing: border-box;padding-bottom: 0.4em;background-color: white;}#sk-container-id-2 div.sk-label label {font-family: monospace;font-weight: bold;display: inline-block;line-height: 1.2em;}#sk-container-id-2 div.sk-label-container {text-align: center;}#sk-container-id-2 div.sk-container {/* jupyter's `normalize.less` sets `[hidden] { display: none; }` but bootstrap.min.css set `[hidden] { display: none !important; }` so we also need the `!important` here to be able to override the default hidden behavior on the sphinx rendered scikit-learn.org. See: https://github.com/scikit-learn/scikit-learn/issues/21755 */display: inline-block !important;position: relative;}#sk-container-id-2 div.sk-text-repr-fallback {display: none;}</style><div id=\"sk-container-id-2\" class=\"sk-top-container\"><div class=\"sk-text-repr-fallback\"><pre>Pipeline(steps=[(&#x27;feature_engineering&#x27;,\n",
       "                 Pipeline(steps=[(&#x27;features&#x27;,\n",
       "                                  FeatureUnion(transformer_list=[(&#x27;categorical&#x27;,\n",
       "                                                                  ColumnTransformer(transformers=[(&#x27;one_hot_encode&#x27;,\n",
       "                                                                                                   OneHotEncoder(handle_unknown=&#x27;ignore&#x27;,\n",
       "                                                                                                                 sparse_output=False),\n",
       "                                                                                                   [&#x27;hotel&#x27;,\n",
       "                                                                                                    &#x27;meal&#x27;,\n",
       "                                                                                                    &#x27;distribution_channel&#x27;,\n",
       "                                                                                                    &#x27;reserved_room_type&#x27;,\n",
       "                                                                                                    &#x27;assigned_room_type&#x27;,\n",
       "                                                                                                    &#x27;customer_type&#x27;])])),\n",
       "                                                                 (&#x27;categorical_binarized&#x27;,\n",
       "                                                                  P...\n",
       "                                                                                                                     &#x27;previous_cancellations&#x27;])])),\n",
       "                                                                                  (&#x27;one_hot_encoder&#x27;,\n",
       "                                                                                   OneHotEncoder(handle_unknown=&#x27;ignore&#x27;,\n",
       "                                                                                                 sparse_output=False))])),\n",
       "                                                                 (&#x27;scaled&#x27;,\n",
       "                                                                  ColumnTransformer(transformers=[(&#x27;scaler&#x27;,\n",
       "                                                                                                   RobustScaler(),\n",
       "                                                                                                   [&#x27;adr&#x27;])])),\n",
       "                                                                 (&#x27;pass&#x27;,\n",
       "                                                                  ColumnTransformer(transformers=[(&#x27;passthrough&#x27;,\n",
       "                                                                                                   &#x27;passthrough&#x27;,\n",
       "                                                                                                   [&#x27;stays_in_week_nights&#x27;,\n",
       "                                                                                                    &#x27;stays_in_weekend_nights&#x27;])]))]))])),\n",
       "                (&#x27;model&#x27;, RandomForestClassifier())])</pre><b>In a Jupyter environment, please rerun this cell to show the HTML representation or trust the notebook. <br />On GitHub, the HTML representation is unable to render, please try loading this page with nbviewer.org.</b></div><div class=\"sk-container\" hidden><div class=\"sk-item sk-dashed-wrapped\"><div class=\"sk-label-container\"><div class=\"sk-label sk-toggleable\"><input class=\"sk-toggleable__control sk-hidden--visually\" id=\"sk-estimator-id-2\" type=\"checkbox\" ><label for=\"sk-estimator-id-2\" class=\"sk-toggleable__label sk-toggleable__label-arrow\">Pipeline</label><div class=\"sk-toggleable__content\"><pre>Pipeline(steps=[(&#x27;feature_engineering&#x27;,\n",
       "                 Pipeline(steps=[(&#x27;features&#x27;,\n",
       "                                  FeatureUnion(transformer_list=[(&#x27;categorical&#x27;,\n",
       "                                                                  ColumnTransformer(transformers=[(&#x27;one_hot_encode&#x27;,\n",
       "                                                                                                   OneHotEncoder(handle_unknown=&#x27;ignore&#x27;,\n",
       "                                                                                                                 sparse_output=False),\n",
       "                                                                                                   [&#x27;hotel&#x27;,\n",
       "                                                                                                    &#x27;meal&#x27;,\n",
       "                                                                                                    &#x27;distribution_channel&#x27;,\n",
       "                                                                                                    &#x27;reserved_room_type&#x27;,\n",
       "                                                                                                    &#x27;assigned_room_type&#x27;,\n",
       "                                                                                                    &#x27;customer_type&#x27;])])),\n",
       "                                                                 (&#x27;categorical_binarized&#x27;,\n",
       "                                                                  P...\n",
       "                                                                                                                     &#x27;previous_cancellations&#x27;])])),\n",
       "                                                                                  (&#x27;one_hot_encoder&#x27;,\n",
       "                                                                                   OneHotEncoder(handle_unknown=&#x27;ignore&#x27;,\n",
       "                                                                                                 sparse_output=False))])),\n",
       "                                                                 (&#x27;scaled&#x27;,\n",
       "                                                                  ColumnTransformer(transformers=[(&#x27;scaler&#x27;,\n",
       "                                                                                                   RobustScaler(),\n",
       "                                                                                                   [&#x27;adr&#x27;])])),\n",
       "                                                                 (&#x27;pass&#x27;,\n",
       "                                                                  ColumnTransformer(transformers=[(&#x27;passthrough&#x27;,\n",
       "                                                                                                   &#x27;passthrough&#x27;,\n",
       "                                                                                                   [&#x27;stays_in_week_nights&#x27;,\n",
       "                                                                                                    &#x27;stays_in_weekend_nights&#x27;])]))]))])),\n",
       "                (&#x27;model&#x27;, RandomForestClassifier())])</pre></div></div></div><div class=\"sk-serial\"><div class=\"sk-item\"><div class=\"sk-label-container\"><div class=\"sk-label sk-toggleable\"><input class=\"sk-toggleable__control sk-hidden--visually\" id=\"sk-estimator-id-3\" type=\"checkbox\" ><label for=\"sk-estimator-id-3\" class=\"sk-toggleable__label sk-toggleable__label-arrow\">feature_engineering: Pipeline</label><div class=\"sk-toggleable__content\"><pre>Pipeline(steps=[(&#x27;features&#x27;,\n",
       "                 FeatureUnion(transformer_list=[(&#x27;categorical&#x27;,\n",
       "                                                 ColumnTransformer(transformers=[(&#x27;one_hot_encode&#x27;,\n",
       "                                                                                  OneHotEncoder(handle_unknown=&#x27;ignore&#x27;,\n",
       "                                                                                                sparse_output=False),\n",
       "                                                                                  [&#x27;hotel&#x27;,\n",
       "                                                                                   &#x27;meal&#x27;,\n",
       "                                                                                   &#x27;distribution_channel&#x27;,\n",
       "                                                                                   &#x27;reserved_room_type&#x27;,\n",
       "                                                                                   &#x27;assigned_room_type&#x27;,\n",
       "                                                                                   &#x27;customer_type&#x27;])])),\n",
       "                                                (&#x27;categorical_binarized&#x27;,\n",
       "                                                 Pipeline(steps=[(&#x27;binarizer&#x27;,\n",
       "                                                                  ColumnTrans...\n",
       "                                                                                                    &#x27;previous_bookings_not_canceled&#x27;,\n",
       "                                                                                                    &#x27;previous_cancellations&#x27;])])),\n",
       "                                                                 (&#x27;one_hot_encoder&#x27;,\n",
       "                                                                  OneHotEncoder(handle_unknown=&#x27;ignore&#x27;,\n",
       "                                                                                sparse_output=False))])),\n",
       "                                                (&#x27;scaled&#x27;,\n",
       "                                                 ColumnTransformer(transformers=[(&#x27;scaler&#x27;,\n",
       "                                                                                  RobustScaler(),\n",
       "                                                                                  [&#x27;adr&#x27;])])),\n",
       "                                                (&#x27;pass&#x27;,\n",
       "                                                 ColumnTransformer(transformers=[(&#x27;passthrough&#x27;,\n",
       "                                                                                  &#x27;passthrough&#x27;,\n",
       "                                                                                  [&#x27;stays_in_week_nights&#x27;,\n",
       "                                                                                   &#x27;stays_in_weekend_nights&#x27;])]))]))])</pre></div></div></div><div class=\"sk-serial\"><div class=\"sk-item sk-dashed-wrapped\"><div class=\"sk-label-container\"><div class=\"sk-label sk-toggleable\"><input class=\"sk-toggleable__control sk-hidden--visually\" id=\"sk-estimator-id-4\" type=\"checkbox\" ><label for=\"sk-estimator-id-4\" class=\"sk-toggleable__label sk-toggleable__label-arrow\">features: FeatureUnion</label><div class=\"sk-toggleable__content\"><pre>FeatureUnion(transformer_list=[(&#x27;categorical&#x27;,\n",
       "                                ColumnTransformer(transformers=[(&#x27;one_hot_encode&#x27;,\n",
       "                                                                 OneHotEncoder(handle_unknown=&#x27;ignore&#x27;,\n",
       "                                                                               sparse_output=False),\n",
       "                                                                 [&#x27;hotel&#x27;,\n",
       "                                                                  &#x27;meal&#x27;,\n",
       "                                                                  &#x27;distribution_channel&#x27;,\n",
       "                                                                  &#x27;reserved_room_type&#x27;,\n",
       "                                                                  &#x27;assigned_room_type&#x27;,\n",
       "                                                                  &#x27;customer_type&#x27;])])),\n",
       "                               (&#x27;categorical_binarized&#x27;,\n",
       "                                Pipeline(steps=[(&#x27;binarizer&#x27;,\n",
       "                                                 ColumnTransformer(transformers=[(&#x27;binar...\n",
       "                                                                                   &#x27;booking_changes&#x27;,\n",
       "                                                                                   &#x27;previous_bookings_not_canceled&#x27;,\n",
       "                                                                                   &#x27;previous_cancellations&#x27;])])),\n",
       "                                                (&#x27;one_hot_encoder&#x27;,\n",
       "                                                 OneHotEncoder(handle_unknown=&#x27;ignore&#x27;,\n",
       "                                                               sparse_output=False))])),\n",
       "                               (&#x27;scaled&#x27;,\n",
       "                                ColumnTransformer(transformers=[(&#x27;scaler&#x27;,\n",
       "                                                                 RobustScaler(),\n",
       "                                                                 [&#x27;adr&#x27;])])),\n",
       "                               (&#x27;pass&#x27;,\n",
       "                                ColumnTransformer(transformers=[(&#x27;passthrough&#x27;,\n",
       "                                                                 &#x27;passthrough&#x27;,\n",
       "                                                                 [&#x27;stays_in_week_nights&#x27;,\n",
       "                                                                  &#x27;stays_in_weekend_nights&#x27;])]))])</pre></div></div></div><div class=\"sk-parallel\"><div class=\"sk-parallel-item\"><div class=\"sk-item\"><div class=\"sk-label-container\"><div class=\"sk-label sk-toggleable\"><label>categorical</label></div></div><div class=\"sk-serial\"><div class=\"sk-item sk-dashed-wrapped\"><div class=\"sk-parallel\"><div class=\"sk-parallel-item\"><div class=\"sk-item\"><div class=\"sk-label-container\"><div class=\"sk-label sk-toggleable\"><input class=\"sk-toggleable__control sk-hidden--visually\" id=\"sk-estimator-id-5\" type=\"checkbox\" ><label for=\"sk-estimator-id-5\" class=\"sk-toggleable__label sk-toggleable__label-arrow\">one_hot_encode</label><div class=\"sk-toggleable__content\"><pre>[&#x27;hotel&#x27;, &#x27;meal&#x27;, &#x27;distribution_channel&#x27;, &#x27;reserved_room_type&#x27;, &#x27;assigned_room_type&#x27;, &#x27;customer_type&#x27;]</pre></div></div></div><div class=\"sk-serial\"><div class=\"sk-item\"><div class=\"sk-estimator sk-toggleable\"><input class=\"sk-toggleable__control sk-hidden--visually\" id=\"sk-estimator-id-6\" type=\"checkbox\" ><label for=\"sk-estimator-id-6\" class=\"sk-toggleable__label sk-toggleable__label-arrow\">OneHotEncoder</label><div class=\"sk-toggleable__content\"><pre>OneHotEncoder(handle_unknown=&#x27;ignore&#x27;, sparse_output=False)</pre></div></div></div></div></div></div></div></div></div></div></div><div class=\"sk-parallel-item\"><div class=\"sk-item\"><div class=\"sk-label-container\"><div class=\"sk-label sk-toggleable\"><label>categorical_binarized</label></div></div><div class=\"sk-serial\"><div class=\"sk-item\"><div class=\"sk-serial\"><div class=\"sk-item sk-dashed-wrapped\"><div class=\"sk-label-container\"><div class=\"sk-label sk-toggleable\"><input class=\"sk-toggleable__control sk-hidden--visually\" id=\"sk-estimator-id-7\" type=\"checkbox\" ><label for=\"sk-estimator-id-7\" class=\"sk-toggleable__label sk-toggleable__label-arrow\">binarizer: ColumnTransformer</label><div class=\"sk-toggleable__content\"><pre>ColumnTransformer(transformers=[(&#x27;binarizer&#x27;, Binarizer(),\n",
       "                                 [&#x27;total_of_special_requests&#x27;,\n",
       "                                  &#x27;required_car_parking_spaces&#x27;,\n",
       "                                  &#x27;booking_changes&#x27;,\n",
       "                                  &#x27;previous_bookings_not_canceled&#x27;,\n",
       "                                  &#x27;previous_cancellations&#x27;])])</pre></div></div></div><div class=\"sk-parallel\"><div class=\"sk-parallel-item\"><div class=\"sk-item\"><div class=\"sk-label-container\"><div class=\"sk-label sk-toggleable\"><input class=\"sk-toggleable__control sk-hidden--visually\" id=\"sk-estimator-id-8\" type=\"checkbox\" ><label for=\"sk-estimator-id-8\" class=\"sk-toggleable__label sk-toggleable__label-arrow\">binarizer</label><div class=\"sk-toggleable__content\"><pre>[&#x27;total_of_special_requests&#x27;, &#x27;required_car_parking_spaces&#x27;, &#x27;booking_changes&#x27;, &#x27;previous_bookings_not_canceled&#x27;, &#x27;previous_cancellations&#x27;]</pre></div></div></div><div class=\"sk-serial\"><div class=\"sk-item\"><div class=\"sk-estimator sk-toggleable\"><input class=\"sk-toggleable__control sk-hidden--visually\" id=\"sk-estimator-id-9\" type=\"checkbox\" ><label for=\"sk-estimator-id-9\" class=\"sk-toggleable__label sk-toggleable__label-arrow\">Binarizer</label><div class=\"sk-toggleable__content\"><pre>Binarizer()</pre></div></div></div></div></div></div></div></div><div class=\"sk-item\"><div class=\"sk-estimator sk-toggleable\"><input class=\"sk-toggleable__control sk-hidden--visually\" id=\"sk-estimator-id-10\" type=\"checkbox\" ><label for=\"sk-estimator-id-10\" class=\"sk-toggleable__label sk-toggleable__label-arrow\">OneHotEncoder</label><div class=\"sk-toggleable__content\"><pre>OneHotEncoder(handle_unknown=&#x27;ignore&#x27;, sparse_output=False)</pre></div></div></div></div></div></div></div></div><div class=\"sk-parallel-item\"><div class=\"sk-item\"><div class=\"sk-label-container\"><div class=\"sk-label sk-toggleable\"><label>scaled</label></div></div><div class=\"sk-serial\"><div class=\"sk-item sk-dashed-wrapped\"><div class=\"sk-parallel\"><div class=\"sk-parallel-item\"><div class=\"sk-item\"><div class=\"sk-label-container\"><div class=\"sk-label sk-toggleable\"><input class=\"sk-toggleable__control sk-hidden--visually\" id=\"sk-estimator-id-11\" type=\"checkbox\" ><label for=\"sk-estimator-id-11\" class=\"sk-toggleable__label sk-toggleable__label-arrow\">scaler</label><div class=\"sk-toggleable__content\"><pre>[&#x27;adr&#x27;]</pre></div></div></div><div class=\"sk-serial\"><div class=\"sk-item\"><div class=\"sk-estimator sk-toggleable\"><input class=\"sk-toggleable__control sk-hidden--visually\" id=\"sk-estimator-id-12\" type=\"checkbox\" ><label for=\"sk-estimator-id-12\" class=\"sk-toggleable__label sk-toggleable__label-arrow\">RobustScaler</label><div class=\"sk-toggleable__content\"><pre>RobustScaler()</pre></div></div></div></div></div></div></div></div></div></div></div><div class=\"sk-parallel-item\"><div class=\"sk-item\"><div class=\"sk-label-container\"><div class=\"sk-label sk-toggleable\"><label>pass</label></div></div><div class=\"sk-serial\"><div class=\"sk-item sk-dashed-wrapped\"><div class=\"sk-parallel\"><div class=\"sk-parallel-item\"><div class=\"sk-item\"><div class=\"sk-label-container\"><div class=\"sk-label sk-toggleable\"><input class=\"sk-toggleable__control sk-hidden--visually\" id=\"sk-estimator-id-13\" type=\"checkbox\" ><label for=\"sk-estimator-id-13\" class=\"sk-toggleable__label sk-toggleable__label-arrow\">passthrough</label><div class=\"sk-toggleable__content\"><pre>[&#x27;stays_in_week_nights&#x27;, &#x27;stays_in_weekend_nights&#x27;]</pre></div></div></div><div class=\"sk-serial\"><div class=\"sk-item\"><div class=\"sk-estimator sk-toggleable\"><input class=\"sk-toggleable__control sk-hidden--visually\" id=\"sk-estimator-id-14\" type=\"checkbox\" ><label for=\"sk-estimator-id-14\" class=\"sk-toggleable__label sk-toggleable__label-arrow\">passthrough</label><div class=\"sk-toggleable__content\"><pre>passthrough</pre></div></div></div></div></div></div></div></div></div></div></div></div></div></div></div><div class=\"sk-item\"><div class=\"sk-estimator sk-toggleable\"><input class=\"sk-toggleable__control sk-hidden--visually\" id=\"sk-estimator-id-15\" type=\"checkbox\" ><label for=\"sk-estimator-id-15\" class=\"sk-toggleable__label sk-toggleable__label-arrow\">RandomForestClassifier</label><div class=\"sk-toggleable__content\"><pre>RandomForestClassifier()</pre></div></div></div></div></div></div></div>"
      ],
      "text/plain": [
       "Pipeline(steps=[('feature_engineering',\n",
       "                 Pipeline(steps=[('features',\n",
       "                                  FeatureUnion(transformer_list=[('categorical',\n",
       "                                                                  ColumnTransformer(transformers=[('one_hot_encode',\n",
       "                                                                                                   OneHotEncoder(handle_unknown='ignore',\n",
       "                                                                                                                 sparse_output=False),\n",
       "                                                                                                   ['hotel',\n",
       "                                                                                                    'meal',\n",
       "                                                                                                    'distribution_channel',\n",
       "                                                                                                    'reserved_room_type',\n",
       "                                                                                                    'assigned_room_type',\n",
       "                                                                                                    'customer_type'])])),\n",
       "                                                                 ('categorical_binarized',\n",
       "                                                                  P...\n",
       "                                                                                                                     'previous_cancellations'])])),\n",
       "                                                                                  ('one_hot_encoder',\n",
       "                                                                                   OneHotEncoder(handle_unknown='ignore',\n",
       "                                                                                                 sparse_output=False))])),\n",
       "                                                                 ('scaled',\n",
       "                                                                  ColumnTransformer(transformers=[('scaler',\n",
       "                                                                                                   RobustScaler(),\n",
       "                                                                                                   ['adr'])])),\n",
       "                                                                 ('pass',\n",
       "                                                                  ColumnTransformer(transformers=[('passthrough',\n",
       "                                                                                                   'passthrough',\n",
       "                                                                                                   ['stays_in_week_nights',\n",
       "                                                                                                    'stays_in_weekend_nights'])]))]))])),\n",
       "                ('model', RandomForestClassifier())])"
      ]
     },
     "execution_count": 36,
     "metadata": {},
     "output_type": "execute_result"
    }
   ],
   "source": [
    "final_inference_pipeline.fit(final_training_dataset, final_training_response)"
   ]
  },
  {
   "cell_type": "markdown",
   "id": "ad56c085-7e17-4450-ba0b-0877ec4891e5",
   "metadata": {},
   "source": [
    "## Model testing\n"
   ]
  },
  {
   "cell_type": "code",
   "execution_count": 37,
   "id": "3db8a762-f176-4187-aa2e-b78c9ffdb430",
   "metadata": {
    "tags": []
   },
   "outputs": [
    {
     "name": "stdout",
     "output_type": "stream",
     "text": [
      "0.8150432083228458\n",
      "0.7610536218250236\n"
     ]
    }
   ],
   "source": [
    "test_pred_y = final_inference_pipeline.predict(test_x)\n",
    "\n",
    "print(accuracy_score(test_pred_y, test_y))\n",
    "print(recall_score(test_pred_y, test_y))"
   ]
  },
  {
   "cell_type": "markdown",
   "id": "c366bf4b-771d-4464-a76a-87aa99caf1e6",
   "metadata": {},
   "source": [
    "## Model persistence"
   ]
  },
  {
   "cell_type": "code",
   "execution_count": 38,
   "id": "c3c48eac-7a97-4eea-b873-9aaecd820b25",
   "metadata": {
    "tags": []
   },
   "outputs": [
    {
     "data": {
      "text/plain": [
       "['inference_pipeline.joblib']"
      ]
     },
     "execution_count": 38,
     "metadata": {},
     "output_type": "execute_result"
    }
   ],
   "source": [
    "from joblib import dump\n",
    "\n",
    "dump(final_inference_pipeline, \"inference_pipeline.joblib\")"
   ]
  },
  {
   "cell_type": "markdown",
   "id": "457feafb-2606-43c3-93df-bd2ae60a333d",
   "metadata": {},
   "source": [
    "## Y entonces... ¿a quién le hablamos?"
   ]
  },
  {
   "cell_type": "code",
   "execution_count": 39,
   "id": "aaeeb805-bda6-442e-b604-bd82e5c905d8",
   "metadata": {
    "tags": []
   },
   "outputs": [],
   "source": [
    "from joblib import load\n",
    "\n",
    "ultimate_inference_pipeline = load(\"inference_pipeline.joblib\")"
   ]
  },
  {
   "cell_type": "code",
   "execution_count": 40,
   "id": "e5472bad-7084-4c67-b990-d70367820b4f",
   "metadata": {
    "tags": []
   },
   "outputs": [
    {
     "data": {
      "text/html": [
       "<div>\n",
       "<style scoped>\n",
       "    .dataframe tbody tr th:only-of-type {\n",
       "        vertical-align: middle;\n",
       "    }\n",
       "\n",
       "    .dataframe tbody tr th {\n",
       "        vertical-align: top;\n",
       "    }\n",
       "\n",
       "    .dataframe thead th {\n",
       "        text-align: right;\n",
       "    }\n",
       "</style>\n",
       "<table border=\"1\" class=\"dataframe\">\n",
       "  <thead>\n",
       "    <tr style=\"text-align: right;\">\n",
       "      <th></th>\n",
       "      <th>hotel</th>\n",
       "      <th>is_canceled</th>\n",
       "      <th>lead_time</th>\n",
       "      <th>arrival_date_year</th>\n",
       "      <th>arrival_date_month</th>\n",
       "      <th>arrival_date_week_number</th>\n",
       "      <th>arrival_date_day_of_month</th>\n",
       "      <th>stays_in_weekend_nights</th>\n",
       "      <th>stays_in_week_nights</th>\n",
       "      <th>adults</th>\n",
       "      <th>...</th>\n",
       "      <th>company</th>\n",
       "      <th>days_in_waiting_list</th>\n",
       "      <th>customer_type</th>\n",
       "      <th>adr</th>\n",
       "      <th>required_car_parking_spaces</th>\n",
       "      <th>total_of_special_requests</th>\n",
       "      <th>name</th>\n",
       "      <th>email</th>\n",
       "      <th>phone-number</th>\n",
       "      <th>credit_card</th>\n",
       "    </tr>\n",
       "  </thead>\n",
       "  <tbody>\n",
       "    <tr>\n",
       "      <th>0</th>\n",
       "      <td>City Hotel</td>\n",
       "      <td>0</td>\n",
       "      <td>0</td>\n",
       "      <td>2016</td>\n",
       "      <td>March</td>\n",
       "      <td>13</td>\n",
       "      <td>22</td>\n",
       "      <td>0</td>\n",
       "      <td>1</td>\n",
       "      <td>2</td>\n",
       "      <td>...</td>\n",
       "      <td>NaN</td>\n",
       "      <td>0</td>\n",
       "      <td>Transient</td>\n",
       "      <td>99.0</td>\n",
       "      <td>0</td>\n",
       "      <td>1</td>\n",
       "      <td>Elizabeth Morton</td>\n",
       "      <td>ElizabethMorton@xfinity.com</td>\n",
       "      <td>218-662-6872</td>\n",
       "      <td>************5891</td>\n",
       "    </tr>\n",
       "    <tr>\n",
       "      <th>1</th>\n",
       "      <td>City Hotel</td>\n",
       "      <td>0</td>\n",
       "      <td>21</td>\n",
       "      <td>2016</td>\n",
       "      <td>March</td>\n",
       "      <td>13</td>\n",
       "      <td>23</td>\n",
       "      <td>0</td>\n",
       "      <td>3</td>\n",
       "      <td>2</td>\n",
       "      <td>...</td>\n",
       "      <td>NaN</td>\n",
       "      <td>0</td>\n",
       "      <td>Transient-Party</td>\n",
       "      <td>62.0</td>\n",
       "      <td>0</td>\n",
       "      <td>1</td>\n",
       "      <td>Virginia Ward</td>\n",
       "      <td>Virginia_Ward51@gmail.com</td>\n",
       "      <td>845-529-3632</td>\n",
       "      <td>************1071</td>\n",
       "    </tr>\n",
       "    <tr>\n",
       "      <th>2</th>\n",
       "      <td>City Hotel</td>\n",
       "      <td>0</td>\n",
       "      <td>418</td>\n",
       "      <td>2016</td>\n",
       "      <td>September</td>\n",
       "      <td>40</td>\n",
       "      <td>26</td>\n",
       "      <td>1</td>\n",
       "      <td>2</td>\n",
       "      <td>2</td>\n",
       "      <td>...</td>\n",
       "      <td>NaN</td>\n",
       "      <td>223</td>\n",
       "      <td>Transient-Party</td>\n",
       "      <td>107.0</td>\n",
       "      <td>0</td>\n",
       "      <td>0</td>\n",
       "      <td>Joseph Taylor</td>\n",
       "      <td>Joseph_T@protonmail.com</td>\n",
       "      <td>451-454-5767</td>\n",
       "      <td>************5326</td>\n",
       "    </tr>\n",
       "    <tr>\n",
       "      <th>3</th>\n",
       "      <td>City Hotel</td>\n",
       "      <td>0</td>\n",
       "      <td>58</td>\n",
       "      <td>2016</td>\n",
       "      <td>March</td>\n",
       "      <td>12</td>\n",
       "      <td>17</td>\n",
       "      <td>0</td>\n",
       "      <td>3</td>\n",
       "      <td>2</td>\n",
       "      <td>...</td>\n",
       "      <td>NaN</td>\n",
       "      <td>0</td>\n",
       "      <td>Transient</td>\n",
       "      <td>63.0</td>\n",
       "      <td>0</td>\n",
       "      <td>0</td>\n",
       "      <td>Sara Allen</td>\n",
       "      <td>Sara_Allen18@yandex.com</td>\n",
       "      <td>402-581-2687</td>\n",
       "      <td>************8597</td>\n",
       "    </tr>\n",
       "    <tr>\n",
       "      <th>4</th>\n",
       "      <td>Resort Hotel</td>\n",
       "      <td>0</td>\n",
       "      <td>130</td>\n",
       "      <td>2017</td>\n",
       "      <td>July</td>\n",
       "      <td>28</td>\n",
       "      <td>9</td>\n",
       "      <td>2</td>\n",
       "      <td>0</td>\n",
       "      <td>1</td>\n",
       "      <td>...</td>\n",
       "      <td>NaN</td>\n",
       "      <td>0</td>\n",
       "      <td>Transient-Party</td>\n",
       "      <td>178.0</td>\n",
       "      <td>0</td>\n",
       "      <td>1</td>\n",
       "      <td>John Black</td>\n",
       "      <td>Black.John47@yandex.com</td>\n",
       "      <td>541-901-5663</td>\n",
       "      <td>************9017</td>\n",
       "    </tr>\n",
       "  </tbody>\n",
       "</table>\n",
       "<p>5 rows × 34 columns</p>\n",
       "</div>"
      ],
      "text/plain": [
       "          hotel  is_canceled  lead_time  arrival_date_year arrival_date_month  \\\n",
       "0    City Hotel            0          0               2016              March   \n",
       "1    City Hotel            0         21               2016              March   \n",
       "2    City Hotel            0        418               2016          September   \n",
       "3    City Hotel            0         58               2016              March   \n",
       "4  Resort Hotel            0        130               2017               July   \n",
       "\n",
       "   arrival_date_week_number  arrival_date_day_of_month  \\\n",
       "0                        13                         22   \n",
       "1                        13                         23   \n",
       "2                        40                         26   \n",
       "3                        12                         17   \n",
       "4                        28                          9   \n",
       "\n",
       "   stays_in_weekend_nights  stays_in_week_nights  adults  ...  company  \\\n",
       "0                        0                     1       2  ...      NaN   \n",
       "1                        0                     3       2  ...      NaN   \n",
       "2                        1                     2       2  ...      NaN   \n",
       "3                        0                     3       2  ...      NaN   \n",
       "4                        2                     0       1  ...      NaN   \n",
       "\n",
       "   days_in_waiting_list    customer_type    adr required_car_parking_spaces  \\\n",
       "0                     0        Transient   99.0                           0   \n",
       "1                     0  Transient-Party   62.0                           0   \n",
       "2                   223  Transient-Party  107.0                           0   \n",
       "3                     0        Transient   63.0                           0   \n",
       "4                     0  Transient-Party  178.0                           0   \n",
       "\n",
       "  total_of_special_requests              name                        email  \\\n",
       "0                         1  Elizabeth Morton  ElizabethMorton@xfinity.com   \n",
       "1                         1     Virginia Ward    Virginia_Ward51@gmail.com   \n",
       "2                         0     Joseph Taylor      Joseph_T@protonmail.com   \n",
       "3                         0        Sara Allen      Sara_Allen18@yandex.com   \n",
       "4                         1        John Black      Black.John47@yandex.com   \n",
       "\n",
       "   phone-number       credit_card  \n",
       "0  218-662-6872  ************5891  \n",
       "1  845-529-3632  ************1071  \n",
       "2  451-454-5767  ************5326  \n",
       "3  402-581-2687  ************8597  \n",
       "4  541-901-5663  ************9017  \n",
       "\n",
       "[5 rows x 34 columns]"
      ]
     },
     "execution_count": 40,
     "metadata": {},
     "output_type": "execute_result"
    }
   ],
   "source": [
    "new_customers = pd.read_csv(\"new_customers.csv\")\n",
    "new_customers.head()"
   ]
  },
  {
   "cell_type": "code",
   "execution_count": 41,
   "id": "29160547-094b-48e4-88f1-2599fc939ac1",
   "metadata": {
    "tags": []
   },
   "outputs": [],
   "source": [
    "new_customers['will_cancel'] = ultimate_inference_pipeline.predict(new_customers)\n",
    "new_customers[['proba_check_in', 'proba_cancel']] = ultimate_inference_pipeline.predict_proba(new_customers)"
   ]
  },
  {
   "cell_type": "code",
   "execution_count": 42,
   "id": "d295ef5c-e4fc-4813-836a-31002d71e648",
   "metadata": {
    "tags": []
   },
   "outputs": [
    {
     "data": {
      "text/html": [
       "<div>\n",
       "<style scoped>\n",
       "    .dataframe tbody tr th:only-of-type {\n",
       "        vertical-align: middle;\n",
       "    }\n",
       "\n",
       "    .dataframe tbody tr th {\n",
       "        vertical-align: top;\n",
       "    }\n",
       "\n",
       "    .dataframe thead th {\n",
       "        text-align: right;\n",
       "    }\n",
       "</style>\n",
       "<table border=\"1\" class=\"dataframe\">\n",
       "  <thead>\n",
       "    <tr style=\"text-align: right;\">\n",
       "      <th></th>\n",
       "      <th>name</th>\n",
       "      <th>phone-number</th>\n",
       "      <th>will_cancel</th>\n",
       "      <th>proba_cancel</th>\n",
       "    </tr>\n",
       "  </thead>\n",
       "  <tbody>\n",
       "    <tr>\n",
       "      <th>32</th>\n",
       "      <td>Renee Reed</td>\n",
       "      <td>970-325-8809</td>\n",
       "      <td>1</td>\n",
       "      <td>1.000000</td>\n",
       "    </tr>\n",
       "    <tr>\n",
       "      <th>91</th>\n",
       "      <td>Donald Alvarez</td>\n",
       "      <td>105-155-9939</td>\n",
       "      <td>1</td>\n",
       "      <td>1.000000</td>\n",
       "    </tr>\n",
       "    <tr>\n",
       "      <th>63</th>\n",
       "      <td>Deanna Jenkins</td>\n",
       "      <td>229-507-3138</td>\n",
       "      <td>1</td>\n",
       "      <td>1.000000</td>\n",
       "    </tr>\n",
       "    <tr>\n",
       "      <th>46</th>\n",
       "      <td>Katelyn Jones</td>\n",
       "      <td>323-339-3265</td>\n",
       "      <td>1</td>\n",
       "      <td>1.000000</td>\n",
       "    </tr>\n",
       "    <tr>\n",
       "      <th>43</th>\n",
       "      <td>Joseph Lawson</td>\n",
       "      <td>166-493-3428</td>\n",
       "      <td>1</td>\n",
       "      <td>1.000000</td>\n",
       "    </tr>\n",
       "    <tr>\n",
       "      <th>22</th>\n",
       "      <td>Martin Valenzuela</td>\n",
       "      <td>165-579-5602</td>\n",
       "      <td>1</td>\n",
       "      <td>1.000000</td>\n",
       "    </tr>\n",
       "    <tr>\n",
       "      <th>90</th>\n",
       "      <td>Regina Pacheco</td>\n",
       "      <td>350-100-9605</td>\n",
       "      <td>1</td>\n",
       "      <td>1.000000</td>\n",
       "    </tr>\n",
       "    <tr>\n",
       "      <th>8</th>\n",
       "      <td>Carrie Tanner</td>\n",
       "      <td>392-436-1692</td>\n",
       "      <td>1</td>\n",
       "      <td>1.000000</td>\n",
       "    </tr>\n",
       "    <tr>\n",
       "      <th>58</th>\n",
       "      <td>Cory Alexander</td>\n",
       "      <td>864-688-3246</td>\n",
       "      <td>1</td>\n",
       "      <td>0.993343</td>\n",
       "    </tr>\n",
       "    <tr>\n",
       "      <th>64</th>\n",
       "      <td>Daniel Ortiz</td>\n",
       "      <td>960-672-0720</td>\n",
       "      <td>1</td>\n",
       "      <td>0.993343</td>\n",
       "    </tr>\n",
       "    <tr>\n",
       "      <th>12</th>\n",
       "      <td>Kendra Estrada</td>\n",
       "      <td>282-374-0362</td>\n",
       "      <td>1</td>\n",
       "      <td>0.990000</td>\n",
       "    </tr>\n",
       "    <tr>\n",
       "      <th>40</th>\n",
       "      <td>Bryan Fitzpatrick</td>\n",
       "      <td>601-411-5278</td>\n",
       "      <td>1</td>\n",
       "      <td>0.986667</td>\n",
       "    </tr>\n",
       "    <tr>\n",
       "      <th>72</th>\n",
       "      <td>Thomas Mills</td>\n",
       "      <td>756-971-1624</td>\n",
       "      <td>1</td>\n",
       "      <td>0.985808</td>\n",
       "    </tr>\n",
       "    <tr>\n",
       "      <th>94</th>\n",
       "      <td>Dennis Reyes</td>\n",
       "      <td>398-564-0923</td>\n",
       "      <td>1</td>\n",
       "      <td>0.974052</td>\n",
       "    </tr>\n",
       "    <tr>\n",
       "      <th>98</th>\n",
       "      <td>Jeremy Higgins</td>\n",
       "      <td>505-619-2559</td>\n",
       "      <td>1</td>\n",
       "      <td>0.970000</td>\n",
       "    </tr>\n",
       "    <tr>\n",
       "      <th>28</th>\n",
       "      <td>James Henson</td>\n",
       "      <td>161-506-7759</td>\n",
       "      <td>1</td>\n",
       "      <td>0.960442</td>\n",
       "    </tr>\n",
       "    <tr>\n",
       "      <th>75</th>\n",
       "      <td>Joyce Sanchez</td>\n",
       "      <td>976-809-3467</td>\n",
       "      <td>1</td>\n",
       "      <td>0.940000</td>\n",
       "    </tr>\n",
       "    <tr>\n",
       "      <th>61</th>\n",
       "      <td>Lindsey Johnson</td>\n",
       "      <td>992-650-9994</td>\n",
       "      <td>1</td>\n",
       "      <td>0.915000</td>\n",
       "    </tr>\n",
       "    <tr>\n",
       "      <th>31</th>\n",
       "      <td>Ashley Carr</td>\n",
       "      <td>460-368-8355</td>\n",
       "      <td>1</td>\n",
       "      <td>0.907893</td>\n",
       "    </tr>\n",
       "    <tr>\n",
       "      <th>92</th>\n",
       "      <td>David Nelson</td>\n",
       "      <td>831-400-1375</td>\n",
       "      <td>1</td>\n",
       "      <td>0.855340</td>\n",
       "    </tr>\n",
       "  </tbody>\n",
       "</table>\n",
       "</div>"
      ],
      "text/plain": [
       "                 name  phone-number  will_cancel  proba_cancel\n",
       "32         Renee Reed  970-325-8809            1      1.000000\n",
       "91     Donald Alvarez  105-155-9939            1      1.000000\n",
       "63     Deanna Jenkins  229-507-3138            1      1.000000\n",
       "46      Katelyn Jones  323-339-3265            1      1.000000\n",
       "43      Joseph Lawson  166-493-3428            1      1.000000\n",
       "22  Martin Valenzuela  165-579-5602            1      1.000000\n",
       "90     Regina Pacheco  350-100-9605            1      1.000000\n",
       "8       Carrie Tanner  392-436-1692            1      1.000000\n",
       "58     Cory Alexander  864-688-3246            1      0.993343\n",
       "64       Daniel Ortiz  960-672-0720            1      0.993343\n",
       "12     Kendra Estrada  282-374-0362            1      0.990000\n",
       "40  Bryan Fitzpatrick  601-411-5278            1      0.986667\n",
       "72       Thomas Mills  756-971-1624            1      0.985808\n",
       "94       Dennis Reyes  398-564-0923            1      0.974052\n",
       "98     Jeremy Higgins  505-619-2559            1      0.970000\n",
       "28       James Henson  161-506-7759            1      0.960442\n",
       "75      Joyce Sanchez  976-809-3467            1      0.940000\n",
       "61    Lindsey Johnson  992-650-9994            1      0.915000\n",
       "31        Ashley Carr  460-368-8355            1      0.907893\n",
       "92       David Nelson  831-400-1375            1      0.855340"
      ]
     },
     "execution_count": 42,
     "metadata": {},
     "output_type": "execute_result"
    }
   ],
   "source": [
    "new_customers[['name', 'phone-number', 'will_cancel', 'proba_cancel']].sort_values(by='proba_cancel', ascending=False).head(20)"
   ]
  },
  {
   "cell_type": "markdown",
   "id": "b0f424da-fd0e-4e03-8c9e-b32ea092dbd7",
   "metadata": {
    "tags": []
   },
   "source": [
    "## De tarea...\n",
    "\n",
    " - Entrena un modelo con *data leakage* y ve si es sospechosamente bueno\n",
    " - ¿Qué pasa si el cliente no recibió la habitación que solicitó? (`reserved_room_type` vs `assigned_room_type`)\n",
    " - No consideramos las fechas en las que iba a quedarse, ¿y si las incluyes en tu modelo?\n",
    " - ¿Podemos usar validación cruzada? \n",
    " - ¿Qué tal de la búsqueda de hiper parámetros?"
   ]
  },
  {
   "cell_type": "code",
   "execution_count": null,
   "id": "1d6255b2-05ce-414b-b11a-fb9a7b32f0e3",
   "metadata": {},
   "outputs": [],
   "source": []
  }
 ],
 "metadata": {
  "kernelspec": {
   "display_name": "Python 3 (ipykernel)",
   "language": "python",
   "name": "python3"
  },
  "language_info": {
   "codemirror_mode": {
    "name": "ipython",
    "version": 3
   },
   "file_extension": ".py",
   "mimetype": "text/x-python",
   "name": "python",
   "nbconvert_exporter": "python",
   "pygments_lexer": "ipython3",
   "version": "3.8.11"
  }
 },
 "nbformat": 4,
 "nbformat_minor": 5
}
