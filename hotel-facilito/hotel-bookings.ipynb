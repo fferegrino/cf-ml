{
 "cells": [
  {
   "cell_type": "markdown",
   "id": "e46f413f-d456-4e02-8968-5fd4093e904e",
   "metadata": {},
   "source": [
    "# Hotel Facilito\n",
    "\n",
    "## ¿Quién va a cancelar?\n",
    "\n",
    "*Hotel Facilito* se está preparando para las vacaciones de verano, sin embargo, les preocupa que muchos de sus clientes cancelan de ultima hora, dejándoles con habitaciones vacías – sucede que algunos clientes simplemente no se presentan y, a pesar de que a veces se cobra una cuota de reservación, la gran mayoría de las ganancias se obtiene cuando los huéspedes pagan el resto al ocupar la habitación. \n",
    "\n",
    "Usando sus datos, les gustaría que les ayudaras a identificar a aquellos clientes que tienen más posibilidad de cancelar ya que les gustaría darles seguimiento para que si en caso de que requieran cancelar, se haga con la mayor antelación posible.\n",
    "\n",
    "![](./header.png)"
   ]
  },
  {
   "cell_type": "markdown",
   "id": "9490fd5c-8a08-4b38-9427-b1c7dfe37556",
   "metadata": {},
   "source": [
    "## Datos\n",
    "\n",
    "*Hoteles Facilito* tiene dos sucursales, uno ubicado en la capital del estado, \"City Hotel\" y otro en una comunidad cercana a la costa, \"Resort Hotel\".\n",
    "\n",
    "Los datos que te ha enviado están en formato CSV, en donde cada línea representa una reservación con los siguientes atributos:\n",
    "\n",
    "  - `hotel`: Hotel en el que se hizo la reserva.\n",
    "  - `is_canceled`: Indica si la reserva fue cancelada o no.\n",
    "  - `lead_time`: Número de días que transcurrieron entre la fecha de ingreso de la reserva en el PMS y la fecha de llegada.\n",
    "  - `arrival_date_year`: Año de la fecha de llegada.\n",
    "  - `arrival_date_month`: Mes de la fecha de llegada con 12 categorías: \"Enero\" a \"Diciembre\".\n",
    "  - `arrival_date_week_number`: Número de semana de la fecha de llegada.\n",
    "  - `arrival_date_day_of_month`: Día del mes de la fecha de llegada.\n",
    "  - `stays_in_weekend_nights`: Número de noches de fin de semana (sábado o domingo) que el huésped se quedó o reservó para quedarse en el hotel.\n",
    "  - `stays_in_week_nights`: Número de noches de semana (lunes a viernes) que el huésped se quedó o reservó para quedarse en el hotel.\n",
    "  - `adults`: Número de adultos.\n",
    "  - `children`: Número de niños.\n",
    "  - `babies`: Número de bebés.\n",
    "  - `meal`: Tipo de comida reservada. Valor categórico.\n",
    "  - `country`: País de origen. Las categorías se representan según ISO 3155–3:2013.\n",
    "  - `market_segment`: Designación del segmento de mercado.\n",
    "  - `distribution_channel`: Canal de distribución de la reserva.\n",
    "  - `is_repeated_guest`: Valor que indica si el nombre de la reserva era de un huésped recurrente (1) o no (0).\n",
    "  - `previous_cancellations`: Número de reservas anteriores que fueron canceladas por el cliente antes de la reserva actual.\n",
    "  - `previous_bookings_not_canceled`: Número de reservas anteriores que no fueron canceladas por el cliente antes de la reserva actual.\n",
    "  - `reserved_room_type`: Código del tipo de habitación reservada. El código se presenta en lugar de la designación por razones de anonimato.\n",
    "  - `assigned_room_type`: Código del tipo de habitación asignada a la reserva. A veces, el tipo de habitación asignada difiere del tipo de habitación reservada debido a razones operativas del hotel (por ejemplo, sobreventa) o por solicitud del cliente. El código se presenta en lugar de la designación por razones de anonimato.\n",
    "  - `booking_changes`: Número de cambios/modificaciones realizados a la reserva desde el momento en que se ingresó en el PMS hasta el momento del check-in o la cancelación.\n",
    "  - `deposit_type`: Indicación de si el cliente hizo un depósito para garantizar la reserva.\n",
    "  - `agent`: ID de la agencia de viajes que realizó la reserva.\n",
    "  - `company`: ID de la empresa/entidad que realizó la reserva o es responsable de pagar la reserva.\n",
    "  - `days_in_waiting_list`: Número de días que la reserva estuvo en lista de espera antes de ser confirmada al cliente.\n",
    "  - `customer_type`: Tipo de reserva.\n",
    "  - `adr`: Tarifa diaria promedio.\n",
    "  - `required_car_parking_spaces`: Número de espacios de estacionamiento requeridos por el cliente.\n",
    "  - `total_of_special_requests`: Número de solicitudes especiales realizadas por el cliente (por ejemplo, cama doble o piso alto).\n",
    "  - `reservation_status`: Último estado de la reserva.\n",
    "  - `reservation_status_date`: Fecha en que se estableció el último estado.\n",
    "  - `name`: Nombre del cliente.\n",
    "  - `email`: Correo electrónico del cliente.\n",
    "  - `phone`: Teléfono del cliente.\n",
    "  - `credit_card`: Últimos cuatro dígitos de la tarjeta de crédito del cliente.\n",
    "\n",
    "Los datos que te ha enviado la compañía están en el archivo `hotel_bookings_training.csv`."
   ]
  },
  {
   "cell_type": "markdown",
   "id": "45ee9c95-a3a9-41f9-a7ef-2084630160a1",
   "metadata": {},
   "source": [
    "> En realidad los datos provienen de [este dataset de Kaggle](https://www.kaggle.com/datasets/mojtaba142/hotel-booking), y puedes consultar más sobre el origen de los datos [en esta publicación](https://www.sciencedirect.com/science/article/pii/S2352340918315191)"
   ]
  },
  {
   "cell_type": "markdown",
   "id": "bb0790dd-67e7-4766-ae03-6f8ce87e28f8",
   "metadata": {},
   "source": [
    "## ¿Qué métricas podemos medir? \n",
    "\n",
    "¿Accuracy? pero, y ¿si nos interesa otra cosa?\n",
    "\n",
    "Nos interesa hallar a TODAS las personas que potencialmente pueden cancelar, y la verdad es que a nuestros clientes no les molesta mucho si les llamamos para confirmar su reserva."
   ]
  },
  {
   "cell_type": "markdown",
   "id": "2ae43734-15d6-46ac-8b05-33738bd6ed0d",
   "metadata": {},
   "source": [
    "## Ejercicio"
   ]
  },
  {
   "cell_type": "code",
   "execution_count": 1,
   "id": "775a79d5-98d7-488f-8bc5-d305056bec61",
   "metadata": {
    "tags": []
   },
   "outputs": [],
   "source": [
    "import pandas as pd"
   ]
  },
  {
   "cell_type": "code",
   "execution_count": 2,
   "id": "2f487aee-60f9-41ea-a88f-04a6858913c9",
   "metadata": {
    "tags": []
   },
   "outputs": [],
   "source": [
    "hotel_bookings = pd.read_csv(\"hotel_bookings_training.csv\")"
   ]
  },
  {
   "cell_type": "code",
   "execution_count": 3,
   "id": "83307110-0e84-4589-bfa5-afd6121ef5ab",
   "metadata": {
    "tags": []
   },
   "outputs": [],
   "source": [
    "from sklearn.model_selection import train_test_split"
   ]
  },
  {
   "cell_type": "code",
   "execution_count": 4,
   "id": "1aeb405e-1dab-41fb-b735-39a6f0c15d39",
   "metadata": {
    "tags": []
   },
   "outputs": [
    {
     "name": "stdout",
     "output_type": "stream",
     "text": [
      "<class 'pandas.core.frame.DataFrame'>\n",
      "RangeIndex: 119190 entries, 0 to 119189\n",
      "Data columns (total 36 columns):\n",
      " #   Column                          Non-Null Count   Dtype  \n",
      "---  ------                          --------------   -----  \n",
      " 0   hotel                           119190 non-null  object \n",
      " 1   is_canceled                     119190 non-null  int64  \n",
      " 2   lead_time                       119190 non-null  int64  \n",
      " 3   arrival_date_year               119190 non-null  int64  \n",
      " 4   arrival_date_month              119190 non-null  object \n",
      " 5   arrival_date_week_number        119190 non-null  int64  \n",
      " 6   arrival_date_day_of_month       119190 non-null  int64  \n",
      " 7   stays_in_weekend_nights         119190 non-null  int64  \n",
      " 8   stays_in_week_nights            119190 non-null  int64  \n",
      " 9   adults                          119190 non-null  int64  \n",
      " 10  children                        119186 non-null  float64\n",
      " 11  babies                          119190 non-null  int64  \n",
      " 12  meal                            119190 non-null  object \n",
      " 13  country                         118703 non-null  object \n",
      " 14  market_segment                  119190 non-null  object \n",
      " 15  distribution_channel            119190 non-null  object \n",
      " 16  is_repeated_guest               119190 non-null  int64  \n",
      " 17  previous_cancellations          119190 non-null  int64  \n",
      " 18  previous_bookings_not_canceled  119190 non-null  int64  \n",
      " 19  reserved_room_type              119190 non-null  object \n",
      " 20  assigned_room_type              119190 non-null  object \n",
      " 21  booking_changes                 119190 non-null  int64  \n",
      " 22  deposit_type                    119190 non-null  object \n",
      " 23  agent                           102875 non-null  float64\n",
      " 24  company                         6788 non-null    float64\n",
      " 25  days_in_waiting_list            119190 non-null  int64  \n",
      " 26  customer_type                   119190 non-null  object \n",
      " 27  adr                             119190 non-null  float64\n",
      " 28  required_car_parking_spaces     119190 non-null  int64  \n",
      " 29  total_of_special_requests       119190 non-null  int64  \n",
      " 30  reservation_status              119190 non-null  object \n",
      " 31  reservation_status_date         119190 non-null  object \n",
      " 32  name                            119190 non-null  object \n",
      " 33  email                           119190 non-null  object \n",
      " 34  phone-number                    119190 non-null  object \n",
      " 35  credit_card                     119190 non-null  object \n",
      "dtypes: float64(4), int64(16), object(16)\n",
      "memory usage: 32.7+ MB\n"
     ]
    }
   ],
   "source": [
    "hotel_bookings.info()"
   ]
  },
  {
   "cell_type": "markdown",
   "id": "1e35df7b-f4ee-406e-8d97-a1841abfe1f6",
   "metadata": {},
   "source": [
    "### Sobre los datos personales...\n",
    "\n",
    "Nos deshacemos de los datos personales – que además carecen de utilidad por ser únicos:"
   ]
  },
  {
   "cell_type": "code",
   "execution_count": 5,
   "id": "13a89452-0256-40d8-b217-ddba1d625794",
   "metadata": {},
   "outputs": [],
   "source": [
    "# Remove personal information of customers\n",
    "hotel_bookings = hotel_bookings.drop(['name', 'email', 'phone-number', 'credit_card'], axis=1)"
   ]
  },
  {
   "cell_type": "code",
   "execution_count": 6,
   "id": "c2608f86-3495-4998-a9e2-f92897049450",
   "metadata": {
    "tags": []
   },
   "outputs": [
    {
     "data": {
      "text/html": [
       "<div>\n",
       "<style scoped>\n",
       "    .dataframe tbody tr th:only-of-type {\n",
       "        vertical-align: middle;\n",
       "    }\n",
       "\n",
       "    .dataframe tbody tr th {\n",
       "        vertical-align: top;\n",
       "    }\n",
       "\n",
       "    .dataframe thead th {\n",
       "        text-align: right;\n",
       "    }\n",
       "</style>\n",
       "<table border=\"1\" class=\"dataframe\">\n",
       "  <thead>\n",
       "    <tr style=\"text-align: right;\">\n",
       "      <th></th>\n",
       "      <th>hotel</th>\n",
       "      <th>is_canceled</th>\n",
       "      <th>lead_time</th>\n",
       "      <th>arrival_date_year</th>\n",
       "      <th>arrival_date_month</th>\n",
       "      <th>arrival_date_week_number</th>\n",
       "      <th>arrival_date_day_of_month</th>\n",
       "      <th>stays_in_weekend_nights</th>\n",
       "      <th>stays_in_week_nights</th>\n",
       "      <th>adults</th>\n",
       "      <th>...</th>\n",
       "      <th>deposit_type</th>\n",
       "      <th>agent</th>\n",
       "      <th>company</th>\n",
       "      <th>days_in_waiting_list</th>\n",
       "      <th>customer_type</th>\n",
       "      <th>adr</th>\n",
       "      <th>required_car_parking_spaces</th>\n",
       "      <th>total_of_special_requests</th>\n",
       "      <th>reservation_status</th>\n",
       "      <th>reservation_status_date</th>\n",
       "    </tr>\n",
       "  </thead>\n",
       "  <tbody>\n",
       "    <tr>\n",
       "      <th>20067</th>\n",
       "      <td>City Hotel</td>\n",
       "      <td>1</td>\n",
       "      <td>33</td>\n",
       "      <td>2015</td>\n",
       "      <td>December</td>\n",
       "      <td>50</td>\n",
       "      <td>9</td>\n",
       "      <td>0</td>\n",
       "      <td>2</td>\n",
       "      <td>2</td>\n",
       "      <td>...</td>\n",
       "      <td>Non Refund</td>\n",
       "      <td>44.0</td>\n",
       "      <td>NaN</td>\n",
       "      <td>0</td>\n",
       "      <td>Transient</td>\n",
       "      <td>110.00</td>\n",
       "      <td>0</td>\n",
       "      <td>0</td>\n",
       "      <td>Canceled</td>\n",
       "      <td>2015-11-16</td>\n",
       "    </tr>\n",
       "    <tr>\n",
       "      <th>62085</th>\n",
       "      <td>Resort Hotel</td>\n",
       "      <td>0</td>\n",
       "      <td>16</td>\n",
       "      <td>2016</td>\n",
       "      <td>March</td>\n",
       "      <td>10</td>\n",
       "      <td>4</td>\n",
       "      <td>0</td>\n",
       "      <td>2</td>\n",
       "      <td>2</td>\n",
       "      <td>...</td>\n",
       "      <td>No Deposit</td>\n",
       "      <td>240.0</td>\n",
       "      <td>NaN</td>\n",
       "      <td>0</td>\n",
       "      <td>Transient</td>\n",
       "      <td>48.00</td>\n",
       "      <td>0</td>\n",
       "      <td>1</td>\n",
       "      <td>Check-Out</td>\n",
       "      <td>2016-03-06</td>\n",
       "    </tr>\n",
       "    <tr>\n",
       "      <th>50646</th>\n",
       "      <td>Resort Hotel</td>\n",
       "      <td>1</td>\n",
       "      <td>277</td>\n",
       "      <td>2016</td>\n",
       "      <td>June</td>\n",
       "      <td>25</td>\n",
       "      <td>12</td>\n",
       "      <td>2</td>\n",
       "      <td>2</td>\n",
       "      <td>2</td>\n",
       "      <td>...</td>\n",
       "      <td>Non Refund</td>\n",
       "      <td>NaN</td>\n",
       "      <td>NaN</td>\n",
       "      <td>0</td>\n",
       "      <td>Transient</td>\n",
       "      <td>110.00</td>\n",
       "      <td>0</td>\n",
       "      <td>0</td>\n",
       "      <td>Canceled</td>\n",
       "      <td>2016-03-29</td>\n",
       "    </tr>\n",
       "    <tr>\n",
       "      <th>9819</th>\n",
       "      <td>Resort Hotel</td>\n",
       "      <td>0</td>\n",
       "      <td>10</td>\n",
       "      <td>2017</td>\n",
       "      <td>June</td>\n",
       "      <td>22</td>\n",
       "      <td>1</td>\n",
       "      <td>0</td>\n",
       "      <td>1</td>\n",
       "      <td>1</td>\n",
       "      <td>...</td>\n",
       "      <td>No Deposit</td>\n",
       "      <td>NaN</td>\n",
       "      <td>47.0</td>\n",
       "      <td>0</td>\n",
       "      <td>Transient</td>\n",
       "      <td>75.00</td>\n",
       "      <td>0</td>\n",
       "      <td>0</td>\n",
       "      <td>Check-Out</td>\n",
       "      <td>2017-06-02</td>\n",
       "    </tr>\n",
       "    <tr>\n",
       "      <th>73196</th>\n",
       "      <td>City Hotel</td>\n",
       "      <td>0</td>\n",
       "      <td>56</td>\n",
       "      <td>2016</td>\n",
       "      <td>April</td>\n",
       "      <td>17</td>\n",
       "      <td>19</td>\n",
       "      <td>0</td>\n",
       "      <td>4</td>\n",
       "      <td>2</td>\n",
       "      <td>...</td>\n",
       "      <td>No Deposit</td>\n",
       "      <td>9.0</td>\n",
       "      <td>NaN</td>\n",
       "      <td>0</td>\n",
       "      <td>Transient</td>\n",
       "      <td>167.45</td>\n",
       "      <td>0</td>\n",
       "      <td>2</td>\n",
       "      <td>Check-Out</td>\n",
       "      <td>2016-04-23</td>\n",
       "    </tr>\n",
       "    <tr>\n",
       "      <th>104625</th>\n",
       "      <td>City Hotel</td>\n",
       "      <td>1</td>\n",
       "      <td>67</td>\n",
       "      <td>2016</td>\n",
       "      <td>October</td>\n",
       "      <td>43</td>\n",
       "      <td>17</td>\n",
       "      <td>1</td>\n",
       "      <td>0</td>\n",
       "      <td>1</td>\n",
       "      <td>...</td>\n",
       "      <td>Non Refund</td>\n",
       "      <td>34.0</td>\n",
       "      <td>NaN</td>\n",
       "      <td>0</td>\n",
       "      <td>Transient</td>\n",
       "      <td>115.00</td>\n",
       "      <td>0</td>\n",
       "      <td>0</td>\n",
       "      <td>Canceled</td>\n",
       "      <td>2016-09-27</td>\n",
       "    </tr>\n",
       "    <tr>\n",
       "      <th>81508</th>\n",
       "      <td>Resort Hotel</td>\n",
       "      <td>0</td>\n",
       "      <td>272</td>\n",
       "      <td>2016</td>\n",
       "      <td>August</td>\n",
       "      <td>35</td>\n",
       "      <td>25</td>\n",
       "      <td>2</td>\n",
       "      <td>3</td>\n",
       "      <td>2</td>\n",
       "      <td>...</td>\n",
       "      <td>No Deposit</td>\n",
       "      <td>201.0</td>\n",
       "      <td>NaN</td>\n",
       "      <td>0</td>\n",
       "      <td>Transient</td>\n",
       "      <td>129.60</td>\n",
       "      <td>0</td>\n",
       "      <td>0</td>\n",
       "      <td>Check-Out</td>\n",
       "      <td>2016-08-30</td>\n",
       "    </tr>\n",
       "    <tr>\n",
       "      <th>91959</th>\n",
       "      <td>City Hotel</td>\n",
       "      <td>0</td>\n",
       "      <td>114</td>\n",
       "      <td>2016</td>\n",
       "      <td>September</td>\n",
       "      <td>39</td>\n",
       "      <td>24</td>\n",
       "      <td>2</td>\n",
       "      <td>5</td>\n",
       "      <td>2</td>\n",
       "      <td>...</td>\n",
       "      <td>No Deposit</td>\n",
       "      <td>14.0</td>\n",
       "      <td>NaN</td>\n",
       "      <td>0</td>\n",
       "      <td>Transient</td>\n",
       "      <td>131.66</td>\n",
       "      <td>0</td>\n",
       "      <td>0</td>\n",
       "      <td>Check-Out</td>\n",
       "      <td>2016-10-01</td>\n",
       "    </tr>\n",
       "    <tr>\n",
       "      <th>45196</th>\n",
       "      <td>City Hotel</td>\n",
       "      <td>1</td>\n",
       "      <td>29</td>\n",
       "      <td>2016</td>\n",
       "      <td>May</td>\n",
       "      <td>21</td>\n",
       "      <td>18</td>\n",
       "      <td>0</td>\n",
       "      <td>1</td>\n",
       "      <td>2</td>\n",
       "      <td>...</td>\n",
       "      <td>No Deposit</td>\n",
       "      <td>9.0</td>\n",
       "      <td>NaN</td>\n",
       "      <td>0</td>\n",
       "      <td>Transient</td>\n",
       "      <td>156.00</td>\n",
       "      <td>0</td>\n",
       "      <td>0</td>\n",
       "      <td>Canceled</td>\n",
       "      <td>2016-04-19</td>\n",
       "    </tr>\n",
       "    <tr>\n",
       "      <th>20832</th>\n",
       "      <td>Resort Hotel</td>\n",
       "      <td>0</td>\n",
       "      <td>30</td>\n",
       "      <td>2017</td>\n",
       "      <td>July</td>\n",
       "      <td>29</td>\n",
       "      <td>21</td>\n",
       "      <td>2</td>\n",
       "      <td>2</td>\n",
       "      <td>3</td>\n",
       "      <td>...</td>\n",
       "      <td>No Deposit</td>\n",
       "      <td>240.0</td>\n",
       "      <td>NaN</td>\n",
       "      <td>0</td>\n",
       "      <td>Transient</td>\n",
       "      <td>296.75</td>\n",
       "      <td>0</td>\n",
       "      <td>1</td>\n",
       "      <td>Check-Out</td>\n",
       "      <td>2017-07-25</td>\n",
       "    </tr>\n",
       "  </tbody>\n",
       "</table>\n",
       "<p>10 rows × 32 columns</p>\n",
       "</div>"
      ],
      "text/plain": [
       "               hotel  is_canceled  lead_time  arrival_date_year  \\\n",
       "20067     City Hotel            1         33               2015   \n",
       "62085   Resort Hotel            0         16               2016   \n",
       "50646   Resort Hotel            1        277               2016   \n",
       "9819    Resort Hotel            0         10               2017   \n",
       "73196     City Hotel            0         56               2016   \n",
       "104625    City Hotel            1         67               2016   \n",
       "81508   Resort Hotel            0        272               2016   \n",
       "91959     City Hotel            0        114               2016   \n",
       "45196     City Hotel            1         29               2016   \n",
       "20832   Resort Hotel            0         30               2017   \n",
       "\n",
       "       arrival_date_month  arrival_date_week_number  \\\n",
       "20067            December                        50   \n",
       "62085               March                        10   \n",
       "50646                June                        25   \n",
       "9819                 June                        22   \n",
       "73196               April                        17   \n",
       "104625            October                        43   \n",
       "81508              August                        35   \n",
       "91959           September                        39   \n",
       "45196                 May                        21   \n",
       "20832                July                        29   \n",
       "\n",
       "        arrival_date_day_of_month  stays_in_weekend_nights  \\\n",
       "20067                           9                        0   \n",
       "62085                           4                        0   \n",
       "50646                          12                        2   \n",
       "9819                            1                        0   \n",
       "73196                          19                        0   \n",
       "104625                         17                        1   \n",
       "81508                          25                        2   \n",
       "91959                          24                        2   \n",
       "45196                          18                        0   \n",
       "20832                          21                        2   \n",
       "\n",
       "        stays_in_week_nights  adults  ...  deposit_type  agent company  \\\n",
       "20067                      2       2  ...    Non Refund   44.0     NaN   \n",
       "62085                      2       2  ...    No Deposit  240.0     NaN   \n",
       "50646                      2       2  ...    Non Refund    NaN     NaN   \n",
       "9819                       1       1  ...    No Deposit    NaN    47.0   \n",
       "73196                      4       2  ...    No Deposit    9.0     NaN   \n",
       "104625                     0       1  ...    Non Refund   34.0     NaN   \n",
       "81508                      3       2  ...    No Deposit  201.0     NaN   \n",
       "91959                      5       2  ...    No Deposit   14.0     NaN   \n",
       "45196                      1       2  ...    No Deposit    9.0     NaN   \n",
       "20832                      2       3  ...    No Deposit  240.0     NaN   \n",
       "\n",
       "       days_in_waiting_list customer_type     adr  \\\n",
       "20067                     0     Transient  110.00   \n",
       "62085                     0     Transient   48.00   \n",
       "50646                     0     Transient  110.00   \n",
       "9819                      0     Transient   75.00   \n",
       "73196                     0     Transient  167.45   \n",
       "104625                    0     Transient  115.00   \n",
       "81508                     0     Transient  129.60   \n",
       "91959                     0     Transient  131.66   \n",
       "45196                     0     Transient  156.00   \n",
       "20832                     0     Transient  296.75   \n",
       "\n",
       "        required_car_parking_spaces  total_of_special_requests  \\\n",
       "20067                             0                          0   \n",
       "62085                             0                          1   \n",
       "50646                             0                          0   \n",
       "9819                              0                          0   \n",
       "73196                             0                          2   \n",
       "104625                            0                          0   \n",
       "81508                             0                          0   \n",
       "91959                             0                          0   \n",
       "45196                             0                          0   \n",
       "20832                             0                          1   \n",
       "\n",
       "        reservation_status reservation_status_date  \n",
       "20067             Canceled              2015-11-16  \n",
       "62085            Check-Out              2016-03-06  \n",
       "50646             Canceled              2016-03-29  \n",
       "9819             Check-Out              2017-06-02  \n",
       "73196            Check-Out              2016-04-23  \n",
       "104625            Canceled              2016-09-27  \n",
       "81508            Check-Out              2016-08-30  \n",
       "91959            Check-Out              2016-10-01  \n",
       "45196             Canceled              2016-04-19  \n",
       "20832            Check-Out              2017-07-25  \n",
       "\n",
       "[10 rows x 32 columns]"
      ]
     },
     "execution_count": 6,
     "metadata": {},
     "output_type": "execute_result"
    }
   ],
   "source": [
    "hotel_bookings.sample(10)"
   ]
  },
  {
   "cell_type": "markdown",
   "id": "dcae2df6-61e2-45bb-abd8-2222afecfbd1",
   "metadata": {},
   "source": [
    "## EDA"
   ]
  },
  {
   "cell_type": "code",
   "execution_count": 7,
   "id": "e696679c-e27a-4585-80e7-3bacd96292df",
   "metadata": {
    "tags": []
   },
   "outputs": [],
   "source": [
    "from ydata_profiling import ProfileReport"
   ]
  },
  {
   "cell_type": "code",
   "execution_count": 8,
   "id": "edc1a418-e2af-4b62-ae90-91b38d169d0c",
   "metadata": {
    "tags": []
   },
   "outputs": [],
   "source": [
    "profile = ProfileReport(hotel_bookings, title=\"Pandas Profiling Report\")"
   ]
  },
  {
   "cell_type": "code",
   "execution_count": 9,
   "id": "3da2e9e7-1460-422b-82a8-46f6d7a4d870",
   "metadata": {
    "tags": []
   },
   "outputs": [],
   "source": [
    "# profile.to_file(\"bookings_profile.html\")\n",
    "## file:///Users/antonio.feregrino/hub/cf-ml/hotel-facilito/bookings_profile.html"
   ]
  },
  {
   "cell_type": "markdown",
   "id": "96160a18-7eb1-4e47-90ca-9b4f8392b828",
   "metadata": {},
   "source": [
    "### Custom plots ..."
   ]
  },
  {
   "cell_type": "markdown",
   "id": "5d7cc55d-a88b-41f9-9fce-bfc122c6eecc",
   "metadata": {},
   "source": [
    "## Data leakage\n",
    "\n",
    "La variable `reservation_status` indica el estado de la reservación, esta es en realidad un reflejo de `is_canceled`, si la dejamos dentro de las variables de entrada estamos filtrando información al modelo. Este nos dará un resultado excelente, pero en realidad no nos servirá de nada en la vida real. Debemos sacarla del dataset junto con otras varaibles asociadas:"
   ]
  },
  {
   "cell_type": "code",
   "execution_count": 10,
   "id": "0770c308-1611-46fb-8dc6-881d43cdfd8a",
   "metadata": {
    "tags": []
   },
   "outputs": [],
   "source": [
    "# Avoid data leakage\n",
    "hotel_bookings = hotel_bookings.drop(['reservation_status', 'reservation_status_date'], axis=1)"
   ]
  },
  {
   "cell_type": "markdown",
   "id": "7cd3a99b-9245-4ab8-a7e0-c15b706efb4b",
   "metadata": {},
   "source": [
    "## Separa la variable a predecir\n"
   ]
  },
  {
   "cell_type": "code",
   "execution_count": 11,
   "id": "c2d6286e-dd8e-4bff-a462-92f8637f7975",
   "metadata": {
    "tags": []
   },
   "outputs": [],
   "source": [
    "is_canceled = hotel_bookings['is_canceled'].copy()\n",
    "hotel_data = hotel_bookings.drop(['is_canceled'], axis=1)"
   ]
  },
  {
   "cell_type": "markdown",
   "id": "9ae86c4c-fe80-4d55-8949-faae8821a827",
   "metadata": {
    "tags": []
   },
   "source": [
    "## Split dataset"
   ]
  },
  {
   "cell_type": "code",
   "execution_count": 12,
   "id": "af5fc337-98eb-45b4-9379-79786cb65e6e",
   "metadata": {
    "tags": []
   },
   "outputs": [
    {
     "name": "stdout",
     "output_type": "stream",
     "text": [
      "71514 23838 23838 119190\n"
     ]
    }
   ],
   "source": [
    "# Calculate test and validation set size:\n",
    "original_count = len(hotel_bookings)\n",
    "training_size = 0.60 # 60% of records\n",
    "test_size = (1 - training_size) / 2\n",
    "\n",
    "\n",
    "training_count = int(original_count * training_size)\n",
    "test_count = int(original_count * test_size)\n",
    "validation_count = original_count - training_count - test_count\n",
    "\n",
    "print(training_count, test_count, validation_count, original_count)"
   ]
  },
  {
   "cell_type": "code",
   "execution_count": 13,
   "id": "538bd1d9-9e1d-47c2-9e9b-faca9f052236",
   "metadata": {
    "tags": []
   },
   "outputs": [
    {
     "name": "stdout",
     "output_type": "stream",
     "text": [
      "71514 23838 23838\n"
     ]
    }
   ],
   "source": [
    "from sklearn.model_selection import train_test_split\n",
    "\n",
    "train_x, rest_x, train_y, rest_y = train_test_split(hotel_data, is_canceled, train_size=training_count)\n",
    "test_x, validate_x, test_y, validate_y = train_test_split(rest_x, rest_y, train_size=test_count)\n",
    "\n",
    "print(len(train_x), len(test_x), len(validate_x))"
   ]
  },
  {
   "cell_type": "markdown",
   "id": "5ff2f029-a21b-4a3f-a437-3d8fe0fac25b",
   "metadata": {},
   "source": [
    "## Variables a codificar - One-hot encoding\n",
    "\n",
    " - hotel, meal, distribution_channel, reserved_room_type, assigned_room_type, customer_type, deposit_type"
   ]
  },
  {
   "cell_type": "code",
   "execution_count": 14,
   "id": "ef04f3c3-9080-48c5-b05c-5aca282752b6",
   "metadata": {
    "tags": []
   },
   "outputs": [],
   "source": [
    "from sklearn.preprocessing import OneHotEncoder"
   ]
  },
  {
   "cell_type": "code",
   "execution_count": 15,
   "id": "77510440-3021-44c9-acd8-ec05e997deb1",
   "metadata": {
    "tags": []
   },
   "outputs": [],
   "source": [
    "one_hot_encoder = OneHotEncoder(sparse_output=False, handle_unknown=\"ignore\")"
   ]
  },
  {
   "cell_type": "code",
   "execution_count": 16,
   "id": "5dec1da7-a64c-4e95-bc4b-d238a3c085d2",
   "metadata": {
    "tags": []
   },
   "outputs": [
    {
     "data": {
      "text/plain": [
       "array([[0., 1.],\n",
       "       [0., 1.],\n",
       "       [1., 0.],\n",
       "       ...,\n",
       "       [1., 0.],\n",
       "       [1., 0.],\n",
       "       [1., 0.]])"
      ]
     },
     "execution_count": 16,
     "metadata": {},
     "output_type": "execute_result"
    }
   ],
   "source": [
    "one_hot_encoder.fit(train_x[['hotel']])\n",
    "one_hot_encoder.transform(train_x[['hotel']])"
   ]
  },
  {
   "cell_type": "markdown",
   "id": "169245ed-2e8f-469a-909e-5af84b52ffdc",
   "metadata": {},
   "source": [
    "## Variables a binarizar\n",
    "\n",
    " - total_of_special_requests, required_car_parking_spaces, booking_changes, previous_bookings_not_canceled, previous_cancellations"
   ]
  },
  {
   "cell_type": "code",
   "execution_count": 17,
   "id": "710b64e3-bb63-4f22-b36e-524da17a5b45",
   "metadata": {
    "tags": []
   },
   "outputs": [],
   "source": [
    "from sklearn.preprocessing import Binarizer"
   ]
  },
  {
   "cell_type": "code",
   "execution_count": 18,
   "id": "c4f9d5bc-4843-4b01-bb5d-751f536b8f8e",
   "metadata": {
    "tags": []
   },
   "outputs": [],
   "source": [
    "binarizer = Binarizer()"
   ]
  },
  {
   "cell_type": "code",
   "execution_count": 19,
   "id": "e212dd38-ed53-4d82-ab24-e9c4ab2123ab",
   "metadata": {
    "tags": []
   },
   "outputs": [
    {
     "data": {
      "text/html": [
       "<div>\n",
       "<style scoped>\n",
       "    .dataframe tbody tr th:only-of-type {\n",
       "        vertical-align: middle;\n",
       "    }\n",
       "\n",
       "    .dataframe tbody tr th {\n",
       "        vertical-align: top;\n",
       "    }\n",
       "\n",
       "    .dataframe thead th {\n",
       "        text-align: right;\n",
       "    }\n",
       "</style>\n",
       "<table border=\"1\" class=\"dataframe\">\n",
       "  <thead>\n",
       "    <tr style=\"text-align: right;\">\n",
       "      <th></th>\n",
       "      <th>total_of_special_requests</th>\n",
       "      <th>has_made_special_requests</th>\n",
       "    </tr>\n",
       "  </thead>\n",
       "  <tbody>\n",
       "    <tr>\n",
       "      <th>28524</th>\n",
       "      <td>1</td>\n",
       "      <td>1</td>\n",
       "    </tr>\n",
       "    <tr>\n",
       "      <th>138</th>\n",
       "      <td>0</td>\n",
       "      <td>0</td>\n",
       "    </tr>\n",
       "    <tr>\n",
       "      <th>113944</th>\n",
       "      <td>2</td>\n",
       "      <td>1</td>\n",
       "    </tr>\n",
       "    <tr>\n",
       "      <th>47614</th>\n",
       "      <td>2</td>\n",
       "      <td>1</td>\n",
       "    </tr>\n",
       "    <tr>\n",
       "      <th>65776</th>\n",
       "      <td>2</td>\n",
       "      <td>1</td>\n",
       "    </tr>\n",
       "    <tr>\n",
       "      <th>10969</th>\n",
       "      <td>0</td>\n",
       "      <td>0</td>\n",
       "    </tr>\n",
       "    <tr>\n",
       "      <th>49604</th>\n",
       "      <td>0</td>\n",
       "      <td>0</td>\n",
       "    </tr>\n",
       "    <tr>\n",
       "      <th>50248</th>\n",
       "      <td>0</td>\n",
       "      <td>0</td>\n",
       "    </tr>\n",
       "    <tr>\n",
       "      <th>90143</th>\n",
       "      <td>0</td>\n",
       "      <td>0</td>\n",
       "    </tr>\n",
       "    <tr>\n",
       "      <th>75388</th>\n",
       "      <td>0</td>\n",
       "      <td>0</td>\n",
       "    </tr>\n",
       "  </tbody>\n",
       "</table>\n",
       "</div>"
      ],
      "text/plain": [
       "        total_of_special_requests  has_made_special_requests\n",
       "28524                           1                          1\n",
       "138                             0                          0\n",
       "113944                          2                          1\n",
       "47614                           2                          1\n",
       "65776                           2                          1\n",
       "10969                           0                          0\n",
       "49604                           0                          0\n",
       "50248                           0                          0\n",
       "90143                           0                          0\n",
       "75388                           0                          0"
      ]
     },
     "execution_count": 19,
     "metadata": {},
     "output_type": "execute_result"
    }
   ],
   "source": [
    "_ = train_x.copy()\n",
    "binarizer.fit(_[['total_of_special_requests']])\n",
    "_['has_made_special_requests'] = binarizer.transform(train_x[['total_of_special_requests']])\n",
    "\n",
    "_[['total_of_special_requests', 'has_made_special_requests']].sample(10)"
   ]
  },
  {
   "cell_type": "markdown",
   "id": "3f8b7727-b7a6-4d0f-9307-5e6ea55b566b",
   "metadata": {},
   "source": [
    "## Variables a escalar\n",
    "\n",
    " - adr"
   ]
  },
  {
   "cell_type": "code",
   "execution_count": 20,
   "id": "fd82605f-e8c1-45fe-9580-9d3d81cc7f72",
   "metadata": {
    "tags": []
   },
   "outputs": [],
   "source": [
    "from sklearn.preprocessing import RobustScaler"
   ]
  },
  {
   "cell_type": "code",
   "execution_count": 21,
   "id": "a8062d36-aae6-4fd4-96ca-c2248e3c01ba",
   "metadata": {
    "tags": []
   },
   "outputs": [],
   "source": [
    "scaler = RobustScaler()"
   ]
  },
  {
   "cell_type": "code",
   "execution_count": 22,
   "id": "bae1bae3-1d25-4be3-842f-1adc12716699",
   "metadata": {
    "tags": []
   },
   "outputs": [
    {
     "data": {
      "text/html": [
       "<div>\n",
       "<style scoped>\n",
       "    .dataframe tbody tr th:only-of-type {\n",
       "        vertical-align: middle;\n",
       "    }\n",
       "\n",
       "    .dataframe tbody tr th {\n",
       "        vertical-align: top;\n",
       "    }\n",
       "\n",
       "    .dataframe thead th {\n",
       "        text-align: right;\n",
       "    }\n",
       "</style>\n",
       "<table border=\"1\" class=\"dataframe\">\n",
       "  <thead>\n",
       "    <tr style=\"text-align: right;\">\n",
       "      <th></th>\n",
       "      <th>adr</th>\n",
       "      <th>adr_scaled</th>\n",
       "    </tr>\n",
       "  </thead>\n",
       "  <tbody>\n",
       "    <tr>\n",
       "      <th>77403</th>\n",
       "      <td>136.00</td>\n",
       "      <td>0.728070</td>\n",
       "    </tr>\n",
       "    <tr>\n",
       "      <th>17884</th>\n",
       "      <td>128.00</td>\n",
       "      <td>0.587719</td>\n",
       "    </tr>\n",
       "    <tr>\n",
       "      <th>10509</th>\n",
       "      <td>62.80</td>\n",
       "      <td>-0.556140</td>\n",
       "    </tr>\n",
       "    <tr>\n",
       "      <th>40555</th>\n",
       "      <td>111.92</td>\n",
       "      <td>0.305614</td>\n",
       "    </tr>\n",
       "    <tr>\n",
       "      <th>56880</th>\n",
       "      <td>177.50</td>\n",
       "      <td>1.456140</td>\n",
       "    </tr>\n",
       "    <tr>\n",
       "      <th>25399</th>\n",
       "      <td>288.03</td>\n",
       "      <td>3.395263</td>\n",
       "    </tr>\n",
       "    <tr>\n",
       "      <th>118718</th>\n",
       "      <td>34.00</td>\n",
       "      <td>-1.061404</td>\n",
       "    </tr>\n",
       "    <tr>\n",
       "      <th>86244</th>\n",
       "      <td>52.00</td>\n",
       "      <td>-0.745614</td>\n",
       "    </tr>\n",
       "    <tr>\n",
       "      <th>63141</th>\n",
       "      <td>75.00</td>\n",
       "      <td>-0.342105</td>\n",
       "    </tr>\n",
       "    <tr>\n",
       "      <th>33587</th>\n",
       "      <td>88.40</td>\n",
       "      <td>-0.107018</td>\n",
       "    </tr>\n",
       "  </tbody>\n",
       "</table>\n",
       "</div>"
      ],
      "text/plain": [
       "           adr  adr_scaled\n",
       "77403   136.00    0.728070\n",
       "17884   128.00    0.587719\n",
       "10509    62.80   -0.556140\n",
       "40555   111.92    0.305614\n",
       "56880   177.50    1.456140\n",
       "25399   288.03    3.395263\n",
       "118718   34.00   -1.061404\n",
       "86244    52.00   -0.745614\n",
       "63141    75.00   -0.342105\n",
       "33587    88.40   -0.107018"
      ]
     },
     "execution_count": 22,
     "metadata": {},
     "output_type": "execute_result"
    }
   ],
   "source": [
    "_ = train_x.copy()\n",
    "scaler.fit(_[['adr']])\n",
    "_['adr_scaled'] = scaler.transform(train_x[['adr']])\n",
    "\n",
    "_[['adr', 'adr_scaled']].sample(10)"
   ]
  },
  {
   "cell_type": "markdown",
   "id": "715aa02d-799e-4d75-a789-f69b7db7c3ba",
   "metadata": {},
   "source": [
    "## Variables a dejar como tal\n",
    "\n",
    " - stays_in_weekend_nights, stays_in_week_nights\n",
    " \n",
    " \n",
    " > El tratamiento de estas depende del modelo a usar"
   ]
  },
  {
   "cell_type": "markdown",
   "id": "23973d66-5eee-4077-80a7-a1be42114d17",
   "metadata": {},
   "source": [
    "## Armando un pipeline de transformación"
   ]
  },
  {
   "cell_type": "code",
   "execution_count": 23,
   "id": "a97ca091-ae68-4e11-9f8f-2466427764ce",
   "metadata": {
    "tags": []
   },
   "outputs": [],
   "source": [
    "from sklearn.compose import ColumnTransformer\n",
    "from sklearn.pipeline import FeatureUnion, Pipeline"
   ]
  },
  {
   "cell_type": "code",
   "execution_count": 24,
   "id": "37ec4bcc-fd3e-415f-9e62-660507317bef",
   "metadata": {
    "tags": []
   },
   "outputs": [],
   "source": [
    "one_hot_encoding = ColumnTransformer([\n",
    "    (\n",
    "        'one_hot_encode',\n",
    "        OneHotEncoder(sparse_output=False, handle_unknown=\"ignore\"),\n",
    "        [\n",
    "            \"hotel\",\n",
    "            \"meal\", \n",
    "            \"distribution_channel\", \n",
    "            \"reserved_room_type\", \n",
    "            \"assigned_room_type\", \n",
    "            \"customer_type\"\n",
    "        ]\n",
    "    )\n",
    "])"
   ]
  },
  {
   "cell_type": "code",
   "execution_count": 25,
   "id": "d1993793-a031-4bf2-92bc-a595f6d8df8c",
   "metadata": {
    "tags": []
   },
   "outputs": [],
   "source": [
    "binarizer = ColumnTransformer([\n",
    "    (\n",
    "        'binarizer',\n",
    "        Binarizer(),\n",
    "        [\n",
    "            \"total_of_special_requests\", \n",
    "            \"required_car_parking_spaces\", \n",
    "            \"booking_changes\", \n",
    "            \"previous_bookings_not_canceled\", \n",
    "            \"previous_cancellations\",\n",
    "        ]\n",
    "    )\n",
    "])\n",
    "    \n",
    "one_hot_binarized = Pipeline([\n",
    "    (\"binarizer\", binarizer),\n",
    "    (\"one_hot_encoder\", OneHotEncoder(sparse_output=False, handle_unknown=\"ignore\")),\n",
    "])"
   ]
  },
  {
   "cell_type": "code",
   "execution_count": 26,
   "id": "5ad2d2d6-36bf-4bc9-ba8f-0cfecc46a0b7",
   "metadata": {
    "tags": []
   },
   "outputs": [],
   "source": [
    "scaler = ColumnTransformer([\n",
    "    (\"scaler\", RobustScaler(), [\"adr\"])\n",
    "])"
   ]
  },
  {
   "cell_type": "code",
   "execution_count": 27,
   "id": "4064ab04-77a0-4283-a8b1-77d766f44a6f",
   "metadata": {
    "tags": []
   },
   "outputs": [],
   "source": [
    "passthrough = ColumnTransformer([\n",
    "    (\n",
    "        \"passthrough\",\n",
    "        \"passthrough\",\n",
    "        [\n",
    "            \"stays_in_week_nights\",\n",
    "            \"stays_in_weekend_nights\",\n",
    "        ]\n",
    "    )\n",
    "])"
   ]
  },
  {
   "cell_type": "code",
   "execution_count": 28,
   "id": "c4a17765-a40f-4029-ba7b-76decb8a986a",
   "metadata": {
    "tags": []
   },
   "outputs": [],
   "source": [
    "feature_engineering_pipeline = pipe = Pipeline(\n",
    "    [\n",
    "        (\n",
    "            \"features\",\n",
    "            FeatureUnion(\n",
    "                [\n",
    "                    (\"categorical\", one_hot_encoding),\n",
    "                    (\"categorical_binarized\", one_hot_binarized),\n",
    "                    (\"scaled\", scaler),\n",
    "                    (\"pass\", passthrough),\n",
    "                ]\n",
    "            ),\n",
    "        )\n",
    "    ]\n",
    ")"
   ]
  },
  {
   "cell_type": "code",
   "execution_count": 29,
   "id": "f472ec43-9f1a-4f9e-8454-d45e9d30447f",
   "metadata": {
    "tags": []
   },
   "outputs": [
    {
     "data": {
      "text/plain": [
       "(71514, 50)"
      ]
     },
     "execution_count": 29,
     "metadata": {},
     "output_type": "execute_result"
    }
   ],
   "source": [
    "transformed = feature_engineering_pipeline.fit_transform(train_x)\n",
    "transformed.shape"
   ]
  },
  {
   "cell_type": "code",
   "execution_count": 30,
   "id": "05b87f6f-3410-4ef9-a35f-1c8020e0e032",
   "metadata": {
    "tags": []
   },
   "outputs": [
    {
     "data": {
      "text/plain": [
       "array([[ 0.        ,  1.        ,  0.        , ..., -0.64035088,\n",
       "         2.        ,  2.        ],\n",
       "       [ 0.        ,  1.        ,  0.        , ..., -0.85087719,\n",
       "         3.        ,  0.        ],\n",
       "       [ 1.        ,  0.        ,  1.        , ..., -0.57017544,\n",
       "         1.        ,  1.        ],\n",
       "       ...,\n",
       "       [ 1.        ,  0.        ,  1.        , ...,  0.50526316,\n",
       "         3.        ,  2.        ],\n",
       "       [ 1.        ,  0.        ,  0.        , ..., -0.69807018,\n",
       "         2.        ,  2.        ],\n",
       "       [ 1.        ,  0.        ,  1.        , ...,  0.68350877,\n",
       "         5.        ,  2.        ]])"
      ]
     },
     "execution_count": 30,
     "metadata": {},
     "output_type": "execute_result"
    }
   ],
   "source": [
    "transformed"
   ]
  },
  {
   "cell_type": "markdown",
   "id": "a3042008-c1b8-4ff2-95f9-b2e59801024a",
   "metadata": {},
   "source": [
    "## Model training"
   ]
  },
  {
   "cell_type": "code",
   "execution_count": 31,
   "id": "f1b52b98-96ba-4c4b-89c8-28cb0231fff8",
   "metadata": {
    "tags": []
   },
   "outputs": [],
   "source": [
    "# Get a fresh copy of the pipeline\n",
    "from sklearn.base import clone\n",
    "\n",
    "feature_transformer = clone(feature_engineering_pipeline)\n",
    "\n",
    "features_train_x = feature_transformer.fit_transform(train_x)\n",
    "features_validate_x = feature_transformer.transform(validate_x)"
   ]
  },
  {
   "cell_type": "code",
   "execution_count": 32,
   "id": "63a44b2e-4e78-4eed-94f3-c549d5738eb6",
   "metadata": {
    "tags": []
   },
   "outputs": [
    {
     "data": {
      "text/html": [
       "<style>#sk-container-id-1 {color: black;background-color: white;}#sk-container-id-1 pre{padding: 0;}#sk-container-id-1 div.sk-toggleable {background-color: white;}#sk-container-id-1 label.sk-toggleable__label {cursor: pointer;display: block;width: 100%;margin-bottom: 0;padding: 0.3em;box-sizing: border-box;text-align: center;}#sk-container-id-1 label.sk-toggleable__label-arrow:before {content: \"▸\";float: left;margin-right: 0.25em;color: #696969;}#sk-container-id-1 label.sk-toggleable__label-arrow:hover:before {color: black;}#sk-container-id-1 div.sk-estimator:hover label.sk-toggleable__label-arrow:before {color: black;}#sk-container-id-1 div.sk-toggleable__content {max-height: 0;max-width: 0;overflow: hidden;text-align: left;background-color: #f0f8ff;}#sk-container-id-1 div.sk-toggleable__content pre {margin: 0.2em;color: black;border-radius: 0.25em;background-color: #f0f8ff;}#sk-container-id-1 input.sk-toggleable__control:checked~div.sk-toggleable__content {max-height: 200px;max-width: 100%;overflow: auto;}#sk-container-id-1 input.sk-toggleable__control:checked~label.sk-toggleable__label-arrow:before {content: \"▾\";}#sk-container-id-1 div.sk-estimator input.sk-toggleable__control:checked~label.sk-toggleable__label {background-color: #d4ebff;}#sk-container-id-1 div.sk-label input.sk-toggleable__control:checked~label.sk-toggleable__label {background-color: #d4ebff;}#sk-container-id-1 input.sk-hidden--visually {border: 0;clip: rect(1px 1px 1px 1px);clip: rect(1px, 1px, 1px, 1px);height: 1px;margin: -1px;overflow: hidden;padding: 0;position: absolute;width: 1px;}#sk-container-id-1 div.sk-estimator {font-family: monospace;background-color: #f0f8ff;border: 1px dotted black;border-radius: 0.25em;box-sizing: border-box;margin-bottom: 0.5em;}#sk-container-id-1 div.sk-estimator:hover {background-color: #d4ebff;}#sk-container-id-1 div.sk-parallel-item::after {content: \"\";width: 100%;border-bottom: 1px solid gray;flex-grow: 1;}#sk-container-id-1 div.sk-label:hover label.sk-toggleable__label {background-color: #d4ebff;}#sk-container-id-1 div.sk-serial::before {content: \"\";position: absolute;border-left: 1px solid gray;box-sizing: border-box;top: 0;bottom: 0;left: 50%;z-index: 0;}#sk-container-id-1 div.sk-serial {display: flex;flex-direction: column;align-items: center;background-color: white;padding-right: 0.2em;padding-left: 0.2em;position: relative;}#sk-container-id-1 div.sk-item {position: relative;z-index: 1;}#sk-container-id-1 div.sk-parallel {display: flex;align-items: stretch;justify-content: center;background-color: white;position: relative;}#sk-container-id-1 div.sk-item::before, #sk-container-id-1 div.sk-parallel-item::before {content: \"\";position: absolute;border-left: 1px solid gray;box-sizing: border-box;top: 0;bottom: 0;left: 50%;z-index: -1;}#sk-container-id-1 div.sk-parallel-item {display: flex;flex-direction: column;z-index: 1;position: relative;background-color: white;}#sk-container-id-1 div.sk-parallel-item:first-child::after {align-self: flex-end;width: 50%;}#sk-container-id-1 div.sk-parallel-item:last-child::after {align-self: flex-start;width: 50%;}#sk-container-id-1 div.sk-parallel-item:only-child::after {width: 0;}#sk-container-id-1 div.sk-dashed-wrapped {border: 1px dashed gray;margin: 0 0.4em 0.5em 0.4em;box-sizing: border-box;padding-bottom: 0.4em;background-color: white;}#sk-container-id-1 div.sk-label label {font-family: monospace;font-weight: bold;display: inline-block;line-height: 1.2em;}#sk-container-id-1 div.sk-label-container {text-align: center;}#sk-container-id-1 div.sk-container {/* jupyter's `normalize.less` sets `[hidden] { display: none; }` but bootstrap.min.css set `[hidden] { display: none !important; }` so we also need the `!important` here to be able to override the default hidden behavior on the sphinx rendered scikit-learn.org. See: https://github.com/scikit-learn/scikit-learn/issues/21755 */display: inline-block !important;position: relative;}#sk-container-id-1 div.sk-text-repr-fallback {display: none;}</style><div id=\"sk-container-id-1\" class=\"sk-top-container\"><div class=\"sk-text-repr-fallback\"><pre>RandomForestClassifier()</pre><b>In a Jupyter environment, please rerun this cell to show the HTML representation or trust the notebook. <br />On GitHub, the HTML representation is unable to render, please try loading this page with nbviewer.org.</b></div><div class=\"sk-container\" hidden><div class=\"sk-item\"><div class=\"sk-estimator sk-toggleable\"><input class=\"sk-toggleable__control sk-hidden--visually\" id=\"sk-estimator-id-1\" type=\"checkbox\" checked><label for=\"sk-estimator-id-1\" class=\"sk-toggleable__label sk-toggleable__label-arrow\">RandomForestClassifier</label><div class=\"sk-toggleable__content\"><pre>RandomForestClassifier()</pre></div></div></div></div></div>"
      ],
      "text/plain": [
       "RandomForestClassifier()"
      ]
     },
     "execution_count": 32,
     "metadata": {},
     "output_type": "execute_result"
    }
   ],
   "source": [
    "from sklearn.ensemble import RandomForestClassifier\n",
    "from sklearn.svm import LinearSVC\n",
    "\n",
    "model = RandomForestClassifier(n_estimators=100)\n",
    "\n",
    "model.fit(features_train_x, train_y)"
   ]
  },
  {
   "cell_type": "markdown",
   "id": "41a5b2ec-9a8d-4421-be0a-7a50ede5f1d5",
   "metadata": {
    "tags": []
   },
   "source": [
    "## Model validation"
   ]
  },
  {
   "cell_type": "code",
   "execution_count": 33,
   "id": "37d12e50-c19d-45ba-a273-8857fc57cec5",
   "metadata": {
    "tags": []
   },
   "outputs": [
    {
     "name": "stdout",
     "output_type": "stream",
     "text": [
      "0.8088346337780015\n",
      "0.7133807512780618\n"
     ]
    }
   ],
   "source": [
    "from sklearn.metrics import accuracy_score, recall_score\n",
    "\n",
    "pred_y = model.predict(features_validate_x)\n",
    "\n",
    "print(accuracy_score(validate_y, pred_y))\n",
    "print(recall_score(validate_y, pred_y))"
   ]
  },
  {
   "cell_type": "markdown",
   "id": "7aa7e093-9075-4183-b7a0-46e03fa1e2ed",
   "metadata": {},
   "source": [
    "## Construcción del pipeline final"
   ]
  },
  {
   "cell_type": "code",
   "execution_count": 34,
   "id": "7e06f9f2-5f5e-46ea-96a9-1409ddd88e4c",
   "metadata": {
    "tags": []
   },
   "outputs": [],
   "source": [
    "final_inference_pipeline = Pipeline([\n",
    "    (\"feature_engineering\", clone(feature_engineering_pipeline)),\n",
    "    (\"model\", RandomForestClassifier(n_estimators=100))\n",
    "])"
   ]
  },
  {
   "cell_type": "code",
   "execution_count": 35,
   "id": "8237715b-2cee-4cc1-bccf-965b9ea4f2f5",
   "metadata": {
    "tags": []
   },
   "outputs": [],
   "source": [
    "final_training_dataset = pd.concat([train_x, validate_x])\n",
    "final_training_response = pd.concat([train_y, validate_y])"
   ]
  },
  {
   "cell_type": "code",
   "execution_count": null,
   "id": "56931081-a95a-4721-967e-e52e5dba515b",
   "metadata": {
    "tags": []
   },
   "outputs": [],
   "source": [
    "final_inference_pipeline.fit(final_training_dataset, final_training_response)"
   ]
  },
  {
   "cell_type": "markdown",
   "id": "ad56c085-7e17-4450-ba0b-0877ec4891e5",
   "metadata": {},
   "source": [
    "## Model testing\n"
   ]
  },
  {
   "cell_type": "code",
   "execution_count": null,
   "id": "3db8a762-f176-4187-aa2e-b78c9ffdb430",
   "metadata": {
    "tags": []
   },
   "outputs": [],
   "source": [
    "test_pred_y = final_inference_pipeline.predict(test_x)\n",
    "\n",
    "print(accuracy_score(test_pred_y, test_y))\n",
    "print(recall_score(test_pred_y, test_y))"
   ]
  },
  {
   "cell_type": "markdown",
   "id": "c366bf4b-771d-4464-a76a-87aa99caf1e6",
   "metadata": {},
   "source": [
    "## Model persistence"
   ]
  },
  {
   "cell_type": "code",
   "execution_count": null,
   "id": "c3c48eac-7a97-4eea-b873-9aaecd820b25",
   "metadata": {
    "tags": []
   },
   "outputs": [],
   "source": [
    "from joblib import dump\n",
    "\n",
    "dump(final_inference_pipeline, \"inference_pipeline.joblib\")"
   ]
  },
  {
   "cell_type": "markdown",
   "id": "457feafb-2606-43c3-93df-bd2ae60a333d",
   "metadata": {},
   "source": [
    "## Y entonces... ¿a quién le hablamos?"
   ]
  },
  {
   "cell_type": "code",
   "execution_count": null,
   "id": "aaeeb805-bda6-442e-b604-bd82e5c905d8",
   "metadata": {
    "tags": []
   },
   "outputs": [],
   "source": [
    "from joblib import load\n",
    "\n",
    "ultimate_inference_pipeline = load(\"inference_pipeline.joblib\")"
   ]
  },
  {
   "cell_type": "code",
   "execution_count": null,
   "id": "e5472bad-7084-4c67-b990-d70367820b4f",
   "metadata": {
    "tags": []
   },
   "outputs": [],
   "source": [
    "new_customers = pd.read_csv(\"new_customers.csv\")\n",
    "new_customers.head()"
   ]
  },
  {
   "cell_type": "code",
   "execution_count": null,
   "id": "29160547-094b-48e4-88f1-2599fc939ac1",
   "metadata": {
    "tags": []
   },
   "outputs": [],
   "source": [
    "new_customers['will_cancel'] = ultimate_inference_pipeline.predict(new_customers)\n",
    "new_customers[['proba_check_in', 'proba_cancel']] = ultimate_inference_pipeline.predict_proba(new_customers)"
   ]
  },
  {
   "cell_type": "code",
   "execution_count": null,
   "id": "d295ef5c-e4fc-4813-836a-31002d71e648",
   "metadata": {
    "tags": []
   },
   "outputs": [],
   "source": [
    "new_customers[['name', 'phone-number', 'will_cancel', 'proba_cancel']].sort_values(by='proba_cancel', ascending=False).head(20)"
   ]
  },
  {
   "cell_type": "markdown",
   "id": "b0f424da-fd0e-4e03-8c9e-b32ea092dbd7",
   "metadata": {
    "tags": []
   },
   "source": [
    "## De tarea...\n",
    "\n",
    " - Entrena un modelo con *data leakage* y ve si es sospechosamente bueno\n",
    " - ¿Qué pasa si el cliente no recibió la habitación que solicitó? (`reserved_room_type` vs `assigned_room_type`)\n",
    " - No consideramos las fechas en las que iba a quedarse, ¿y si las incluyes en tu modelo?\n",
    " - ¿Podemos usar validación cruzada? \n",
    " - ¿Qué tal de la búsqueda de hiper parámetros?"
   ]
  },
  {
   "cell_type": "code",
   "execution_count": null,
   "id": "1d6255b2-05ce-414b-b11a-fb9a7b32f0e3",
   "metadata": {},
   "outputs": [],
   "source": []
  }
 ],
 "metadata": {
  "kernelspec": {
   "display_name": "Python 3 (ipykernel)",
   "language": "python",
   "name": "python3"
  },
  "language_info": {
   "codemirror_mode": {
    "name": "ipython",
    "version": 3
   },
   "file_extension": ".py",
   "mimetype": "text/x-python",
   "name": "python",
   "nbconvert_exporter": "python",
   "pygments_lexer": "ipython3",
   "version": "3.8.11"
  }
 },
 "nbformat": 4,
 "nbformat_minor": 5
}
