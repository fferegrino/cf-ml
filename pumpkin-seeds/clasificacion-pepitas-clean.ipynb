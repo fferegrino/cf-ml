{
 "cells": [
  {
   "cell_type": "markdown",
   "id": "a3a7a16e-5a77-4779-b26d-6ee212072717",
   "metadata": {},
   "source": [
    "# Clasificación de pepitas (semillas de calabaza)"
   ]
  },
  {
   "cell_type": "markdown",
   "id": "65e57a03-c409-4ff3-b366-f46a3fe651da",
   "metadata": {},
   "source": [
    "## El problema\n",
    "\n",
    "Imagina que trabajas para una empresa que vende botanas, desde papas fritas hasta semillas de calabaza. Tu empresa se especializa en dos tipos de semillas, puesto que los clientes prefieren esos dos tipos: **ürgüp sivrisi** y **çerçevelik**. Sin embargo, estas dos semillas no son producidas por igual, y una es más común y barata para producir (*sivrisi*) que la otra (*cherchevelik*), y en un estudio de mercado se llegó a la conclusión de que tus clientes son capaces de conocer la diferencia entre ambas semillas, o cuando menos notan que las semillas que están consumiendo no son las que pagaron.\n",
    "\n",
    "Con el mundial a la vuelta de la esquina, y con el fin de tener el inventario suficiente para poder surtir todos los pedidos, tu empresa ha contactado con diversos proveedores para comprarles sus semillas de calabaza.\n",
    "\n",
    "Sabiendo que tu empresa se precia de altos estándares de calidad, y con la intención de mantener estos estándares aún con semillas adquiridas externamente, **tu tarea es encontrar una forma de verificar que las semillas recibidas son las que tu empresa está pagando y más importante, vendiendo a tus clientes**."
   ]
  },
  {
   "cell_type": "markdown",
   "id": "0e5dcbec-c527-416a-a4d7-b349fb531d06",
   "metadata": {},
   "source": [
    "## La solución\n",
    "\n",
    "El equipo de control de calidad externo utiliza imágenes para extraer diversas medidas de las semillas.\n",
    "\n",
    "![](https://ik.imagekit.io/thatcsharpguy/projects/codigo-facilito/machine-learning/pepitas-comparacion.png?ik-sdk-version=javascript-1.4.3&updatedAt=1669016137976)\n",
    "\n",
    "Para facilitarte la tarea, te entregan un archivo CSV en donde cada fila representa una semilla individual y las columnas representan las diversas propiedades de cada una de ellas:\n",
    "\n",
    "| Atributo            | Columna           | Descripción                                                                                          |\n",
    "| ------------------- | ----------------- | ---------------------------------------------------------------------------------------------------- |\n",
    "| Area                | area              | El número de los pixeles que ocupa la semilla                                                        |\n",
    "| Perimeter           | perimeter         | La circunferencia de la semilla en pixeles                                                           |\n",
    "| Major Axis Length   | major_axis_length | La mayor distancia en pixeles de la semilla                                                          |\n",
    "| Minor Axis Length   | minor_axis_length | La menor distancia en pixeles de la semilla                                                          |\n",
    "| Convex Area         | convex_area       | El número de píxeles de la capa convexa más pequeña en la región formada por la semilla              |\n",
    "| Equivalent Diameter | equiv_diameter    | La raíz cuadrada de la multiplicación del área de la semilla por cuatro dividida por $π$             |\n",
    "| Eccentricity        | eccentricity      | La excentricidad de la semilla                                                                       |\n",
    "| Solidity            | solidity          | La condición convexa y convexa de la semillas                                                        |\n",
    "| Extent              | extent            | La relación entre el área de la semilla y los píxeles del cuadro delimitador                         |\n",
    "| Roundness           | roundness         | La ovalidad de la semilla sin considerar las distorsiones de sus bordes                              |\n",
    "| Aspect Ratio        | aspect_ration     | La relación de aspecto de la semillas                                                                |\n",
    "| Compactness         | compactness       | La proporción del área de la semilla en relación con el área del círculo con la misma circunferencia |\n",
    "| Class               | class             | La clase o tipo de semilla a la que pertenece esta observación                                       |\n",
    "\n",
    "Tu tarea es entonces crear un modelo capaz de clasificar semillas usando la variable objetivo o dependiente **class** y las variables descriptivas o independientes restantes.\n",
    "\n",
    " > ❓ ¿Qué otros métodos podríamos usar?\n",
    " \n",
    " > ❓ ¿Qué métricas de evaluación podríamos usar?"
   ]
  },
  {
   "cell_type": "markdown",
   "id": "158d41e6-7900-4fab-81b6-5e980474ebf9",
   "metadata": {},
   "source": [
    "### Dataset\n",
    "\n",
    "Este dataset es una versión modificada de el artículo académico *\"The use of machine learning methods in classification of pumpkin seeds (Cucurbita pepo L.)\"*:\n",
    "\n",
    "KOKLU, M., SARIGIL, S., & OZBEK, O. (2021). The use of machine learning methods in classification of pumpkin seeds (Cucurbita pepo L.). Genetic Resources and Crop Evolution, 68(7), 2713-2726. Doi: https://doi.org/10.1007/s10722-021-01226-0\n",
    "\n"
   ]
  },
  {
   "cell_type": "markdown",
   "id": "d40fe739-fbcf-452a-a4c7-b5c3f4105224",
   "metadata": {},
   "source": [
    "## Código\n",
    "\n",
    "## [https://github.com/fferegrino/cf-ml/tree/main/pumpkin-seeds](https://github.com/fferegrino/cf-ml/tree/main/pumpkin-seeds)"
   ]
  },
  {
   "cell_type": "code",
   "execution_count": null,
   "id": "6a90cd9d-8dc8-475c-83ef-11833777fd13",
   "metadata": {},
   "outputs": [],
   "source": []
  }
 ],
 "metadata": {
  "kernelspec": {
   "display_name": "Python 3 (ipykernel)",
   "language": "python",
   "name": "python3"
  },
  "language_info": {
   "codemirror_mode": {
    "name": "ipython",
    "version": 3
   },
   "file_extension": ".py",
   "mimetype": "text/x-python",
   "name": "python",
   "nbconvert_exporter": "python",
   "pygments_lexer": "ipython3",
   "version": "3.9.12"
  }
 },
 "nbformat": 4,
 "nbformat_minor": 5
}
