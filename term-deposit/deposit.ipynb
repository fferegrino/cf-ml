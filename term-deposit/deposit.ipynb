{
 "cells": [
  {
   "cell_type": "code",
   "execution_count": null,
   "id": "dabcc66e-6111-4634-9aec-41578892c8a0",
   "metadata": {},
   "outputs": [],
   "source": [
    "import pandas as pd\n",
    "import numpy as np"
   ]
  },
  {
   "cell_type": "code",
   "execution_count": null,
   "id": "ed03ec50-8e9f-4963-9af2-e18a67545168",
   "metadata": {},
   "outputs": [],
   "source": [
    "train = pd.read_csv(\"train.csv\")\n",
    "train.head()"
   ]
  },
  {
   "cell_type": "code",
   "execution_count": null,
   "id": "c6c80822-bcb7-46e8-95f8-bcc7b2edef6b",
   "metadata": {},
   "outputs": [],
   "source": [
    "test = pd.read_csv(\"test.csv\")\n",
    "test.head()"
   ]
  },
  {
   "cell_type": "code",
   "execution_count": null,
   "id": "453f7184-927d-40ee-9e25-8eb15f237891",
   "metadata": {},
   "outputs": [],
   "source": [
    "from pandas_profiling import ProfileReport"
   ]
  },
  {
   "cell_type": "code",
   "execution_count": null,
   "id": "90afda1c-b00f-47eb-9632-4001dfac70f0",
   "metadata": {},
   "outputs": [],
   "source": [
    "# profile = ProfileReport(train, title=\"Raw Deposit Dataset Analysis\", explorative=True)\n",
    "# profile.to_file(\"deposit-report.html\")"
   ]
  },
  {
   "cell_type": "markdown",
   "id": "7631b234-179b-4ef1-82b4-264bee3543f6",
   "metadata": {},
   "source": [
    "## Drop the ID column"
   ]
  },
  {
   "cell_type": "code",
   "execution_count": null,
   "id": "0d71b5a7-7f7e-4eb9-bc37-63e47003cd11",
   "metadata": {},
   "outputs": [],
   "source": [
    "test.drop(['ID'], axis='columns', inplace=True)\n",
    "train.drop(['ID'], axis='columns', inplace=True)"
   ]
  },
  {
   "cell_type": "markdown",
   "id": "daa52ba4-7663-4c72-9c38-5482e7e5b692",
   "metadata": {
    "tags": []
   },
   "source": [
    "## One-hot encode the marital status"
   ]
  },
  {
   "cell_type": "code",
   "execution_count": null,
   "id": "085037ef-2362-462a-b235-964cdce61b15",
   "metadata": {},
   "outputs": [],
   "source": [
    "from sklearn.preprocessing import OneHotEncoder\n",
    "marital_encoder = OneHotEncoder()\n",
    "\n",
    "marital_encoder.fit(train[['marital']])\n",
    "encoded_marital = marital_encoder.transform(train[['marital']])"
   ]
  },
  {
   "cell_type": "code",
   "execution_count": null,
   "id": "7faa3d37-0f24-4202-a7f2-fadfd1e49274",
   "metadata": {},
   "outputs": [],
   "source": [
    "encoded_marital = pd.DataFrame(encoded_marital.toarray(), columns=marital_encoder.categories_)\n",
    "encoded_marital['original_value'] = train['marital']\n",
    "encoded_marital"
   ]
  },
  {
   "cell_type": "markdown",
   "id": "5f1dbbef-bc08-4ff4-a6d7-16875520deb3",
   "metadata": {
    "tags": []
   },
   "source": [
    "## Bin and encode the age column"
   ]
  },
  {
   "cell_type": "code",
   "execution_count": null,
   "id": "5e11eb40-ea8e-4764-b9d9-970135a0f74b",
   "metadata": {},
   "outputs": [],
   "source": [
    "from custom_transformers import CutTransformer"
   ]
  },
  {
   "cell_type": "code",
   "execution_count": null,
   "id": "30081141-ed34-44b7-87c1-347f4e748cd9",
   "metadata": {},
   "outputs": [],
   "source": [
    "age_bin = CutTransformer(bins = [0, 25, 35, 45, 55, 65, 1000], as_str=True)"
   ]
  },
  {
   "cell_type": "code",
   "execution_count": null,
   "id": "2a8b6059-d475-4fff-b550-1785e3e00be0",
   "metadata": {},
   "outputs": [],
   "source": [
    "age_frame = train[['age']].copy()\n",
    "age_encoded = age_bin.fit_transform(age_frame[['age']])\n",
    "age_frame['age_encoded'] = age_encoded"
   ]
  },
  {
   "cell_type": "code",
   "execution_count": null,
   "id": "1e14ce1c-fb9b-4d58-93af-bd503dbc1a7c",
   "metadata": {},
   "outputs": [],
   "source": [
    "age_frame"
   ]
  },
  {
   "cell_type": "code",
   "execution_count": null,
   "id": "9d237b3b-68d1-43da-8be4-ad3df4eaa19f",
   "metadata": {},
   "outputs": [],
   "source": [
    "age_one_hot_encoder = OneHotEncoder()"
   ]
  },
  {
   "cell_type": "code",
   "execution_count": null,
   "id": "b53d2722-6fab-454d-aaaa-dbb369539683",
   "metadata": {},
   "outputs": [],
   "source": [
    "_ = age_one_hot_encoder.fit(age_frame[['age_encoded']])"
   ]
  },
  {
   "cell_type": "code",
   "execution_count": null,
   "id": "18dde412-4a27-489e-a7f4-89e204aa7cf8",
   "metadata": {},
   "outputs": [],
   "source": [
    "one_hot_encoded_ages = pd.DataFrame(\n",
    "    age_one_hot_encoder.transform(age_frame[['age_encoded']]).toarray(),\n",
    "    columns=age_one_hot_encoder.categories_\n",
    ")"
   ]
  },
  {
   "cell_type": "code",
   "execution_count": null,
   "id": "52266ecc-253f-4cd1-8647-ef3a29dcae79",
   "metadata": {},
   "outputs": [],
   "source": [
    "pd.merge(age_frame, one_hot_encoded_ages, left_index=True, right_index=True)"
   ]
  },
  {
   "cell_type": "markdown",
   "id": "4d6d668d-1843-4420-86b1-03f8c245c508",
   "metadata": {},
   "source": [
    "## Scale balance"
   ]
  },
  {
   "cell_type": "code",
   "execution_count": null,
   "id": "4bdfa610-42b2-4778-8472-30f0a79ae68c",
   "metadata": {},
   "outputs": [],
   "source": [
    "from sklearn.preprocessing import StandardScaler"
   ]
  },
  {
   "cell_type": "code",
   "execution_count": null,
   "id": "fea31cff-211b-4132-8662-28ae0328c2e7",
   "metadata": {},
   "outputs": [],
   "source": [
    "balance_scaler = StandardScaler()"
   ]
  },
  {
   "cell_type": "code",
   "execution_count": null,
   "id": "ce7e0182-4e50-4d7a-bf13-5e3b2dd6108d",
   "metadata": {},
   "outputs": [],
   "source": [
    "balance_scaled = train[['balance']].copy()"
   ]
  },
  {
   "cell_type": "code",
   "execution_count": null,
   "id": "12672372-318c-4d8b-98ab-24911f903836",
   "metadata": {},
   "outputs": [],
   "source": [
    "balance_scaled['balance_scaled'] = balance_scaler.fit_transform(balance_scaled[['balance']])"
   ]
  },
  {
   "cell_type": "code",
   "execution_count": null,
   "id": "69d12e9f-2c86-4f4f-9461-5d020db4e223",
   "metadata": {},
   "outputs": [],
   "source": [
    "balance_scaled"
   ]
  },
  {
   "cell_type": "markdown",
   "id": "eae0f823-40da-4c62-9d7d-295db3fe57be",
   "metadata": {},
   "source": [
    "## Map yes and no to integers"
   ]
  },
  {
   "cell_type": "code",
   "execution_count": null,
   "id": "e55947b8-48cd-4b37-9c98-b0a62bfaa9f1",
   "metadata": {},
   "outputs": [],
   "source": [
    "from custom_transformers import YesNoTransformer\n",
    "\n",
    "yes_no_transformer = YesNoTransformer()"
   ]
  },
  {
   "cell_type": "code",
   "execution_count": null,
   "id": "9b297aa6-c28c-45d6-ae81-7b8379ac80df",
   "metadata": {},
   "outputs": [],
   "source": [
    "housing_loan_frame = train[['housing', 'loan']].copy()"
   ]
  },
  {
   "cell_type": "code",
   "execution_count": null,
   "id": "5c8b1c35-b468-478b-aa79-bbc4e0299e06",
   "metadata": {},
   "outputs": [],
   "source": [
    "housing_loan_frame[['housing_mapped', 'loan_mapped']] = yes_no_transformer.fit_transform(housing_loan_frame)"
   ]
  },
  {
   "cell_type": "code",
   "execution_count": null,
   "id": "9f217534-e598-413d-8684-ace4c6ec806a",
   "metadata": {},
   "outputs": [],
   "source": [
    "housing_loan_frame"
   ]
  },
  {
   "cell_type": "markdown",
   "id": "e5767393-f128-4d5f-811f-3a4aed6c3f1a",
   "metadata": {},
   "source": [
    "## Managing artifacts with Pipelines"
   ]
  },
  {
   "cell_type": "code",
   "execution_count": null,
   "id": "9e6fb859-9a17-497e-a92d-12b36a88a735",
   "metadata": {},
   "outputs": [],
   "source": [
    "from sklearn.pipeline import Pipeline\n",
    "from sklearn.preprocessing import RobustScaler, MinMaxScaler\n",
    "from sklearn.linear_model import LogisticRegression\n",
    "from sklearn.compose import ColumnTransformer\n",
    "from sklearn.pipeline import FeatureUnion\n",
    "from sklearn.impute import SimpleImputer\n",
    "from sklearn import set_config\n",
    "\n",
    "# One-Hot encode marital status\n",
    "one_hot_encode_marital = ColumnTransformer([\n",
    "    (\n",
    "        'one_hot_encode_marital', # Nombre de la transformación\n",
    "        OneHotEncoder(sparse=False), # Transformación a aplicar\n",
    "        [\"marital\"] # Columnas involucradas\n",
    "    )\n",
    "])\n",
    "\n",
    "# Bin and encode age\n",
    "bin_and_encode_age_pipeline = Pipeline([\n",
    "    ('bin_age', CutTransformer(bins = [0, 25, 35, 45, 55, 65, 1000], as_str=True)),\n",
    "    ('encode_age', OneHotEncoder()),\n",
    "])\n",
    "\n",
    "bin_and_encode_age = ColumnTransformer([\n",
    "    ('bin_and_encode_age', bin_and_encode_age_pipeline, [\"age\"])\n",
    "])\n",
    "\n",
    "# Scale balance\n",
    "scale_balance = ColumnTransformer([\n",
    "    (\n",
    "        'scale_balance', # Nombre de la transformación\n",
    "        StandardScaler(), # Transformación a aplicar\n",
    "        [\"balance\"] # Columnas involucradas\n",
    "    )\n",
    "])\n",
    "\n",
    "# Map housing and loan\n",
    "map_housing_loan = ColumnTransformer([\n",
    "    (\n",
    "        'map_housing_loan', # Nombre de la transformación\n",
    "        YesNoTransformer(), # Transformación a aplicar\n",
    "        [\"housing\", 'loan'] # Columnas involucradas\n",
    "    )\n",
    "])\n",
    "\n",
    "# Ensambla todo el pipeline\n",
    "pipe = Pipeline([\n",
    "    (\n",
    "        'features',\n",
    "        FeatureUnion([\n",
    "            ('one_hot_encode_marital', one_hot_encode_marital),\n",
    "            ('bin_and_encode_age', bin_and_encode_age),\n",
    "            ('scale_balance', scale_balance),\n",
    "            ('map_housing_loan', map_housing_loan),\n",
    "        ])\n",
    "    )\n",
    "])"
   ]
  },
  {
   "cell_type": "code",
   "execution_count": null,
   "id": "f82bb976-206d-452e-a833-1722b53fd75a",
   "metadata": {},
   "outputs": [],
   "source": [
    "from sklearn import set_config\n",
    "\n",
    "set_config(display=\"diagram\")\n",
    "pipe"
   ]
  },
  {
   "cell_type": "code",
   "execution_count": null,
   "id": "fa5186fe-0613-4d07-9485-a29f6b3acc4b",
   "metadata": {},
   "outputs": [],
   "source": [
    "pipe.fit(train)\n",
    "\n",
    "pd.DataFrame(pipe.transform(train).toarray())"
   ]
  },
  {
   "cell_type": "code",
   "execution_count": null,
   "id": "490ee998-d5ec-4f86-813e-ccd2a178b33f",
   "metadata": {},
   "outputs": [],
   "source": [
    "train"
   ]
  },
  {
   "cell_type": "code",
   "execution_count": null,
   "id": "0b8d265f-711e-4f5d-a9d6-df82d88097f8",
   "metadata": {},
   "outputs": [],
   "source": []
  }
 ],
 "metadata": {
  "kernelspec": {
   "display_name": "Python 3 (ipykernel)",
   "language": "python",
   "name": "python3"
  },
  "language_info": {
   "codemirror_mode": {
    "name": "ipython",
    "version": 3
   },
   "file_extension": ".py",
   "mimetype": "text/x-python",
   "name": "python",
   "nbconvert_exporter": "python",
   "pygments_lexer": "ipython3",
   "version": "3.8.11"
  }
 },
 "nbformat": 4,
 "nbformat_minor": 5
}
