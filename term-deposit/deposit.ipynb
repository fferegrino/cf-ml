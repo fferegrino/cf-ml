{
 "cells": [
  {
   "cell_type": "markdown",
   "id": "800d16b7-c69e-404c-9d40-bf085a726f1e",
   "metadata": {},
   "source": [
    "# Lead scoring\n",
    "\n",
    "Imagina que trabajas para un banco y este banco ofrece inversiones a plazo fijo a sus clientes. Como parte de una campaña para ampliar la cantidad de inversiones a plazo fijo que sus clientes han adquirido, la compañía utiliza diversos métodos de contacto, entre los cuales el teléfono es todavía una de las formas más efectivas.\n",
    "\n",
    "Al banco le encantaría llamar a todos sus clientes, sin embargo, esto no es posible porque el call center no se da abasto y es importante priorizar a quienes hay que llamar para garantizar el máximo número de conversiones.\n",
    "\n",
    "**Tu tarea es encontrar una forma de clasificar y rankear las llamadas de tal modo que los agentes del centro de llamadas, llame primero a quien tiene más probabilidades de depositar su dinero.**"
   ]
  },
  {
   "cell_type": "markdown",
   "id": "384e2660-3596-4c51-bd3f-1d9612395346",
   "metadata": {},
   "source": [
    "## Solución  \n",
    "\n",
    "La empresa tiene información de clientes anteriores que en algún momento han sido contactados en el pasado comprar la inversión en el pasado sin importar si lo compraron o no. Esta información está contenida en el archivo `train.csv`.\n",
    "\n",
    "Así mismo, para ayudarte hay un archivo llamado `test.csv` con datos de otros clientes pero que deberás usar para probar tus resultados.\n",
    "\n",
    "**Como no tenemos más información más allá de si un cliente compró o no compró, vamos a utilizar las probabilidades que nos de un modelo de clasificación para decidir quién tiene más probabilidades de convertir**."
   ]
  },
  {
   "cell_type": "code",
   "execution_count": null,
   "id": "dabcc66e-6111-4634-9aec-41578892c8a0",
   "metadata": {},
   "outputs": [],
   "source": [
    "import pandas as pd\n",
    "import numpy as np"
   ]
  },
  {
   "cell_type": "code",
   "execution_count": null,
   "id": "ed03ec50-8e9f-4963-9af2-e18a67545168",
   "metadata": {},
   "outputs": [],
   "source": [
    "train = pd.read_csv(\"train.csv\")\n",
    "train.head()"
   ]
  },
  {
   "cell_type": "markdown",
   "id": "07b4a7cb-65d6-4c4e-bc80-edbe374f7134",
   "metadata": {},
   "source": [
    "### Descripción de los datos\n",
    "\n",
    "| Variable     | Definición                                                              |\n",
    "|--------------|-------------------------------------------------------------------------|\n",
    "| *ID*         | Identificador único del cliente                                         |\n",
    "| *age*        | Edad del cliente                                                        |\n",
    "| *job*        | Trabajo que desempeña el cliente                                        |\n",
    "| *marital*    | Estado marital del cliente                                              |\n",
    "| *education*  | Nivel de educación del cliente                                          |\n",
    "| *default*    | Especifica si el cliente tiene una deuda no pagada                      |\n",
    "| *balance*    | Saldo promedio anual del cliente                                        |\n",
    "| *housing*    | Indica si el cliente tiene una hipoteca con el banco                    |\n",
    "| *loan*       | Indica si el cliente tiene un préstamo personal                         |\n",
    "| *contact*    | El medio por el cual se ha estado contactando al cliente                |\n",
    "| *month*      | El mes en el que se contactó al cliente                                 |\n",
    "| *day*        | El día en el que se contactó al cliente                                 |\n",
    "| *duration*   | Duración del contacto con el cliente                                    |\n",
    "| *campaign*   | El número de veces que el banco se ha puesto en contacto con el cliente |\n",
    "| *pdays*      | Número de días que han transcurrido desde el último contacto            |\n",
    "| *previous*   | Número de veces que se ha contactado al cliente antes de esta campaña   |\n",
    "| *poutcome*   | Si el cliente ha comprado productos como resutlado de la campaña previa |\n",
    "| *subscribed* | Si el cliente se suscribió como resultado de la campaña más reciente    |\n"
   ]
  },
  {
   "cell_type": "markdown",
   "id": "8612e61c-053a-410b-a31b-6ee3fb1f7c00",
   "metadata": {},
   "source": [
    "## EDA"
   ]
  },
  {
   "cell_type": "code",
   "execution_count": null,
   "id": "453f7184-927d-40ee-9e25-8eb15f237891",
   "metadata": {},
   "outputs": [],
   "source": [
    "from pandas_profiling import ProfileReport\n",
    "import seaborn as sns"
   ]
  },
  {
   "cell_type": "code",
   "execution_count": null,
   "id": "90afda1c-b00f-47eb-9632-4001dfac70f0",
   "metadata": {},
   "outputs": [],
   "source": [
    "# profile = ProfileReport(train, title=\"Raw Deposit Dataset Analysis\", explorative=True)\n",
    "# profile.to_file(\"deposit-report.html\")"
   ]
  },
  {
   "cell_type": "markdown",
   "id": "931b74a1-c7da-4c0d-af8a-323d6dbabc34",
   "metadata": {},
   "source": [
    "### Desbalance de clases"
   ]
  },
  {
   "cell_type": "code",
   "execution_count": null,
   "id": "c3619f7b-ce19-43ce-a4f5-f075f3dbe7a8",
   "metadata": {},
   "outputs": [],
   "source": [
    "subscribed_proportion = (train['subscribed'].value_counts()).to_dict()\n",
    "ax = sns.countplot(x=train[\"subscribed\"])\n",
    "title = (\"Target variable distribution\\n\"\n",
    "    f\"No: {subscribed_proportion['no']} ({(subscribed_proportion['no']/len(train)):0.2%}) |\"\n",
    "    f\" Yes: {subscribed_proportion['yes']} ({(subscribed_proportion['yes']/len(train)):0.2%}) \" )\n",
    "ax.set_title(title)"
   ]
  },
  {
   "cell_type": "markdown",
   "id": "de48f69c-a25f-4c8e-8df2-7dfab3bcf485",
   "metadata": {},
   "source": [
    "### Relación entre columnas"
   ]
  },
  {
   "cell_type": "code",
   "execution_count": null,
   "id": "67ae7ed4-61c3-4735-99c8-763ac05f95c9",
   "metadata": {},
   "outputs": [],
   "source": [
    "import matplotlib.pyplot as plt\n",
    "\n",
    "fig, axs = plt.subplots(1,3, figsize=(10, 2))\n",
    "\n",
    "sns.countplot(x='subscribed', hue='housing', data=train, ax=axs[0])\n",
    "sns.countplot(x='subscribed', hue='loan', data=train, ax=axs[1])\n",
    "sns.countplot(x='subscribed', hue='default', data=train, ax=axs[2])"
   ]
  },
  {
   "cell_type": "markdown",
   "id": "7631b234-179b-4ef1-82b4-264bee3543f6",
   "metadata": {},
   "source": [
    "## Drop the ID column\n",
    "\n",
    "El ID no contiene ninguna información que nos pueda ayudar a encontrar los mejores resultados puesto que es único para cada cliente."
   ]
  },
  {
   "cell_type": "code",
   "execution_count": null,
   "id": "0d71b5a7-7f7e-4eb9-bc37-63e47003cd11",
   "metadata": {},
   "outputs": [],
   "source": [
    "train.drop(['ID'], axis='columns', inplace=True)"
   ]
  },
  {
   "cell_type": "markdown",
   "id": "daa52ba4-7663-4c72-9c38-5482e7e5b692",
   "metadata": {
    "tags": []
   },
   "source": [
    "## *One-hot encode* el estatus marital"
   ]
  },
  {
   "cell_type": "code",
   "execution_count": null,
   "id": "085037ef-2362-462a-b235-964cdce61b15",
   "metadata": {},
   "outputs": [],
   "source": [
    "from sklearn.preprocessing import OneHotEncoder\n",
    "marital_encoder = OneHotEncoder()\n",
    "\n",
    "marital_encoder.fit(train[['marital']])\n",
    "encoded_marital = marital_encoder.transform(train[['marital']])"
   ]
  },
  {
   "cell_type": "code",
   "execution_count": null,
   "id": "7faa3d37-0f24-4202-a7f2-fadfd1e49274",
   "metadata": {},
   "outputs": [],
   "source": [
    "encoded_marital = pd.DataFrame(encoded_marital.toarray(), columns=marital_encoder.categories_)\n",
    "encoded_marital['original_value'] = train['marital']\n",
    "encoded_marital"
   ]
  },
  {
   "cell_type": "markdown",
   "id": "5f1dbbef-bc08-4ff4-a6d7-16875520deb3",
   "metadata": {
    "tags": []
   },
   "source": [
    "## *Binnea* y codifica la variable edad"
   ]
  },
  {
   "cell_type": "code",
   "execution_count": null,
   "id": "5e11eb40-ea8e-4764-b9d9-970135a0f74b",
   "metadata": {},
   "outputs": [],
   "source": [
    "from custom_transformers import CutTransformer"
   ]
  },
  {
   "cell_type": "code",
   "execution_count": null,
   "id": "30081141-ed34-44b7-87c1-347f4e748cd9",
   "metadata": {},
   "outputs": [],
   "source": [
    "age_bin = CutTransformer(bins = [0, 20, 30, 40, 50, 60, 1000], as_str=True)"
   ]
  },
  {
   "cell_type": "code",
   "execution_count": null,
   "id": "2a8b6059-d475-4fff-b550-1785e3e00be0",
   "metadata": {},
   "outputs": [],
   "source": [
    "age_frame = train[['age']].copy()\n",
    "age_encoded = age_bin.fit_transform(age_frame[['age']])\n",
    "age_frame['age_encoded'] = age_encoded"
   ]
  },
  {
   "cell_type": "code",
   "execution_count": null,
   "id": "1e14ce1c-fb9b-4d58-93af-bd503dbc1a7c",
   "metadata": {},
   "outputs": [],
   "source": [
    "age_frame"
   ]
  },
  {
   "cell_type": "code",
   "execution_count": null,
   "id": "9d237b3b-68d1-43da-8be4-ad3df4eaa19f",
   "metadata": {},
   "outputs": [],
   "source": [
    "age_one_hot_encoder = OneHotEncoder()"
   ]
  },
  {
   "cell_type": "code",
   "execution_count": null,
   "id": "b53d2722-6fab-454d-aaaa-dbb369539683",
   "metadata": {},
   "outputs": [],
   "source": [
    "_ = age_one_hot_encoder.fit(age_frame[['age_encoded']])"
   ]
  },
  {
   "cell_type": "code",
   "execution_count": null,
   "id": "18dde412-4a27-489e-a7f4-89e204aa7cf8",
   "metadata": {},
   "outputs": [],
   "source": [
    "one_hot_encoded_ages = pd.DataFrame(\n",
    "    age_one_hot_encoder.transform(age_frame[['age_encoded']]).toarray(),\n",
    "    columns=age_one_hot_encoder.categories_\n",
    ")"
   ]
  },
  {
   "cell_type": "code",
   "execution_count": null,
   "id": "52266ecc-253f-4cd1-8647-ef3a29dcae79",
   "metadata": {},
   "outputs": [],
   "source": [
    "pd.merge(age_frame, one_hot_encoded_ages, left_index=True, right_index=True)"
   ]
  },
  {
   "cell_type": "markdown",
   "id": "4d6d668d-1843-4420-86b1-03f8c245c508",
   "metadata": {},
   "source": [
    "## Escala los datos numéricos"
   ]
  },
  {
   "cell_type": "code",
   "execution_count": null,
   "id": "4bdfa610-42b2-4778-8472-30f0a79ae68c",
   "metadata": {},
   "outputs": [],
   "source": [
    "from sklearn.preprocessing import StandardScaler"
   ]
  },
  {
   "cell_type": "code",
   "execution_count": null,
   "id": "fea31cff-211b-4132-8662-28ae0328c2e7",
   "metadata": {},
   "outputs": [],
   "source": [
    "balance_scaler = StandardScaler()"
   ]
  },
  {
   "cell_type": "code",
   "execution_count": null,
   "id": "ce7e0182-4e50-4d7a-bf13-5e3b2dd6108d",
   "metadata": {},
   "outputs": [],
   "source": [
    "balance_scaled = train[['balance']].copy()"
   ]
  },
  {
   "cell_type": "code",
   "execution_count": null,
   "id": "12672372-318c-4d8b-98ab-24911f903836",
   "metadata": {},
   "outputs": [],
   "source": [
    "balance_scaled['balance_scaled'] = balance_scaler.fit_transform(balance_scaled[['balance']])"
   ]
  },
  {
   "cell_type": "code",
   "execution_count": null,
   "id": "69d12e9f-2c86-4f4f-9461-5d020db4e223",
   "metadata": {},
   "outputs": [],
   "source": [
    "balance_scaled"
   ]
  },
  {
   "cell_type": "markdown",
   "id": "eae0f823-40da-4c62-9d7d-295db3fe57be",
   "metadata": {},
   "source": [
    "## Convierte *\"yes\"* y *\"no\"* a enteros"
   ]
  },
  {
   "cell_type": "code",
   "execution_count": null,
   "id": "e55947b8-48cd-4b37-9c98-b0a62bfaa9f1",
   "metadata": {},
   "outputs": [],
   "source": [
    "from custom_transformers import YesNoTransformer\n",
    "\n",
    "yes_no_transformer = YesNoTransformer()"
   ]
  },
  {
   "cell_type": "code",
   "execution_count": null,
   "id": "9b297aa6-c28c-45d6-ae81-7b8379ac80df",
   "metadata": {},
   "outputs": [],
   "source": [
    "housing_loan_frame = train[['housing', 'loan']].copy()"
   ]
  },
  {
   "cell_type": "code",
   "execution_count": null,
   "id": "5c8b1c35-b468-478b-aa79-bbc4e0299e06",
   "metadata": {},
   "outputs": [],
   "source": [
    "housing_loan_frame[['housing_mapped', 'loan_mapped']] = yes_no_transformer.fit_transform(housing_loan_frame)"
   ]
  },
  {
   "cell_type": "code",
   "execution_count": null,
   "id": "9f217534-e598-413d-8684-ace4c6ec806a",
   "metadata": {},
   "outputs": [],
   "source": [
    "housing_loan_frame"
   ]
  },
  {
   "cell_type": "markdown",
   "id": "e5767393-f128-4d5f-811f-3a4aed6c3f1a",
   "metadata": {},
   "source": [
    "## Managing artifacts with Pipelines"
   ]
  },
  {
   "cell_type": "code",
   "execution_count": null,
   "id": "9e6fb859-9a17-497e-a92d-12b36a88a735",
   "metadata": {},
   "outputs": [],
   "source": [
    "from sklearn.pipeline import Pipeline\n",
    "from sklearn.preprocessing import RobustScaler, MinMaxScaler\n",
    "from sklearn.linear_model import LogisticRegression\n",
    "from sklearn.compose import ColumnTransformer\n",
    "from sklearn.pipeline import FeatureUnion\n",
    "from sklearn.impute import SimpleImputer\n",
    "from sklearn import set_config\n",
    "\n",
    "# One-Hot encode marital status\n",
    "one_hot_encode_categoricals = ColumnTransformer([\n",
    "    (\n",
    "        'one_hot_encode_marital', # Nombre de la transformación\n",
    "        OneHotEncoder(sparse=False), # Transformación a aplicar\n",
    "        [\"marital\", 'contact', 'education', 'poutcome'] # Columnas involucradas\n",
    "    )\n",
    "])\n",
    "\n",
    "# Bin and encode age\n",
    "bin_and_encode_age_pipeline = Pipeline([\n",
    "    ('bin_age', CutTransformer(bins =  [0, 20, 30, 40, 50, 60, 1000], as_str=True)),\n",
    "    ('encode_age', OneHotEncoder()),\n",
    "])\n",
    "\n",
    "bin_and_encode_age = ColumnTransformer([\n",
    "    ('bin_and_encode_age', bin_and_encode_age_pipeline, [\"age\"])\n",
    "])\n",
    "\n",
    "# Scale balance\n",
    "scale_balance = ColumnTransformer([\n",
    "    (\n",
    "        'scale_balance', # Nombre de la transformación\n",
    "        StandardScaler(), # Transformación a aplicar\n",
    "        [\"balance\"] # Columnas involucradas\n",
    "    )\n",
    "])\n",
    "\n",
    "# Map housing and loan\n",
    "map_housing_loan = ColumnTransformer([\n",
    "    (\n",
    "        'map_housing_loan', # Nombre de la transformación\n",
    "        YesNoTransformer(), # Transformación a aplicar\n",
    "        [\"housing\", 'loan', 'default'] # Columnas involucradas\n",
    "    )\n",
    "])\n",
    "\n",
    "passthrough = ColumnTransformer([('passthrough', 'passthrough', ['campaign', \"pdays\", \"duration\", \"previous\"])])\n",
    "\n",
    "# Ensambla todo el pipeline\n",
    "feature_pipeline = Pipeline([\n",
    "    (\n",
    "        'features',\n",
    "        FeatureUnion([\n",
    "            ('one_hot_encode_categoricals', one_hot_encode_categoricals),\n",
    "            ('bin_and_encode_age', bin_and_encode_age),\n",
    "            ('scale_balance', scale_balance),\n",
    "            ('passthrough', passthrough),\n",
    "            ('map_housing_loan', map_housing_loan),\n",
    "        ])\n",
    "    )\n",
    "])"
   ]
  },
  {
   "cell_type": "code",
   "execution_count": null,
   "id": "f82bb976-206d-452e-a833-1722b53fd75a",
   "metadata": {},
   "outputs": [],
   "source": [
    "from sklearn import set_config\n",
    "\n",
    "set_config(display=\"diagram\")\n",
    "feature_pipeline"
   ]
  },
  {
   "cell_type": "code",
   "execution_count": null,
   "id": "fa5186fe-0613-4d07-9485-a29f6b3acc4b",
   "metadata": {},
   "outputs": [],
   "source": [
    "feature_pipeline.fit(train)\n",
    "\n",
    "temp_train = pd.DataFrame(feature_pipeline.transform(train).toarray())\n",
    "temp_train"
   ]
  },
  {
   "cell_type": "code",
   "execution_count": null,
   "id": "490ee998-d5ec-4f86-813e-ccd2a178b33f",
   "metadata": {},
   "outputs": [],
   "source": [
    "train"
   ]
  },
  {
   "cell_type": "markdown",
   "id": "408f733f-b09e-4598-89b9-8e590f660367",
   "metadata": {
    "tags": []
   },
   "source": [
    "## Convierte el *target* a enteros"
   ]
  },
  {
   "cell_type": "code",
   "execution_count": null,
   "id": "a2068b53-061f-4171-8987-ae91bb53a5e1",
   "metadata": {},
   "outputs": [],
   "source": [
    "subscribed_frame = train[['subscribed']].copy()\n",
    "subscribed_frame['encoded'] = np.where(subscribed_frame['subscribed'] == 'yes', 1, 0)\n",
    "\n",
    "subscribed_frame.head(10)"
   ]
  },
  {
   "cell_type": "code",
   "execution_count": null,
   "id": "6d79e69b-7ac1-419b-bb5d-6fb229a69d4a",
   "metadata": {},
   "outputs": [],
   "source": [
    "training_target_encoded = np.where(subscribed_frame['subscribed'] == 'yes', 1, 0)"
   ]
  },
  {
   "cell_type": "markdown",
   "id": "2327e8f3-3527-4529-bc9e-aaaf794fd1fe",
   "metadata": {},
   "source": [
    "## Encuentra los mejores parámetros"
   ]
  },
  {
   "cell_type": "code",
   "execution_count": null,
   "id": "565a1ece-6d14-427e-a1a1-8b361ef400fc",
   "metadata": {},
   "outputs": [],
   "source": [
    "from xgboost import XGBClassifier\n",
    "from sklearn.model_selection import GridSearchCV"
   ]
  },
  {
   "cell_type": "code",
   "execution_count": null,
   "id": "978f149d-0f4d-4dd3-a9b5-cba602108719",
   "metadata": {},
   "outputs": [],
   "source": [
    "search_pipeline = Pipeline([\n",
    "    ('feature_pipeline', feature_pipeline),\n",
    "    ('model', XGBClassifier())\n",
    "])"
   ]
  },
  {
   "cell_type": "code",
   "execution_count": null,
   "id": "4b8f866a-2420-4ef2-98b3-41493b381a66",
   "metadata": {},
   "outputs": [],
   "source": [
    "param_grid = {\n",
    "    \"model__n_estimators\": [100, 200, 300],\n",
    "    'model__max_depth': [4, 5, 6],\n",
    "    'model__subsample': [0.5, 1],\n",
    "    'model__scale_pos_weight': [1, 7.5],\n",
    "    'model__eta': [0.01, 0.1, 0.2, 0.3]\n",
    "}\n",
    "search = GridSearchCV(search_pipeline, param_grid, n_jobs=-1, scoring='precision')\n",
    "_ = search.fit(train, training_target_encoded)"
   ]
  },
  {
   "cell_type": "code",
   "execution_count": null,
   "id": "54dc4fc8-57fe-42a2-a155-261fc31beb08",
   "metadata": {},
   "outputs": [],
   "source": [
    "best_params = {key[7:]:value for key, value in search.best_params_.items()}\n",
    "print(\"Best parameters:\", best_params)\n",
    "print(f\"Best score: {search.best_score_:0.3%}\")"
   ]
  },
  {
   "cell_type": "markdown",
   "id": "b4f02dec-e034-44e1-91dc-3c689d169f13",
   "metadata": {},
   "source": [
    "## Reentrena el mejor modelo con los mejores parámetros\n",
    "\n",
    "A pesar de que puedes utilizar el modelo entrenado usando `search.best_estimator_`, es una buena idea **reentrenar** un modelo nuevo **utilizando los mejores parámetros** recien obtenidos y **todos los datos disponibles para entrenamiento**."
   ]
  },
  {
   "cell_type": "code",
   "execution_count": null,
   "id": "bb088b5d-63cf-4caa-bd99-835e9f77cf63",
   "metadata": {},
   "outputs": [],
   "source": [
    "inference_pipeline = Pipeline([\n",
    "    ('feature_pipeline', feature_pipeline),\n",
    "    ('model', XGBClassifier(**best_params))\n",
    "])\n",
    "_ = inference_pipeline.fit(train, training_target_encoded)"
   ]
  },
  {
   "cell_type": "code",
   "execution_count": null,
   "id": "e75ece78-4bc6-4bd1-ad35-e9905012271d",
   "metadata": {},
   "outputs": [],
   "source": [
    "predicciones = inference_pipeline.predict(train)"
   ]
  },
  {
   "cell_type": "code",
   "execution_count": null,
   "id": "b3b2394b-d838-44bd-b6ed-96320058a9ca",
   "metadata": {},
   "outputs": [],
   "source": [
    "from sklearn.metrics import recall_score, precision_score, accuracy_score, confusion_matrix\n",
    "\n",
    "def evaluate(y_true, y_pred):\n",
    "    recall = recall_score(y_true, y_pred)\n",
    "    precision = precision_score(y_true, y_pred)\n",
    "    accuracy = accuracy_score(y_true, y_pred)\n",
    "\n",
    "    print(confusion_matrix(y_true, y_pred))\n",
    "\n",
    "    print(f\"{recall:0.2%} {accuracy:0.2%} {precision:0.2%}\")"
   ]
  },
  {
   "cell_type": "code",
   "execution_count": null,
   "id": "94d8cd23-e53d-43ba-bd3c-1036312fed81",
   "metadata": {},
   "outputs": [],
   "source": [
    "evaluate(training_target_encoded, predicciones)"
   ]
  },
  {
   "cell_type": "markdown",
   "id": "e4a1d811-487a-4d98-88ee-782a45c1833f",
   "metadata": {},
   "source": [
    "## Evaluando con los datos de prueba"
   ]
  },
  {
   "cell_type": "code",
   "execution_count": null,
   "id": "a11cc994-8fd3-46cd-bde3-3f360be4163d",
   "metadata": {},
   "outputs": [],
   "source": [
    "test = pd.read_csv(\"test.csv\")"
   ]
  },
  {
   "cell_type": "code",
   "execution_count": null,
   "id": "aec6203c-e851-4367-92a6-b67dc1ca5704",
   "metadata": {},
   "outputs": [],
   "source": [
    "predicciones_test = inference_pipeline.predict(test)\n",
    "predicciones_test\n",
    "\n",
    "evaluate(np.where(test['subscribed'] == 'yes', 1, 0), predicciones_test)"
   ]
  },
  {
   "cell_type": "code",
   "execution_count": null,
   "id": "7df9fdc7-043c-46b0-938e-b90b528acd5f",
   "metadata": {},
   "outputs": [],
   "source": [
    "test['subscribed'].value_counts()"
   ]
  },
  {
   "cell_type": "markdown",
   "id": "bb894eec-765f-4f11-ab62-831b2695f52f",
   "metadata": {},
   "source": [
    "## Guardando todo el pipeline"
   ]
  },
  {
   "cell_type": "code",
   "execution_count": null,
   "id": "9367cdab-a111-416c-ada6-61b365a2b56f",
   "metadata": {},
   "outputs": [],
   "source": [
    "import pickle\n",
    "\n",
    "with open(\"lead_scoring.pickle\", \"wb\") as wb:\n",
    "    pickle.dump(inference_pipeline, wb)"
   ]
  },
  {
   "cell_type": "markdown",
   "id": "8fbbbbb6-b5c0-49cf-b755-544a6caf92e5",
   "metadata": {},
   "source": [
    "## ¿Y el lead scoring?"
   ]
  },
  {
   "cell_type": "code",
   "execution_count": null,
   "id": "d9099650-2671-4525-a86a-1a8867b6c93c",
   "metadata": {},
   "outputs": [],
   "source": [
    "with open(\"lead_scoring.pickle\", \"rb\") as rb:\n",
    "    lead_scoring = pickle.load(rb)"
   ]
  },
  {
   "cell_type": "code",
   "execution_count": null,
   "id": "1d667dd7-cd7f-47c5-8834-3a1c5b481398",
   "metadata": {},
   "outputs": [],
   "source": [
    "probabilidades = lead_scoring.predict_proba(test)"
   ]
  },
  {
   "cell_type": "markdown",
   "id": "2502006e-a394-4c9c-9725-7284834325ca",
   "metadata": {},
   "source": [
    " > ℹ️ `predict_proba` regresa un arreglo de tamaño *(n_samples, n_classes)*, en donde las clases están dadas en el orden dictado por `lead_scoring.classes_`"
   ]
  },
  {
   "cell_type": "code",
   "execution_count": null,
   "id": "76b06c0e-f0b8-403b-ae90-2e28b89c5059",
   "metadata": {},
   "outputs": [],
   "source": [
    "lead_scoring.classes_"
   ]
  },
  {
   "cell_type": "code",
   "execution_count": null,
   "id": "4eeada77-db6a-4bb1-b5aa-de1f4d4be3f0",
   "metadata": {},
   "outputs": [],
   "source": [
    "test['score'] = probabilidades[:, 1]"
   ]
  },
  {
   "cell_type": "code",
   "execution_count": null,
   "id": "86adeacf-9c76-48ae-808e-3253259b2465",
   "metadata": {},
   "outputs": [],
   "source": [
    "test[[\"ID\", \"score\"]].sort_values('score', ascending=False)"
   ]
  },
  {
   "cell_type": "markdown",
   "id": "8007cfd0-fae1-48dd-a1cc-d314474fe3f6",
   "metadata": {},
   "source": [
    "#### "
   ]
  }
 ],
 "metadata": {
  "kernelspec": {
   "display_name": "Python 3 (ipykernel)",
   "language": "python",
   "name": "python3"
  },
  "language_info": {
   "codemirror_mode": {
    "name": "ipython",
    "version": 3
   },
   "file_extension": ".py",
   "mimetype": "text/x-python",
   "name": "python",
   "nbconvert_exporter": "python",
   "pygments_lexer": "ipython3",
   "version": "3.8.11"
  }
 },
 "nbformat": 4,
 "nbformat_minor": 5
}
