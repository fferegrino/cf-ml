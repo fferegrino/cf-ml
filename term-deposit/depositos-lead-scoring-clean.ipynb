{
 "cells": [
  {
   "cell_type": "markdown",
   "id": "800d16b7-c69e-404c-9d40-bf085a726f1e",
   "metadata": {},
   "source": [
    "# Rankeo de *leads*.\n",
    "\n",
    "Imagina que trabajas para un banco y este banco ofrece inversiones a plazo fijo a sus clientes. Como parte de una campaña para ampliar la cantidad de inversiones a plazo fijo que sus clientes han adquirido, la compañía utiliza diversos métodos de contacto, entre los cuales el teléfono es todavía una de las formas más efectivas.\n",
    "\n",
    "Al banco le encantaría llamar a todos sus clientes, sin embargo, esto no es posible porque el call center no se da abasto y es importante priorizar a quienes hay que llamar para garantizar el máximo número de conversiones.\n",
    "\n",
    "**Tu tarea es encontrar una forma de clasificar y rankear (ordenar) las llamadas de tal modo que los agentes del centro de llamadas, llame primero a quien tiene más probabilidades de depositar su dinero.**"
   ]
  },
  {
   "cell_type": "markdown",
   "id": "ad9e3692-8d7e-4ad1-8ef5-4542513807f1",
   "metadata": {},
   "source": [
    "![](https://ik.imagekit.io/thatcsharpguy/projects/codigo-facilito/machine-learning/deposito-header.jpg?ik-sdk-version=javascript-1.4.3&updatedAt=1669051927251)"
   ]
  },
  {
   "cell_type": "markdown",
   "id": "4094df7c-2e54-4040-ab0d-79536ee22e80",
   "metadata": {},
   "source": [
    "## Código\n",
    "\n",
    "### [https://github.com/fferegrino/cf-ml/tree/main/term-deposit](https://github.com/fferegrino/cf-ml/tree/main/term-deposit)\n",
    "\n",
    "## Dataset\n",
    "\n",
    "Este dataset es una versión modificada de [Term Deposit Prediction Data Set](https://www.kaggle.com/datasets/brajeshmohapatra/term-deposit-prediction-data-set) disponible en Kaggle.\n",
    "\n"
   ]
  },
  {
   "cell_type": "markdown",
   "id": "384e2660-3596-4c51-bd3f-1d9612395346",
   "metadata": {},
   "source": [
    "## Solución  \n",
    "\n",
    "La empresa tiene información de clientes anteriores que en algún momento han sido contactados en el pasado comprar la inversión en el pasado sin importar si lo compraron o no. Esta información está contenida en el archivo `train.csv`.\n",
    "\n",
    "Así mismo, para ayudarte hay un archivo llamado `test.csv` con datos de otros clientes pero que deberás usar para probar tus resultados.\n",
    "\n",
    "**Como no tenemos más información más allá de si un cliente compró o no compró, vamos a utilizar las probabilidades que nos de un modelo de clasificación para decidir quién tiene más probabilidades de convertir**.\n",
    "\n",
    "Este problema se conoce como *lead scoring*."
   ]
  },
  {
   "cell_type": "markdown",
   "id": "07b4a7cb-65d6-4c4e-bc80-edbe374f7134",
   "metadata": {},
   "source": [
    "### Descripción de los datos\n",
    "\n",
    "| Variable     | Definición                                                              |\n",
    "|--------------|-------------------------------------------------------------------------|\n",
    "| *ID*         | Identificador único del cliente                                         |\n",
    "| *age*        | Edad del cliente                                                        |\n",
    "| *job*        | Trabajo que desempeña el cliente                                        |\n",
    "| *marital*    | Estado marital del cliente                                              |\n",
    "| *education*  | Nivel de educación del cliente                                          |\n",
    "| *default*    | Especifica si el cliente tiene una deuda no pagada                      |\n",
    "| *balance*    | Saldo promedio anual del cliente                                        |\n",
    "| *housing*    | Indica si el cliente tiene una hipoteca con el banco                    |\n",
    "| *loan*       | Indica si el cliente tiene un préstamo personal                         |\n",
    "| *contact*    | El medio por el cual se ha estado contactando al cliente                |\n",
    "| *month*      | El mes en el que se contactó al cliente                                 |\n",
    "| *day*        | El día en el que se contactó al cliente                                 |\n",
    "| *duration*   | Duración del contacto con el cliente                                    |\n",
    "| *campaign*   | El número de veces que el banco se ha puesto en contacto con el cliente |\n",
    "| *pdays*      | Número de días que han transcurrido desde el último contacto            |\n",
    "| *previous*   | Número de veces que se ha contactado al cliente antes de esta campaña   |\n",
    "| *poutcome*   | Si el cliente ha comprado productos como resutlado de la campaña previa |\n",
    "| *subscribed* | Si el cliente se suscribió como resultado de la campaña más reciente    |\n"
   ]
  }
 ],
 "metadata": {
  "kernelspec": {
   "display_name": "Python 3 (ipykernel)",
   "language": "python",
   "name": "python3"
  },
  "language_info": {
   "codemirror_mode": {
    "name": "ipython",
    "version": 3
   },
   "file_extension": ".py",
   "mimetype": "text/x-python",
   "name": "python",
   "nbconvert_exporter": "python",
   "pygments_lexer": "ipython3",
   "version": "3.9.12"
  }
 },
 "nbformat": 4,
 "nbformat_minor": 5
}
